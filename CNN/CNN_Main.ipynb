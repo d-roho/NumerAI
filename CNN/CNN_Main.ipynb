{
  "cells": [
    {
      "cell_type": "markdown",
      "source": [
        "# Covulutional Neural Networks Training with Hyperparameter Tuning on All Feature Dataset  "
      ],
      "metadata": {
        "id": "SKIuiqc7jjWv"
      },
      "id": "SKIuiqc7jjWv"
    },
    {
      "cell_type": "code",
      "execution_count": null,
      "id": "76ec7f82",
      "metadata": {
        "id": "76ec7f82",
        "tags": []
      },
      "outputs": [],
      "source": [
        "enable_wandb = True\n",
        "use_gpu = True"
      ]
    },
    {
      "cell_type": "code",
      "execution_count": null,
      "id": "039fbc39",
      "metadata": {
        "id": "039fbc39",
        "tags": []
      },
      "outputs": [],
      "source": [
        "# Install torch\n",
        "!pip install torch -q"
      ]
    },
    {
      "cell_type": "code",
      "execution_count": null,
      "id": "88cbf5ca-3a6a-48ab-8561-a2b5580ff45f",
      "metadata": {
        "id": "88cbf5ca-3a6a-48ab-8561-a2b5580ff45f",
        "outputId": "2a4ba48d-79df-4d3f-c84c-a715066b9912",
        "tags": [],
        "colab": {
          "base_uri": "https://localhost:8080/"
        }
      },
      "outputs": [
        {
          "output_type": "stream",
          "name": "stdout",
          "text": [
            "Collecting torchinfo\n",
            "  Downloading torchinfo-1.8.0-py3-none-any.whl (23 kB)\n",
            "Installing collected packages: torchinfo\n",
            "Successfully installed torchinfo-1.8.0\n"
          ]
        }
      ],
      "source": [
        "# Install torchinfo\n",
        "!pip install torchinfo -q"
      ]
    },
    {
      "cell_type": "code",
      "execution_count": null,
      "id": "6b6c907a-616c-4c1d-a7a3-1fc77d80f3c1",
      "metadata": {
        "id": "6b6c907a-616c-4c1d-a7a3-1fc77d80f3c1",
        "tags": [],
        "colab": {
          "base_uri": "https://localhost:8080/"
        },
        "outputId": "7d4618d2-7562-42ac-9024-d0915e5f5607"
      },
      "outputs": [
        {
          "output_type": "stream",
          "name": "stdout",
          "text": [
            "\u001b[2K     \u001b[90m━━━━━━━━━━━━━━━━━━━━━━━━━━━━━━━━━━━━━━━━\u001b[0m \u001b[32m34.4/34.4 MB\u001b[0m \u001b[31m36.3 MB/s\u001b[0m eta \u001b[36m0:00:00\u001b[0m\n",
            "\u001b[?25h"
          ]
        }
      ],
      "source": [
        "# Install dependencies\n",
        "!pip install -q numerapi pandas pyarrow matplotlib lightgbm scikit-learn cloudpickle scipy==1.10.1"
      ]
    },
    {
      "cell_type": "code",
      "execution_count": null,
      "id": "d4e2899b",
      "metadata": {
        "colab": {
          "base_uri": "https://localhost:8080/"
        },
        "id": "d4e2899b",
        "outputId": "523c31ad-8e6c-4bd9-89eb-d59f757c3cf0",
        "tags": []
      },
      "outputs": [
        {
          "output_type": "stream",
          "name": "stdout",
          "text": [
            "GPU is available!\n"
          ]
        }
      ],
      "source": [
        "# Import necessary libraries and packages\n",
        "import torch\n",
        "import torch.nn as nn\n",
        "import torch.optim as optim\n",
        "from torch.utils.data import DataLoader\n",
        "import pandas as pd\n",
        "import json\n",
        "from sklearn.model_selection import train_test_split\n",
        "from torch.utils.data import TensorDataset\n",
        "from torchinfo import summary\n",
        "\n",
        "# Check GPU status\n",
        "if torch.cuda.is_available():\n",
        " print(\"GPU is available!\")\n",
        "else:\n",
        " print(\"GPU is not available.\")"
      ]
    },
    {
      "cell_type": "code",
      "execution_count": null,
      "id": "12fbab43",
      "metadata": {
        "colab": {
          "base_uri": "https://localhost:8080/"
        },
        "id": "12fbab43",
        "outputId": "7a277d24-d677-4c63-e7c7-b4f3bb785995",
        "tags": []
      },
      "outputs": [
        {
          "output_type": "execute_result",
          "data": {
            "text/plain": [
              "True"
            ]
          },
          "metadata": {},
          "execution_count": 4
        }
      ],
      "source": [
        "gpu_available = torch.cuda.is_available()\n",
        "gpu_available"
      ]
    },
    {
      "cell_type": "code",
      "execution_count": null,
      "id": "1a56376f-6970-4952-afff-e3711f913997",
      "metadata": {
        "colab": {
          "base_uri": "https://localhost:8080/"
        },
        "id": "1a56376f-6970-4952-afff-e3711f913997",
        "outputId": "9f3a6223-650c-4032-d917-88e42e477118",
        "tags": []
      },
      "outputs": [
        {
          "output_type": "stream",
          "name": "stdout",
          "text": [
            "Available versions:\n",
            " ['v4.3', 'v4.1', 'v4.2', 'v4']\n",
            "availbable v4.3 files:\n",
            " ['v4.3/features.json', 'v4.3/live_benchmark_models.parquet', 'v4.3/live_example_preds.csv', 'v4.3/live_example_preds.parquet', 'v4.3/live_int8.parquet', 'v4.3/meta_model.parquet', 'v4.3/train_benchmark_models.parquet', 'v4.3/train_int8.parquet', 'v4.3/validation_benchmark_models.parquet', 'v4.3/validation_example_preds.csv', 'v4.3/validation_example_preds.parquet', 'v4.3/validation_int8.parquet']\n"
          ]
        }
      ],
      "source": [
        "# Initialize NumerAPI - the official Python API client for Numerai\n",
        "from numerapi import NumerAPI\n",
        "napi = NumerAPI()\n",
        "\n",
        "# List the datasets and available versions\n",
        "all_datasets = napi.list_datasets()\n",
        "dataset_versions = list(set(d.split('/')[0] for d in all_datasets))\n",
        "print(\"Available versions:\\n\", dataset_versions)\n",
        "\n",
        "# Set data version to one of the latest datasets\n",
        "DATA_VERSION = \"v4.3\"\n",
        "\n",
        "# Print all files available for download for our version\n",
        "current_version_files = [f for f in all_datasets if f.startswith(DATA_VERSION)]\n",
        "print(\"availbable\", DATA_VERSION, \"files:\\n\", current_version_files)"
      ]
    },
    {
      "cell_type": "code",
      "execution_count": null,
      "id": "881c954e-8c5a-4c5d-a9dd-985263b0c615",
      "metadata": {
        "colab": {
          "base_uri": "https://localhost:8080/"
        },
        "id": "881c954e-8c5a-4c5d-a9dd-985263b0c615",
        "outputId": "24be9a61-c8bb-4b5f-a7fa-faf829f7997e",
        "tags": []
      },
      "outputs": [
        {
          "output_type": "stream",
          "name": "stderr",
          "text": [
            "v4.3/features.json: 1.12MB [00:00, 1.28MB/s]                           "
          ]
        },
        {
          "output_type": "stream",
          "name": "stdout",
          "text": [
            "feature_stats 2376\n",
            "feature_sets 17\n",
            "targets 41\n"
          ]
        },
        {
          "output_type": "stream",
          "name": "stderr",
          "text": [
            "\n"
          ]
        }
      ],
      "source": [
        "# Download the feature metadata file\n",
        "napi.download_dataset(f\"{DATA_VERSION}/features.json\");\n",
        "\n",
        "# Read the metadata and display\n",
        "feature_metadata = json.load(open(f\"{DATA_VERSION}/features.json\"))\n",
        "for metadata in feature_metadata:\n",
        "  print(metadata, len(feature_metadata[metadata]))"
      ]
    },
    {
      "cell_type": "code",
      "execution_count": null,
      "id": "c4b9b8d2-dac3-497c-9fdf-82d6f619614b",
      "metadata": {
        "colab": {
          "base_uri": "https://localhost:8080/"
        },
        "id": "c4b9b8d2-dac3-497c-9fdf-82d6f619614b",
        "outputId": "c2564a58-ba71-479c-93c3-9fd9c6cea4b4",
        "tags": []
      },
      "outputs": [
        {
          "output_type": "stream",
          "name": "stdout",
          "text": [
            "small 42\n",
            "medium 705\n",
            "all 2376\n"
          ]
        }
      ],
      "source": [
        "# Check the number of features for each feature set\n",
        "feature_sets = feature_metadata[\"feature_sets\"]\n",
        "for feature_set in [\"small\", \"medium\", \"all\"]:\n",
        "  print(feature_set, len(feature_sets[feature_set]))"
      ]
    },
    {
      "cell_type": "code",
      "execution_count": null,
      "id": "3829556e-fdbb-49b7-9a3e-8d83657bc117",
      "metadata": {
        "colab": {
          "base_uri": "https://localhost:8080/",
          "height": 304
        },
        "id": "3829556e-fdbb-49b7-9a3e-8d83657bc117",
        "outputId": "49a96ec2-3634-4207-f00e-3a760ecad29d",
        "tags": []
      },
      "outputs": [
        {
          "output_type": "stream",
          "name": "stderr",
          "text": [
            "v4.3/train_int8.parquet: 2.09GB [02:32, 13.7MB/s]                            \n"
          ]
        },
        {
          "output_type": "execute_result",
          "data": {
            "text/plain": [
              "                   era  target  feature_aaronic_unexampled_arguer  \\\n",
              "id                                                                  \n",
              "n003bba8a98662e4  0001    0.25                                  2   \n",
              "n003bee128c2fcfc  0001    0.75                                  3   \n",
              "n0048ac83aff7194  0001    0.25                                  3   \n",
              "n00691bec80d3e02  0001    0.75                                  1   \n",
              "n00b8720a2fdc4f2  0001    0.50                                  1   \n",
              "\n",
              "                  feature_abactinal_inventable_luminescence  \\\n",
              "id                                                            \n",
              "n003bba8a98662e4                                          2   \n",
              "n003bee128c2fcfc                                          2   \n",
              "n0048ac83aff7194                                          2   \n",
              "n00691bec80d3e02                                          2   \n",
              "n00b8720a2fdc4f2                                          2   \n",
              "\n",
              "                  feature_abating_unadaptable_weakfish  \\\n",
              "id                                                       \n",
              "n003bba8a98662e4                                     0   \n",
              "n003bee128c2fcfc                                     4   \n",
              "n0048ac83aff7194                                     4   \n",
              "n00691bec80d3e02                                     1   \n",
              "n00b8720a2fdc4f2                                     0   \n",
              "\n",
              "                  feature_abdominal_subtriplicate_fin  \\\n",
              "id                                                      \n",
              "n003bba8a98662e4                                    2   \n",
              "n003bee128c2fcfc                                    2   \n",
              "n0048ac83aff7194                                    2   \n",
              "n00691bec80d3e02                                    2   \n",
              "n00b8720a2fdc4f2                                    2   \n",
              "\n",
              "                  feature_abducent_unbeneficed_lithophyte  \\\n",
              "id                                                          \n",
              "n003bba8a98662e4                                        3   \n",
              "n003bee128c2fcfc                                        1   \n",
              "n0048ac83aff7194                                        2   \n",
              "n00691bec80d3e02                                        2   \n",
              "n00b8720a2fdc4f2                                        1   \n",
              "\n",
              "                  feature_abducted_euphonic_pipewort  \\\n",
              "id                                                     \n",
              "n003bba8a98662e4                                   2   \n",
              "n003bee128c2fcfc                                   2   \n",
              "n0048ac83aff7194                                   2   \n",
              "n00691bec80d3e02                                   2   \n",
              "n00b8720a2fdc4f2                                   2   \n",
              "\n",
              "                  feature_ablest_mauritanian_elding  \\\n",
              "id                                                    \n",
              "n003bba8a98662e4                                  4   \n",
              "n003bee128c2fcfc                                  2   \n",
              "n0048ac83aff7194                                  4   \n",
              "n00691bec80d3e02                                  4   \n",
              "n00b8720a2fdc4f2                                  2   \n",
              "\n",
              "                  feature_abreast_viscoelastic_commander  ...  \\\n",
              "id                                                        ...   \n",
              "n003bba8a98662e4                                       2  ...   \n",
              "n003bee128c2fcfc                                       2  ...   \n",
              "n0048ac83aff7194                                       4  ...   \n",
              "n00691bec80d3e02                                       2  ...   \n",
              "n00b8720a2fdc4f2                                       3  ...   \n",
              "\n",
              "                  feature_yelled_hysteretic_eath  \\\n",
              "id                                                 \n",
              "n003bba8a98662e4                               2   \n",
              "n003bee128c2fcfc                               3   \n",
              "n0048ac83aff7194                               1   \n",
              "n00691bec80d3e02                               2   \n",
              "n00b8720a2fdc4f2                               1   \n",
              "\n",
              "                  feature_yokelish_metapsychological_lunt  \\\n",
              "id                                                          \n",
              "n003bba8a98662e4                                        2   \n",
              "n003bee128c2fcfc                                        2   \n",
              "n0048ac83aff7194                                        2   \n",
              "n00691bec80d3e02                                        2   \n",
              "n00b8720a2fdc4f2                                        2   \n",
              "\n",
              "                  feature_yorkist_authenticated_lotted  \\\n",
              "id                                                       \n",
              "n003bba8a98662e4                                     2   \n",
              "n003bee128c2fcfc                                     2   \n",
              "n0048ac83aff7194                                     2   \n",
              "n00691bec80d3e02                                     2   \n",
              "n00b8720a2fdc4f2                                     2   \n",
              "\n",
              "                  feature_yoruban_purplish_directoire  \\\n",
              "id                                                      \n",
              "n003bba8a98662e4                                    2   \n",
              "n003bee128c2fcfc                                    2   \n",
              "n0048ac83aff7194                                    2   \n",
              "n00691bec80d3e02                                    2   \n",
              "n00b8720a2fdc4f2                                    2   \n",
              "\n",
              "                  feature_yoruban_unapplied_tawse  \\\n",
              "id                                                  \n",
              "n003bba8a98662e4                                2   \n",
              "n003bee128c2fcfc                                2   \n",
              "n0048ac83aff7194                                2   \n",
              "n00691bec80d3e02                                2   \n",
              "n00b8720a2fdc4f2                                2   \n",
              "\n",
              "                  feature_zincky_unseemly_butt  \\\n",
              "id                                               \n",
              "n003bba8a98662e4                             2   \n",
              "n003bee128c2fcfc                             2   \n",
              "n0048ac83aff7194                             2   \n",
              "n00691bec80d3e02                             2   \n",
              "n00b8720a2fdc4f2                             2   \n",
              "\n",
              "                  feature_zincoid_peccant_greywacke  \\\n",
              "id                                                    \n",
              "n003bba8a98662e4                                  2   \n",
              "n003bee128c2fcfc                                  2   \n",
              "n0048ac83aff7194                                  2   \n",
              "n00691bec80d3e02                                  2   \n",
              "n00b8720a2fdc4f2                                  2   \n",
              "\n",
              "                  feature_zoophoric_underglaze_algin  \\\n",
              "id                                                     \n",
              "n003bba8a98662e4                                   2   \n",
              "n003bee128c2fcfc                                   2   \n",
              "n0048ac83aff7194                                   2   \n",
              "n00691bec80d3e02                                   2   \n",
              "n00b8720a2fdc4f2                                   2   \n",
              "\n",
              "                  feature_zygodactyl_exponible_lathi  \\\n",
              "id                                                     \n",
              "n003bba8a98662e4                                   3   \n",
              "n003bee128c2fcfc                                   1   \n",
              "n0048ac83aff7194                                   2   \n",
              "n00691bec80d3e02                                   2   \n",
              "n00b8720a2fdc4f2                                   1   \n",
              "\n",
              "                  feature_zymotic_roundabout_figuration  \n",
              "id                                                       \n",
              "n003bba8a98662e4                                      2  \n",
              "n003bee128c2fcfc                                      2  \n",
              "n0048ac83aff7194                                      2  \n",
              "n00691bec80d3e02                                      2  \n",
              "n00b8720a2fdc4f2                                      2  \n",
              "\n",
              "[5 rows x 2378 columns]"
            ],
            "text/html": [
              "\n",
              "  <div id=\"df-8a1a1251-783a-4da9-b4b2-8c76607491e7\" class=\"colab-df-container\">\n",
              "    <div>\n",
              "<style scoped>\n",
              "    .dataframe tbody tr th:only-of-type {\n",
              "        vertical-align: middle;\n",
              "    }\n",
              "\n",
              "    .dataframe tbody tr th {\n",
              "        vertical-align: top;\n",
              "    }\n",
              "\n",
              "    .dataframe thead th {\n",
              "        text-align: right;\n",
              "    }\n",
              "</style>\n",
              "<table border=\"1\" class=\"dataframe\">\n",
              "  <thead>\n",
              "    <tr style=\"text-align: right;\">\n",
              "      <th></th>\n",
              "      <th>era</th>\n",
              "      <th>target</th>\n",
              "      <th>feature_aaronic_unexampled_arguer</th>\n",
              "      <th>feature_abactinal_inventable_luminescence</th>\n",
              "      <th>feature_abating_unadaptable_weakfish</th>\n",
              "      <th>feature_abdominal_subtriplicate_fin</th>\n",
              "      <th>feature_abducent_unbeneficed_lithophyte</th>\n",
              "      <th>feature_abducted_euphonic_pipewort</th>\n",
              "      <th>feature_ablest_mauritanian_elding</th>\n",
              "      <th>feature_abreast_viscoelastic_commander</th>\n",
              "      <th>...</th>\n",
              "      <th>feature_yelled_hysteretic_eath</th>\n",
              "      <th>feature_yokelish_metapsychological_lunt</th>\n",
              "      <th>feature_yorkist_authenticated_lotted</th>\n",
              "      <th>feature_yoruban_purplish_directoire</th>\n",
              "      <th>feature_yoruban_unapplied_tawse</th>\n",
              "      <th>feature_zincky_unseemly_butt</th>\n",
              "      <th>feature_zincoid_peccant_greywacke</th>\n",
              "      <th>feature_zoophoric_underglaze_algin</th>\n",
              "      <th>feature_zygodactyl_exponible_lathi</th>\n",
              "      <th>feature_zymotic_roundabout_figuration</th>\n",
              "    </tr>\n",
              "    <tr>\n",
              "      <th>id</th>\n",
              "      <th></th>\n",
              "      <th></th>\n",
              "      <th></th>\n",
              "      <th></th>\n",
              "      <th></th>\n",
              "      <th></th>\n",
              "      <th></th>\n",
              "      <th></th>\n",
              "      <th></th>\n",
              "      <th></th>\n",
              "      <th></th>\n",
              "      <th></th>\n",
              "      <th></th>\n",
              "      <th></th>\n",
              "      <th></th>\n",
              "      <th></th>\n",
              "      <th></th>\n",
              "      <th></th>\n",
              "      <th></th>\n",
              "      <th></th>\n",
              "      <th></th>\n",
              "    </tr>\n",
              "  </thead>\n",
              "  <tbody>\n",
              "    <tr>\n",
              "      <th>n003bba8a98662e4</th>\n",
              "      <td>0001</td>\n",
              "      <td>0.25</td>\n",
              "      <td>2</td>\n",
              "      <td>2</td>\n",
              "      <td>0</td>\n",
              "      <td>2</td>\n",
              "      <td>3</td>\n",
              "      <td>2</td>\n",
              "      <td>4</td>\n",
              "      <td>2</td>\n",
              "      <td>...</td>\n",
              "      <td>2</td>\n",
              "      <td>2</td>\n",
              "      <td>2</td>\n",
              "      <td>2</td>\n",
              "      <td>2</td>\n",
              "      <td>2</td>\n",
              "      <td>2</td>\n",
              "      <td>2</td>\n",
              "      <td>3</td>\n",
              "      <td>2</td>\n",
              "    </tr>\n",
              "    <tr>\n",
              "      <th>n003bee128c2fcfc</th>\n",
              "      <td>0001</td>\n",
              "      <td>0.75</td>\n",
              "      <td>3</td>\n",
              "      <td>2</td>\n",
              "      <td>4</td>\n",
              "      <td>2</td>\n",
              "      <td>1</td>\n",
              "      <td>2</td>\n",
              "      <td>2</td>\n",
              "      <td>2</td>\n",
              "      <td>...</td>\n",
              "      <td>3</td>\n",
              "      <td>2</td>\n",
              "      <td>2</td>\n",
              "      <td>2</td>\n",
              "      <td>2</td>\n",
              "      <td>2</td>\n",
              "      <td>2</td>\n",
              "      <td>2</td>\n",
              "      <td>1</td>\n",
              "      <td>2</td>\n",
              "    </tr>\n",
              "    <tr>\n",
              "      <th>n0048ac83aff7194</th>\n",
              "      <td>0001</td>\n",
              "      <td>0.25</td>\n",
              "      <td>3</td>\n",
              "      <td>2</td>\n",
              "      <td>4</td>\n",
              "      <td>2</td>\n",
              "      <td>2</td>\n",
              "      <td>2</td>\n",
              "      <td>4</td>\n",
              "      <td>4</td>\n",
              "      <td>...</td>\n",
              "      <td>1</td>\n",
              "      <td>2</td>\n",
              "      <td>2</td>\n",
              "      <td>2</td>\n",
              "      <td>2</td>\n",
              "      <td>2</td>\n",
              "      <td>2</td>\n",
              "      <td>2</td>\n",
              "      <td>2</td>\n",
              "      <td>2</td>\n",
              "    </tr>\n",
              "    <tr>\n",
              "      <th>n00691bec80d3e02</th>\n",
              "      <td>0001</td>\n",
              "      <td>0.75</td>\n",
              "      <td>1</td>\n",
              "      <td>2</td>\n",
              "      <td>1</td>\n",
              "      <td>2</td>\n",
              "      <td>2</td>\n",
              "      <td>2</td>\n",
              "      <td>4</td>\n",
              "      <td>2</td>\n",
              "      <td>...</td>\n",
              "      <td>2</td>\n",
              "      <td>2</td>\n",
              "      <td>2</td>\n",
              "      <td>2</td>\n",
              "      <td>2</td>\n",
              "      <td>2</td>\n",
              "      <td>2</td>\n",
              "      <td>2</td>\n",
              "      <td>2</td>\n",
              "      <td>2</td>\n",
              "    </tr>\n",
              "    <tr>\n",
              "      <th>n00b8720a2fdc4f2</th>\n",
              "      <td>0001</td>\n",
              "      <td>0.50</td>\n",
              "      <td>1</td>\n",
              "      <td>2</td>\n",
              "      <td>0</td>\n",
              "      <td>2</td>\n",
              "      <td>1</td>\n",
              "      <td>2</td>\n",
              "      <td>2</td>\n",
              "      <td>3</td>\n",
              "      <td>...</td>\n",
              "      <td>1</td>\n",
              "      <td>2</td>\n",
              "      <td>2</td>\n",
              "      <td>2</td>\n",
              "      <td>2</td>\n",
              "      <td>2</td>\n",
              "      <td>2</td>\n",
              "      <td>2</td>\n",
              "      <td>1</td>\n",
              "      <td>2</td>\n",
              "    </tr>\n",
              "  </tbody>\n",
              "</table>\n",
              "<p>5 rows × 2378 columns</p>\n",
              "</div>\n",
              "    <div class=\"colab-df-buttons\">\n",
              "\n",
              "  <div class=\"colab-df-container\">\n",
              "    <button class=\"colab-df-convert\" onclick=\"convertToInteractive('df-8a1a1251-783a-4da9-b4b2-8c76607491e7')\"\n",
              "            title=\"Convert this dataframe to an interactive table.\"\n",
              "            style=\"display:none;\">\n",
              "\n",
              "  <svg xmlns=\"http://www.w3.org/2000/svg\" height=\"24px\" viewBox=\"0 -960 960 960\">\n",
              "    <path d=\"M120-120v-720h720v720H120Zm60-500h600v-160H180v160Zm220 220h160v-160H400v160Zm0 220h160v-160H400v160ZM180-400h160v-160H180v160Zm440 0h160v-160H620v160ZM180-180h160v-160H180v160Zm440 0h160v-160H620v160Z\"/>\n",
              "  </svg>\n",
              "    </button>\n",
              "\n",
              "  <style>\n",
              "    .colab-df-container {\n",
              "      display:flex;\n",
              "      gap: 12px;\n",
              "    }\n",
              "\n",
              "    .colab-df-convert {\n",
              "      background-color: #E8F0FE;\n",
              "      border: none;\n",
              "      border-radius: 50%;\n",
              "      cursor: pointer;\n",
              "      display: none;\n",
              "      fill: #1967D2;\n",
              "      height: 32px;\n",
              "      padding: 0 0 0 0;\n",
              "      width: 32px;\n",
              "    }\n",
              "\n",
              "    .colab-df-convert:hover {\n",
              "      background-color: #E2EBFA;\n",
              "      box-shadow: 0px 1px 2px rgba(60, 64, 67, 0.3), 0px 1px 3px 1px rgba(60, 64, 67, 0.15);\n",
              "      fill: #174EA6;\n",
              "    }\n",
              "\n",
              "    .colab-df-buttons div {\n",
              "      margin-bottom: 4px;\n",
              "    }\n",
              "\n",
              "    [theme=dark] .colab-df-convert {\n",
              "      background-color: #3B4455;\n",
              "      fill: #D2E3FC;\n",
              "    }\n",
              "\n",
              "    [theme=dark] .colab-df-convert:hover {\n",
              "      background-color: #434B5C;\n",
              "      box-shadow: 0px 1px 3px 1px rgba(0, 0, 0, 0.15);\n",
              "      filter: drop-shadow(0px 1px 2px rgba(0, 0, 0, 0.3));\n",
              "      fill: #FFFFFF;\n",
              "    }\n",
              "  </style>\n",
              "\n",
              "    <script>\n",
              "      const buttonEl =\n",
              "        document.querySelector('#df-8a1a1251-783a-4da9-b4b2-8c76607491e7 button.colab-df-convert');\n",
              "      buttonEl.style.display =\n",
              "        google.colab.kernel.accessAllowed ? 'block' : 'none';\n",
              "\n",
              "      async function convertToInteractive(key) {\n",
              "        const element = document.querySelector('#df-8a1a1251-783a-4da9-b4b2-8c76607491e7');\n",
              "        const dataTable =\n",
              "          await google.colab.kernel.invokeFunction('convertToInteractive',\n",
              "                                                    [key], {});\n",
              "        if (!dataTable) return;\n",
              "\n",
              "        const docLinkHtml = 'Like what you see? Visit the ' +\n",
              "          '<a target=\"_blank\" href=https://colab.research.google.com/notebooks/data_table.ipynb>data table notebook</a>'\n",
              "          + ' to learn more about interactive tables.';\n",
              "        element.innerHTML = '';\n",
              "        dataTable['output_type'] = 'display_data';\n",
              "        await google.colab.output.renderOutput(dataTable, element);\n",
              "        const docLink = document.createElement('div');\n",
              "        docLink.innerHTML = docLinkHtml;\n",
              "        element.appendChild(docLink);\n",
              "      }\n",
              "    </script>\n",
              "  </div>\n",
              "\n",
              "\n",
              "<div id=\"df-e2183dc7-f339-443e-b15d-c7deb18a0aa1\">\n",
              "  <button class=\"colab-df-quickchart\" onclick=\"quickchart('df-e2183dc7-f339-443e-b15d-c7deb18a0aa1')\"\n",
              "            title=\"Suggest charts\"\n",
              "            style=\"display:none;\">\n",
              "\n",
              "<svg xmlns=\"http://www.w3.org/2000/svg\" height=\"24px\"viewBox=\"0 0 24 24\"\n",
              "     width=\"24px\">\n",
              "    <g>\n",
              "        <path d=\"M19 3H5c-1.1 0-2 .9-2 2v14c0 1.1.9 2 2 2h14c1.1 0 2-.9 2-2V5c0-1.1-.9-2-2-2zM9 17H7v-7h2v7zm4 0h-2V7h2v10zm4 0h-2v-4h2v4z\"/>\n",
              "    </g>\n",
              "</svg>\n",
              "  </button>\n",
              "\n",
              "<style>\n",
              "  .colab-df-quickchart {\n",
              "      --bg-color: #E8F0FE;\n",
              "      --fill-color: #1967D2;\n",
              "      --hover-bg-color: #E2EBFA;\n",
              "      --hover-fill-color: #174EA6;\n",
              "      --disabled-fill-color: #AAA;\n",
              "      --disabled-bg-color: #DDD;\n",
              "  }\n",
              "\n",
              "  [theme=dark] .colab-df-quickchart {\n",
              "      --bg-color: #3B4455;\n",
              "      --fill-color: #D2E3FC;\n",
              "      --hover-bg-color: #434B5C;\n",
              "      --hover-fill-color: #FFFFFF;\n",
              "      --disabled-bg-color: #3B4455;\n",
              "      --disabled-fill-color: #666;\n",
              "  }\n",
              "\n",
              "  .colab-df-quickchart {\n",
              "    background-color: var(--bg-color);\n",
              "    border: none;\n",
              "    border-radius: 50%;\n",
              "    cursor: pointer;\n",
              "    display: none;\n",
              "    fill: var(--fill-color);\n",
              "    height: 32px;\n",
              "    padding: 0;\n",
              "    width: 32px;\n",
              "  }\n",
              "\n",
              "  .colab-df-quickchart:hover {\n",
              "    background-color: var(--hover-bg-color);\n",
              "    box-shadow: 0 1px 2px rgba(60, 64, 67, 0.3), 0 1px 3px 1px rgba(60, 64, 67, 0.15);\n",
              "    fill: var(--button-hover-fill-color);\n",
              "  }\n",
              "\n",
              "  .colab-df-quickchart-complete:disabled,\n",
              "  .colab-df-quickchart-complete:disabled:hover {\n",
              "    background-color: var(--disabled-bg-color);\n",
              "    fill: var(--disabled-fill-color);\n",
              "    box-shadow: none;\n",
              "  }\n",
              "\n",
              "  .colab-df-spinner {\n",
              "    border: 2px solid var(--fill-color);\n",
              "    border-color: transparent;\n",
              "    border-bottom-color: var(--fill-color);\n",
              "    animation:\n",
              "      spin 1s steps(1) infinite;\n",
              "  }\n",
              "\n",
              "  @keyframes spin {\n",
              "    0% {\n",
              "      border-color: transparent;\n",
              "      border-bottom-color: var(--fill-color);\n",
              "      border-left-color: var(--fill-color);\n",
              "    }\n",
              "    20% {\n",
              "      border-color: transparent;\n",
              "      border-left-color: var(--fill-color);\n",
              "      border-top-color: var(--fill-color);\n",
              "    }\n",
              "    30% {\n",
              "      border-color: transparent;\n",
              "      border-left-color: var(--fill-color);\n",
              "      border-top-color: var(--fill-color);\n",
              "      border-right-color: var(--fill-color);\n",
              "    }\n",
              "    40% {\n",
              "      border-color: transparent;\n",
              "      border-right-color: var(--fill-color);\n",
              "      border-top-color: var(--fill-color);\n",
              "    }\n",
              "    60% {\n",
              "      border-color: transparent;\n",
              "      border-right-color: var(--fill-color);\n",
              "    }\n",
              "    80% {\n",
              "      border-color: transparent;\n",
              "      border-right-color: var(--fill-color);\n",
              "      border-bottom-color: var(--fill-color);\n",
              "    }\n",
              "    90% {\n",
              "      border-color: transparent;\n",
              "      border-bottom-color: var(--fill-color);\n",
              "    }\n",
              "  }\n",
              "</style>\n",
              "\n",
              "  <script>\n",
              "    async function quickchart(key) {\n",
              "      const quickchartButtonEl =\n",
              "        document.querySelector('#' + key + ' button');\n",
              "      quickchartButtonEl.disabled = true;  // To prevent multiple clicks.\n",
              "      quickchartButtonEl.classList.add('colab-df-spinner');\n",
              "      try {\n",
              "        const charts = await google.colab.kernel.invokeFunction(\n",
              "            'suggestCharts', [key], {});\n",
              "      } catch (error) {\n",
              "        console.error('Error during call to suggestCharts:', error);\n",
              "      }\n",
              "      quickchartButtonEl.classList.remove('colab-df-spinner');\n",
              "      quickchartButtonEl.classList.add('colab-df-quickchart-complete');\n",
              "    }\n",
              "    (() => {\n",
              "      let quickchartButtonEl =\n",
              "        document.querySelector('#df-e2183dc7-f339-443e-b15d-c7deb18a0aa1 button');\n",
              "      quickchartButtonEl.style.display =\n",
              "        google.colab.kernel.accessAllowed ? 'block' : 'none';\n",
              "    })();\n",
              "  </script>\n",
              "</div>\n",
              "\n",
              "    </div>\n",
              "  </div>\n"
            ],
            "application/vnd.google.colaboratory.intrinsic+json": {
              "type": "dataframe",
              "variable_name": "train"
            }
          },
          "metadata": {},
          "execution_count": 9
        }
      ],
      "source": [
        "# Define our feature set\n",
        "feature_set = feature_sets[\"all\"]\n",
        "\n",
        "# Download the training data - this will take a few minutes\n",
        "napi.download_dataset(f\"{DATA_VERSION}/train_int8.parquet\");\n",
        "\n",
        "# Load only the \"medium\" feature set to\n",
        "# Use the \"all\" feature set to use all features\n",
        "train = pd.read_parquet(\n",
        "    f\"{DATA_VERSION}/train_int8.parquet\",\n",
        "    columns=[\"era\", \"target\"] + feature_set\n",
        ")\n",
        "\n",
        "train.head()"
      ]
    },
    {
      "cell_type": "markdown",
      "source": [
        "### Data Preprocessing"
      ],
      "metadata": {
        "id": "Ss3AC_2OmQmr"
      },
      "id": "Ss3AC_2OmQmr"
    },
    {
      "cell_type": "code",
      "execution_count": null,
      "id": "8501a28d-da96-483c-b63f-1632b5135b4a",
      "metadata": {
        "id": "8501a28d-da96-483c-b63f-1632b5135b4a",
        "tags": []
      },
      "outputs": [],
      "source": [
        "# Reset the index of our dataset\n",
        "train_set = train.reset_index()"
      ]
    },
    {
      "cell_type": "code",
      "execution_count": null,
      "id": "93911d53-6898-4484-8fbf-838dea8b76da",
      "metadata": {
        "id": "93911d53-6898-4484-8fbf-838dea8b76da",
        "tags": []
      },
      "outputs": [],
      "source": [
        "# Extract the target and drop unnecessary columns for the train\n",
        "target = train_set['target']\n",
        "train = train_set.drop(columns=['era', 'id', 'target'])"
      ]
    },
    {
      "cell_type": "code",
      "execution_count": null,
      "id": "f29c30dd-6082-4c4d-ac0b-ac4e3ddf5573",
      "metadata": {
        "id": "f29c30dd-6082-4c4d-ac0b-ac4e3ddf5573",
        "tags": []
      },
      "outputs": [],
      "source": [
        "# Divide the dataset into train, validation, and test sets\n",
        "X_train, X_remain, y_train, y_remain = train_test_split(train, target, test_size=0.3, random_state=42)\n",
        "X_test, X_val, y_test, y_val = train_test_split(X_remain, y_remain, test_size=2/3, random_state=42)"
      ]
    },
    {
      "cell_type": "code",
      "execution_count": null,
      "id": "8e71bbd1-585f-45ae-81e0-7079bea77183",
      "metadata": {
        "id": "8e71bbd1-585f-45ae-81e0-7079bea77183",
        "tags": []
      },
      "outputs": [],
      "source": [
        "# Turn data into tensors\n",
        "X_train = torch.Tensor(X_train.values)\n",
        "y_train = torch.Tensor(y_train.values)\n",
        "X_test = torch.Tensor(X_test.values)\n",
        "y_test = torch.Tensor(y_test.values)\n",
        "X_val = torch.Tensor(X_val.values)\n",
        "y_val = torch.Tensor(y_val.values)"
      ]
    },
    {
      "cell_type": "code",
      "execution_count": null,
      "id": "8ac854eb-c4a7-49f1-a295-22f135b00587",
      "metadata": {
        "id": "8ac854eb-c4a7-49f1-a295-22f135b00587",
        "tags": []
      },
      "outputs": [],
      "source": [
        "# Put tensors into dataloader\n",
        "train_loader = TensorDataset(X_train, y_train)\n",
        "train_dataloader = DataLoader(train_loader, batch_size=64, shuffle=True)\n",
        "\n",
        "validation_loader = TensorDataset(X_val, y_val)\n",
        "val_dataloader = DataLoader(validation_loader, batch_size=64, shuffle=False)\n",
        "\n",
        "test_loader = TensorDataset(X_test, y_test)\n",
        "test_dataloader = DataLoader(test_loader, batch_size=64, shuffle=False)"
      ]
    },
    {
      "cell_type": "markdown",
      "source": [
        "### Design Model Architecture"
      ],
      "metadata": {
        "id": "FdScJTdgnCss"
      },
      "id": "FdScJTdgnCss"
    },
    {
      "cell_type": "code",
      "execution_count": null,
      "id": "ec96331b-5653-4252-b620-d16d43e2e698",
      "metadata": {
        "id": "ec96331b-5653-4252-b620-d16d43e2e698",
        "outputId": "723394ea-1e8b-4bef-a906-4a88338a74ef",
        "tags": [],
        "colab": {
          "base_uri": "https://localhost:8080/"
        }
      },
      "outputs": [
        {
          "output_type": "stream",
          "name": "stdout",
          "text": [
            "CNN(\n",
            "  (conv1): Conv1d(1, 32, kernel_size=(3,), stride=(2,), padding=(1,))\n",
            "  (batch_norm1): BatchNorm1d(32, eps=1e-05, momentum=0.1, affine=True, track_running_stats=True)\n",
            "  (maxpool1): MaxPool1d(kernel_size=3, stride=2, padding=0, dilation=1, ceil_mode=False)\n",
            "  (conv2): Conv1d(32, 64, kernel_size=(3,), stride=(2,), padding=(1,))\n",
            "  (batch_norm2): BatchNorm1d(64, eps=1e-05, momentum=0.1, affine=True, track_running_stats=True)\n",
            "  (adaptive_avg_pool): AdaptiveAvgPool1d(output_size=1)\n",
            "  (linear1): Linear(in_features=64, out_features=1, bias=True)\n",
            ")\n"
          ]
        }
      ],
      "source": [
        "class CNN(nn.Module):\n",
        "    def __init__(self):\n",
        "        super(CNN, self).__init__()\n",
        "        self.conv1 = nn.Conv1d(in_channels=1, out_channels=32, kernel_size=3, stride=2, padding=1)\n",
        "        self.batch_norm1 = nn.BatchNorm1d(num_features=32)\n",
        "        self.maxpool1 = nn.MaxPool1d(kernel_size=3, stride=2)\n",
        "        self.conv2 = nn.Conv1d(in_channels=32, out_channels=64, kernel_size=3, stride=2, padding=1)\n",
        "        self.batch_norm2 = nn.BatchNorm1d(num_features=64)\n",
        "        self.adaptive_avg_pool = nn.AdaptiveAvgPool1d(output_size=1)\n",
        "        self.linear1 = nn.Linear(64, 1)\n",
        "\n",
        "\n",
        "    def forward(self, x):\n",
        "        x = self.conv1(x)\n",
        "        x = torch.relu(x)\n",
        "        x = self.batch_norm1(x)\n",
        "        x = self.maxpool1(x)\n",
        "        x = self.conv2(x)\n",
        "        x = torch.relu(x)\n",
        "        x = self.batch_norm2(x)\n",
        "        x = self.adaptive_avg_pool(x)\n",
        "        x = torch.flatten(x, 1)\n",
        "        x = self.linear1(x)\n",
        "        x = torch.relu(x)\n",
        "\n",
        "        return x\n",
        "\n",
        "\n",
        "# Instantiate the model\n",
        "model = CNN()\n",
        "if gpu_available and use_gpu:\n",
        "  model = model.cuda()\n",
        "# Print the model architecture\n",
        "print(model)"
      ]
    },
    {
      "cell_type": "code",
      "execution_count": null,
      "id": "05d2cbac-6579-4a3f-b113-decf11066a66",
      "metadata": {
        "id": "05d2cbac-6579-4a3f-b113-decf11066a66",
        "outputId": "9ad90d08-5311-4a4e-d453-e7daf6c8011e",
        "tags": [],
        "colab": {
          "base_uri": "https://localhost:8080/"
        }
      },
      "outputs": [
        {
          "output_type": "execute_result",
          "data": {
            "text/plain": [
              "==========================================================================================\n",
              "Layer (type:depth-idx)                   Output Shape              Param #\n",
              "==========================================================================================\n",
              "CNN                                      [64, 1]                   --\n",
              "├─Conv1d: 1-1                            [64, 32, 1188]            128\n",
              "├─BatchNorm1d: 1-2                       [64, 32, 1188]            64\n",
              "├─MaxPool1d: 1-3                         [64, 32, 593]             --\n",
              "├─Conv1d: 1-4                            [64, 64, 297]             6,208\n",
              "├─BatchNorm1d: 1-5                       [64, 64, 297]             128\n",
              "├─AdaptiveAvgPool1d: 1-6                 [64, 64, 1]               --\n",
              "├─Linear: 1-7                            [64, 1]                   65\n",
              "==========================================================================================\n",
              "Total params: 6,593\n",
              "Trainable params: 6,593\n",
              "Non-trainable params: 0\n",
              "Total mult-adds (M): 127.75\n",
              "==========================================================================================\n",
              "Input size (MB): 0.61\n",
              "Forward/backward pass size (MB): 58.39\n",
              "Params size (MB): 0.03\n",
              "Estimated Total Size (MB): 59.03\n",
              "=========================================================================================="
            ]
          },
          "metadata": {},
          "execution_count": 17
        }
      ],
      "source": [
        "# Display the model summary\n",
        "summary(model, (64, 1, 2376))"
      ]
    },
    {
      "cell_type": "code",
      "execution_count": null,
      "id": "1fd5bcf0-4242-4f5b-9ba3-e5e5fcb03c5a",
      "metadata": {
        "id": "1fd5bcf0-4242-4f5b-9ba3-e5e5fcb03c5a",
        "tags": []
      },
      "outputs": [],
      "source": [
        "# Choose optimizer\n",
        "optimizer = optim.Adam(model.parameters(), lr=0.001, weight_decay=0.001)"
      ]
    },
    {
      "cell_type": "code",
      "execution_count": null,
      "id": "d19c5d77-344a-42b5-8849-8e3e534c79d4",
      "metadata": {
        "id": "d19c5d77-344a-42b5-8849-8e3e534c79d4",
        "tags": []
      },
      "outputs": [],
      "source": [
        "# Choose loss function\n",
        "criterion = nn.L1Loss()"
      ]
    },
    {
      "cell_type": "code",
      "execution_count": null,
      "id": "29ab3039-088f-4d90-aa95-3e22807e6532",
      "metadata": {
        "id": "29ab3039-088f-4d90-aa95-3e22807e6532",
        "tags": []
      },
      "outputs": [],
      "source": [
        "enable_wandb = True"
      ]
    },
    {
      "cell_type": "code",
      "execution_count": null,
      "id": "c60d2ab7-89ac-4f75-883d-9be3c5544a3d",
      "metadata": {
        "id": "c60d2ab7-89ac-4f75-883d-9be3c5544a3d",
        "outputId": "1e0dd2ad-32ab-4d22-b53e-576d7cd3b502",
        "tags": [],
        "colab": {
          "base_uri": "https://localhost:8080/",
          "height": 173
        }
      },
      "outputs": [
        {
          "output_type": "stream",
          "name": "stdout",
          "text": [
            "\u001b[2K     \u001b[90m━━━━━━━━━━━━━━━━━━━━━━━━━━━━━━━━━━━━━━━━\u001b[0m \u001b[32m2.2/2.2 MB\u001b[0m \u001b[31m34.2 MB/s\u001b[0m eta \u001b[36m0:00:00\u001b[0m\n",
            "\u001b[2K     \u001b[90m━━━━━━━━━━━━━━━━━━━━━━━━━━━━━━━━━━━━━━━━\u001b[0m \u001b[32m207.3/207.3 kB\u001b[0m \u001b[31m25.7 MB/s\u001b[0m eta \u001b[36m0:00:00\u001b[0m\n",
            "\u001b[2K     \u001b[90m━━━━━━━━━━━━━━━━━━━━━━━━━━━━━━━━━━━━━━━━\u001b[0m \u001b[32m267.1/267.1 kB\u001b[0m \u001b[31m29.1 MB/s\u001b[0m eta \u001b[36m0:00:00\u001b[0m\n",
            "\u001b[2K     \u001b[90m━━━━━━━━━━━━━━━━━━━━━━━━━━━━━━━━━━━━━━━━\u001b[0m \u001b[32m62.7/62.7 kB\u001b[0m \u001b[31m9.5 MB/s\u001b[0m eta \u001b[36m0:00:00\u001b[0m\n",
            "\u001b[?25h"
          ]
        },
        {
          "output_type": "display_data",
          "data": {
            "text/plain": [
              "<IPython.core.display.Javascript object>"
            ],
            "application/javascript": [
              "\n",
              "        window._wandbApiKey = new Promise((resolve, reject) => {\n",
              "            function loadScript(url) {\n",
              "            return new Promise(function(resolve, reject) {\n",
              "                let newScript = document.createElement(\"script\");\n",
              "                newScript.onerror = reject;\n",
              "                newScript.onload = resolve;\n",
              "                document.body.appendChild(newScript);\n",
              "                newScript.src = url;\n",
              "            });\n",
              "            }\n",
              "            loadScript(\"https://cdn.jsdelivr.net/npm/postmate/build/postmate.min.js\").then(() => {\n",
              "            const iframe = document.createElement('iframe')\n",
              "            iframe.style.cssText = \"width:0;height:0;border:none\"\n",
              "            document.body.appendChild(iframe)\n",
              "            const handshake = new Postmate({\n",
              "                container: iframe,\n",
              "                url: 'https://wandb.ai/authorize'\n",
              "            });\n",
              "            const timeout = setTimeout(() => reject(\"Couldn't auto authenticate\"), 5000)\n",
              "            handshake.then(function(child) {\n",
              "                child.on('authorize', data => {\n",
              "                    clearTimeout(timeout)\n",
              "                    resolve(data)\n",
              "                });\n",
              "            });\n",
              "            })\n",
              "        });\n",
              "    "
            ]
          },
          "metadata": {}
        },
        {
          "output_type": "stream",
          "name": "stderr",
          "text": [
            "\u001b[34m\u001b[1mwandb\u001b[0m: Logging into wandb.ai. (Learn how to deploy a W&B server locally: https://wandb.me/wandb-server)\n",
            "\u001b[34m\u001b[1mwandb\u001b[0m: You can find your API key in your browser here: https://wandb.ai/authorize\n",
            "wandb: Paste an API key from your profile and hit enter, or press ctrl+c to quit:"
          ]
        },
        {
          "name": "stdout",
          "output_type": "stream",
          "text": [
            " ··········\n"
          ]
        },
        {
          "output_type": "stream",
          "name": "stderr",
          "text": [
            "\u001b[34m\u001b[1mwandb\u001b[0m: Appending key for api.wandb.ai to your netrc file: /root/.netrc\n"
          ]
        }
      ],
      "source": [
        "# Install wandb for model performance tracking\n",
        "if enable_wandb:\n",
        "  !pip install wandb -qU\n",
        "  import wandb\n",
        "  wandb.login()"
      ]
    },
    {
      "cell_type": "code",
      "execution_count": null,
      "id": "fda7638b-d8c9-45ba-befc-3a3fc4752625",
      "metadata": {
        "id": "fda7638b-d8c9-45ba-befc-3a3fc4752625",
        "outputId": "cf5c4585-4af0-4903-9f41-2f9c446cd31c",
        "tags": [],
        "colab": {
          "base_uri": "https://localhost:8080/",
          "height": 121
        }
      },
      "outputs": [
        {
          "output_type": "stream",
          "name": "stderr",
          "text": [
            "\u001b[34m\u001b[1mwandb\u001b[0m: Currently logged in as: \u001b[33mfreyaj\u001b[0m (\u001b[33mfreyajiang\u001b[0m). Use \u001b[1m`wandb login --relogin`\u001b[0m to force relogin\n"
          ]
        },
        {
          "output_type": "display_data",
          "data": {
            "text/plain": [
              "<IPython.core.display.HTML object>"
            ],
            "text/html": [
              "Tracking run with wandb version 0.16.6"
            ]
          },
          "metadata": {}
        },
        {
          "output_type": "display_data",
          "data": {
            "text/plain": [
              "<IPython.core.display.HTML object>"
            ],
            "text/html": [
              "Run data is saved locally in <code>/content/wandb/run-20240424_235016-5mj6pwpf</code>"
            ]
          },
          "metadata": {}
        },
        {
          "output_type": "display_data",
          "data": {
            "text/plain": [
              "<IPython.core.display.HTML object>"
            ],
            "text/html": [
              "Syncing run <strong><a href='https://wandb.ai/freyajiang/project_CNN/runs/5mj6pwpf' target=\"_blank\">experiment1</a></strong> to <a href='https://wandb.ai/freyajiang/project_CNN' target=\"_blank\">Weights & Biases</a> (<a href='https://wandb.me/run' target=\"_blank\">docs</a>)<br/>"
            ]
          },
          "metadata": {}
        },
        {
          "output_type": "display_data",
          "data": {
            "text/plain": [
              "<IPython.core.display.HTML object>"
            ],
            "text/html": [
              " View project at <a href='https://wandb.ai/freyajiang/project_CNN' target=\"_blank\">https://wandb.ai/freyajiang/project_CNN</a>"
            ]
          },
          "metadata": {}
        },
        {
          "output_type": "display_data",
          "data": {
            "text/plain": [
              "<IPython.core.display.HTML object>"
            ],
            "text/html": [
              " View run at <a href='https://wandb.ai/freyajiang/project_CNN/runs/5mj6pwpf' target=\"_blank\">https://wandb.ai/freyajiang/project_CNN/runs/5mj6pwpf</a>"
            ]
          },
          "metadata": {}
        }
      ],
      "source": [
        "# Define configuration for the naive CNN model\n",
        "if enable_wandb:\n",
        "  wandb.init(\n",
        "    # Set the project where this run will be logged\n",
        "    project=\"project_CNN\",\n",
        "    # We pass a run name (otherwise it’ll be randomly assigned, like sunshine-lollypop-10)\n",
        "    name= \"experiment1\",\n",
        "    # Track hyperparameters and run metadata\n",
        "    config={\n",
        "    \"learning_rate\": 0.001,\n",
        "    \"epochs\": 10,\n",
        "    \"batch_size\": 64,\n",
        "    \"weight_decay\": 0.001,\n",
        "    \"notes for me\": \"This is a CNN\"\n",
        "    })"
      ]
    },
    {
      "cell_type": "code",
      "execution_count": null,
      "id": "c0160a1e-c5e7-4e50-bfeb-c9c948ab4197",
      "metadata": {
        "id": "c0160a1e-c5e7-4e50-bfeb-c9c948ab4197",
        "tags": []
      },
      "outputs": [],
      "source": [
        "# Define a function to track the loss of each epoch\n",
        "def get_loss(loader, model):\n",
        "  with torch.no_grad(): # Anything under torch.no_grad will be calculated with no gradients. Can only be used for testing, not training!\n",
        "\n",
        "    loss = 0\n",
        "    for i, (features, targets) in enumerate(loader): # The batches.\n",
        "          if gpu_available and use_gpu:\n",
        "              features = features.cuda()\n",
        "              targets = targets.cuda()\n",
        "          features = features.unsqueeze(1)\n",
        "          targets = targets.unsqueeze(1)\n",
        "          outputs = model(features)\n",
        "\n",
        "          loss = loss + criterion(outputs, targets)\n",
        "    return loss/ len(loader)"
      ]
    },
    {
      "cell_type": "code",
      "execution_count": null,
      "id": "6cffdbbf-5b58-4918-96c8-c479fd17b27d",
      "metadata": {
        "id": "6cffdbbf-5b58-4918-96c8-c479fd17b27d",
        "tags": []
      },
      "outputs": [],
      "source": [
        "# Define early stop function\n",
        "class EarlyStopper:\n",
        "    def __init__(self, patience=1):\n",
        "        self.patience = patience\n",
        "        self.counter = 0\n",
        "        self.min_validation_loss = float('inf')\n",
        "\n",
        "    def early_stop(self, validation_loss):\n",
        "        # If the new loss is lower than the old loss, reset the counter!\n",
        "        if validation_loss < self.min_validation_loss:\n",
        "            self.min_validation_loss = validation_loss\n",
        "            self.counter = 0\n",
        "            # Keep track of the best model by saving it on the hard drive.\n",
        "            torch.save(model, r\"./best_model.pt\")\n",
        "        # otherwise, increment the counter.\n",
        "        elif validation_loss > self.min_validation_loss:\n",
        "            self.counter += 1\n",
        "            # If there has been too many epochs with the loss being high, terminate.\n",
        "            if self.counter >= self.patience:\n",
        "                return True\n",
        "        return False"
      ]
    },
    {
      "cell_type": "code",
      "source": [
        "# Instantiate early stopping\n",
        "early_stopper = EarlyStopper(patience=3)"
      ],
      "metadata": {
        "id": "dqVRuPaqpT_E"
      },
      "id": "dqVRuPaqpT_E",
      "execution_count": null,
      "outputs": []
    },
    {
      "cell_type": "markdown",
      "source": [
        "## Training Naive CNN Model"
      ],
      "metadata": {
        "id": "E532QTmAplQu"
      },
      "id": "E532QTmAplQu"
    },
    {
      "cell_type": "code",
      "execution_count": null,
      "id": "db3361f3-9d1c-4577-b944-b12a72f32564",
      "metadata": {
        "id": "db3361f3-9d1c-4577-b944-b12a72f32564",
        "outputId": "24781b3e-70d0-45d2-ce83-a922fd7d1b40",
        "tags": [],
        "colab": {
          "base_uri": "https://localhost:8080/"
        }
      },
      "outputs": [
        {
          "output_type": "stream",
          "name": "stdout",
          "text": [
            "Epoch 1  batch 1 . Training Loss:  0.535932183265686\n",
            "Epoch 1  batch 10001 . Training Loss:  0.16022354364395142\n",
            "Epoch 1  batch 20001 . Training Loss:  0.14875328540802002\n",
            "Epoch [1/10], Train Loss: 0.1499340683221817, Validation Loss: 0.1498262882232666\n",
            "Epoch 2  batch 1 . Training Loss:  0.15251871943473816\n",
            "Epoch 2  batch 10001 . Training Loss:  0.17587080597877502\n",
            "Epoch 2  batch 20001 . Training Loss:  0.11726409196853638\n",
            "Epoch [2/10], Train Loss: 0.14977216720581055, Validation Loss: 0.14970773458480835\n",
            "Epoch 3  batch 1 . Training Loss:  0.16417557001113892\n",
            "Epoch 3  batch 10001 . Training Loss:  0.14081144332885742\n",
            "Epoch 3  batch 20001 . Training Loss:  0.16035354137420654\n",
            "Epoch [3/10], Train Loss: 0.14971254765987396, Validation Loss: 0.14962713420391083\n",
            "Epoch 4  batch 1 . Training Loss:  0.1367497444152832\n",
            "Epoch 4  batch 10001 . Training Loss:  0.14071042835712433\n",
            "Epoch 4  batch 20001 . Training Loss:  0.11417432874441147\n",
            "Epoch [4/10], Train Loss: 0.14974620938301086, Validation Loss: 0.1496785432100296\n",
            "Epoch 5  batch 1 . Training Loss:  0.13287264108657837\n",
            "Epoch 5  batch 10001 . Training Loss:  0.16032123565673828\n",
            "Epoch 5  batch 20001 . Training Loss:  0.14478956162929535\n",
            "Epoch [5/10], Train Loss: 0.14972497522830963, Validation Loss: 0.1496587097644806\n",
            "Epoch 6  batch 1 . Training Loss:  0.14458128809928894\n",
            "Epoch 6  batch 10001 . Training Loss:  0.13697704672813416\n",
            "Epoch 6  batch 20001 . Training Loss:  0.1446768194437027\n",
            "Epoch [6/10], Train Loss: 0.14979611337184906, Validation Loss: 0.14971862733364105\n",
            "Validation loss hasn't dropped. Early stopping!\n"
          ]
        }
      ],
      "source": [
        "# Train the model\n",
        "for epoch in range(10):\n",
        "    for i, (features, targets) in enumerate(train_dataloader):\n",
        "        model.train()\n",
        "        optimizer.zero_grad()\n",
        "        if gpu_available and use_gpu:\n",
        "          features = features.cuda()\n",
        "          targets = targets.cuda()\n",
        "        features = features.unsqueeze(1)\n",
        "        targets = targets.unsqueeze(1)\n",
        "        outputs = model(features)\n",
        "        loss = criterion(outputs, targets)\n",
        "        loss.backward()\n",
        "        optimizer.step()\n",
        "\n",
        "        if i % 10000 == 0:\n",
        "          print(\"Epoch\", epoch + 1, \" batch\", i+1, \". Training Loss: \", loss.item())\n",
        "          if enable_wandb:\n",
        "            wandb.log({\"loss\": loss})\n",
        "\n",
        "    training_loss = get_loss(train_dataloader, model)\n",
        "    validation_loss = get_loss(val_dataloader, model)\n",
        "    print(f'Epoch [{epoch + 1}/{10}], Train Loss: {training_loss.item()}, Validation Loss: {validation_loss.item()}')\n",
        "    if enable_wandb:\n",
        "      wandb.log({\"epoch\": epoch + 1, \"train_loss\": training_loss.item(), \"val_loss\": validation_loss.item()})\n",
        "\n",
        "    if early_stopper.early_stop(validation_loss):\n",
        "        print(\"Validation loss hasn't dropped. Early stopping!\")\n",
        "        break"
      ]
    },
    {
      "cell_type": "code",
      "execution_count": null,
      "id": "c263a5a8-43e2-4b24-a19e-5b775ddeb18e",
      "metadata": {
        "colab": {
          "base_uri": "https://localhost:8080/"
        },
        "id": "c263a5a8-43e2-4b24-a19e-5b775ddeb18e",
        "outputId": "5958b5b4-f7e1-4297-a90e-bee95cf40b0c"
      },
      "outputs": [
        {
          "output_type": "stream",
          "name": "stdout",
          "text": [
            "best model performance Test set: tensor(0.1495, device='cuda:0')\n"
          ]
        }
      ],
      "source": [
        "# Once training is done, load the best model (might not be the last model due to early stopping)\n",
        "model1 = torch.load(r\"./best_model.pt\")\n",
        "test_loss = get_loss(test_dataloader, model1)\n",
        "print(\"best model performance Test set:\", test_loss)"
      ]
    },
    {
      "cell_type": "code",
      "execution_count": null,
      "id": "8be07dc6",
      "metadata": {
        "id": "8be07dc6",
        "tags": [],
        "colab": {
          "base_uri": "https://localhost:8080/",
          "height": 306,
          "referenced_widgets": [
            "7514f40ab5ee42cd8d16ba051f9fc633",
            "7afe0c60cb964e959b21a0cff9bc387a",
            "5f8dcdc57fff4d1691ace91f965cf07e",
            "56f4030a78cb434d9ba627e0da9e20ab",
            "39c0eaec60804711a1ac1430d5b38c2c",
            "ef208c7d246943a8b2b92fe81689863b",
            "f04ac1a9da21448f8460cf2810b3b632",
            "2a526a71635044328053d2514c21df25"
          ]
        },
        "outputId": "70803650-eeaf-4f10-c7b3-5109984c9b52"
      },
      "outputs": [
        {
          "output_type": "display_data",
          "data": {
            "text/plain": [
              "VBox(children=(Label(value='0.002 MB of 0.002 MB uploaded\\r'), FloatProgress(value=1.0, max=1.0)))"
            ],
            "application/vnd.jupyter.widget-view+json": {
              "version_major": 2,
              "version_minor": 0,
              "model_id": "7514f40ab5ee42cd8d16ba051f9fc633"
            }
          },
          "metadata": {}
        },
        {
          "output_type": "display_data",
          "data": {
            "text/plain": [
              "<IPython.core.display.HTML object>"
            ],
            "text/html": [
              "<style>\n",
              "    table.wandb td:nth-child(1) { padding: 0 10px; text-align: left ; width: auto;} td:nth-child(2) {text-align: left ; width: 100%}\n",
              "    .wandb-row { display: flex; flex-direction: row; flex-wrap: wrap; justify-content: flex-start; width: 100% }\n",
              "    .wandb-col { display: flex; flex-direction: column; flex-basis: 100%; flex: 1; padding: 10px; }\n",
              "    </style>\n",
              "<div class=\"wandb-row\"><div class=\"wandb-col\"><h3>Run history:</h3><br/><table class=\"wandb\"><tr><td>epoch</td><td>▁▂▄▅▇█</td></tr><tr><td>loss</td><td>█▂▂▂▂▁▂▁▂▁▁▁▁▂▂▂▁▂</td></tr><tr><td>train_loss</td><td>█▃▁▂▁▄</td></tr><tr><td>val_loss</td><td>█▄▁▃▂▄</td></tr></table><br/></div><div class=\"wandb-col\"><h3>Run summary:</h3><br/><table class=\"wandb\"><tr><td>Test Loss</td><td>0.14952</td></tr><tr><td>epoch</td><td>6</td></tr><tr><td>loss</td><td>0.14468</td></tr><tr><td>train_loss</td><td>0.1498</td></tr><tr><td>val_loss</td><td>0.14972</td></tr></table><br/></div></div>"
            ]
          },
          "metadata": {}
        },
        {
          "output_type": "display_data",
          "data": {
            "text/plain": [
              "<IPython.core.display.HTML object>"
            ],
            "text/html": [
              " View run <strong style=\"color:#cdcd00\">experiment1</strong> at: <a href='https://wandb.ai/freyajiang/project_CNN/runs/5mj6pwpf' target=\"_blank\">https://wandb.ai/freyajiang/project_CNN/runs/5mj6pwpf</a><br/> View project at: <a href='https://wandb.ai/freyajiang/project_CNN' target=\"_blank\">https://wandb.ai/freyajiang/project_CNN</a><br/>Synced 5 W&B file(s), 0 media file(s), 0 artifact file(s) and 0 other file(s)"
            ]
          },
          "metadata": {}
        },
        {
          "output_type": "display_data",
          "data": {
            "text/plain": [
              "<IPython.core.display.HTML object>"
            ],
            "text/html": [
              "Find logs at: <code>./wandb/run-20240424_235016-5mj6pwpf/logs</code>"
            ]
          },
          "metadata": {}
        }
      ],
      "source": [
        "if enable_wandb:\n",
        "  wandb.finish()"
      ]
    },
    {
      "cell_type": "markdown",
      "source": [
        "## Training CNN Model with Hyperparameter Tuning"
      ],
      "metadata": {
        "id": "YTbku5DAqDcy"
      },
      "id": "YTbku5DAqDcy"
    },
    {
      "cell_type": "code",
      "source": [
        "import torch\n",
        "import torch.nn as nn\n",
        "import wandb\n",
        "\n",
        "wandb.login()\n",
        "\n",
        "# Define sweep configuration\n",
        "sweep_configuration = {\n",
        "    \"name\": \"sweep\",\n",
        "    \"method\": \"grid\",\n",
        "    \"metric\": {\"goal\": \"minimize\", \"name\": \"validation_loss\"},\n",
        "    \"parameters\": {\n",
        "        \"learning_rate\": {\"values\": [1e-2, 1e-3]},\n",
        "        \"batch_size\": {\"values\": [64, 128]},\n",
        "    },\n",
        "}\n",
        "\n",
        "def train(config=None):\n",
        "    # Initialize WandB\n",
        "    run = wandb.init()\n",
        "\n",
        "    # Your model, optimizer, loss function, and data loaders\n",
        "    model = CNN()\n",
        "    optimizer = optim.Adam(model.parameters(), lr=wandb.config.learning_rate, weight_decay=0.001)\n",
        "    criterion = nn.L1Loss()\n",
        "    early_stopping = EarlyStopper(patience=3)\n",
        "    train_dataloader = DataLoader(train_loader, batch_size=wandb.config.batch_size, shuffle=True)\n",
        "    val_dataloader = DataLoader(validation_loader, batch_size=wandb.config.batch_size, shuffle=False)\n",
        "\n",
        "    # Training loop\n",
        "    for epoch in range(10):\n",
        "        for i, (features, targets) in enumerate(train_dataloader):\n",
        "            model.train()\n",
        "            optimizer.zero_grad()\n",
        "            if gpu_available and use_gpu:\n",
        "                model = model.cuda()\n",
        "                features = features.cuda()\n",
        "                targets = targets.cuda()\n",
        "            features = features.unsqueeze(1)\n",
        "            targets = targets.unsqueeze(1)\n",
        "            outputs = model(features)\n",
        "            loss = criterion(outputs, targets)\n",
        "            loss.backward()\n",
        "            optimizer.step()\n",
        "\n",
        "            if i % 10000 == 0:\n",
        "                print(\"Epoch\", epoch + 1, \" batch\", i+1, \". Training Loss: \", loss.item())\n",
        "                if enable_wandb:\n",
        "                    wandb.log({\"loss\": loss})\n",
        "\n",
        "        # Calculate training and validation loss\n",
        "        training_loss = get_loss(train_dataloader, model)\n",
        "        validation_loss = get_loss(val_dataloader, model)\n",
        "        print(f'Epoch [{epoch + 1}/{10}], Train Loss: {training_loss.item()}, Validation Loss: {validation_loss.item()}')\n",
        "\n",
        "        # Log loss values to wandb\n",
        "        if enable_wandb:\n",
        "            wandb.log({\"epoch\": epoch + 1, \"train_loss\": training_loss.item(), \"val_loss\": validation_loss.item()})\n",
        "\n",
        "        # Check for early stopping\n",
        "        if early_stopping.early_stop(validation_loss):\n",
        "            print(\"Validation loss hasn't dropped. Early stopping!\")\n",
        "            break\n",
        "\n",
        "sweep_id = wandb.sweep(sweep=sweep_configuration, project=\"project-cnn-sweep\")\n",
        "\n",
        "# Start the sweep\n",
        "wandb.agent(sweep_id, function=train)"
      ],
      "metadata": {
        "colab": {
          "base_uri": "https://localhost:8080/",
          "height": 1000,
          "referenced_widgets": [
            "f1b21a57ae4e43cdb7c92ef47b8a2e88",
            "4180a3a7862740e6ba2a7b5dd145fd13",
            "9fc628eb1e6a48cca14189da43bea3b9",
            "17552a4dbded4377b6c7eb3dbf46be3e",
            "32fde8c49d5b4ee8ad827e1e96d5fb01",
            "4500220eac474f4bbbd03405ef50ca93",
            "5ea1ac9123b1453eb06e9ea8986639ac",
            "11ef201554af4664b9b7c86ce9eb2067",
            "810b903ae9954c6cb50c70147f0b0389",
            "4d8ceb40f19a40829e426a9355111539",
            "234a8f7519a04a10a3724ef3aee37655",
            "2a4cd4fd5dfd4e8c8226781f936c10ae",
            "2bbfc0362e6942ce88e184e92f3a6b8a",
            "3c7d6738b1024ef28b56fcc7b9defee7",
            "9a78ee4bc9c54211b136139f48478201",
            "cfa0618ce8264c24bee51bb6de0b77b5",
            "990c3b2e0e8b4a81a581631d80aaf82d",
            "80c6a4beb231413fa94b12ff3cbc8a6b",
            "99dbbf4e1b8f4499b488898906d6f1a6",
            "c57cd3d7cb234b7eb36434f7de648d57",
            "25e50b5530544a9897660370dc30b88d",
            "3f7a57da856d444bafc6874b215a08c3",
            "6975e58474fc4b93a3bef9a54c11dac4",
            "5b27f8088e8a40498bdaeced41b075f3",
            "c64ad2f14b7d4e03bd706bc769fcce20",
            "c0b9bb72244b4f4ba7a69c5bcbbf8e95",
            "501f309d3c094b2eade6e9a4ec9bb181",
            "d650c9c70db543f2b31a6724d3feacc9",
            "c0365052e54d40febe6f4203eb07bd1a",
            "d8143c869dcc49c690821e96ade86fa6",
            "11ed9b7fb29745f2a5deb8a2d03d5d37",
            "2bb7c6ff63d34df3b34f1e7d03e2a957"
          ]
        },
        "id": "9jQ1mk8IrAA5",
        "outputId": "7135ade4-0534-45e0-8363-06db9cf39287"
      },
      "id": "9jQ1mk8IrAA5",
      "execution_count": null,
      "outputs": [
        {
          "output_type": "stream",
          "name": "stderr",
          "text": [
            "\u001b[34m\u001b[1mwandb\u001b[0m: Currently logged in as: \u001b[33mfreyaj\u001b[0m (\u001b[33mfreyajiang\u001b[0m). Use \u001b[1m`wandb login --relogin`\u001b[0m to force relogin\n"
          ]
        },
        {
          "output_type": "stream",
          "name": "stdout",
          "text": [
            "Create sweep with ID: npg6olxv\n",
            "Sweep URL: https://wandb.ai/freyajiang/project-cnn-sweep/sweeps/npg6olxv\n"
          ]
        },
        {
          "output_type": "stream",
          "name": "stderr",
          "text": [
            "\u001b[34m\u001b[1mwandb\u001b[0m: Agent Starting Run: ohaebdym with config:\n",
            "\u001b[34m\u001b[1mwandb\u001b[0m: \tbatch_size: 64\n",
            "\u001b[34m\u001b[1mwandb\u001b[0m: \tlearning_rate: 0.01\n"
          ]
        },
        {
          "output_type": "display_data",
          "data": {
            "text/plain": [
              "<IPython.core.display.HTML object>"
            ],
            "text/html": [
              "Tracking run with wandb version 0.16.6"
            ]
          },
          "metadata": {}
        },
        {
          "output_type": "display_data",
          "data": {
            "text/plain": [
              "<IPython.core.display.HTML object>"
            ],
            "text/html": [
              "Run data is saved locally in <code>/content/wandb/run-20240425_015356-ohaebdym</code>"
            ]
          },
          "metadata": {}
        },
        {
          "output_type": "display_data",
          "data": {
            "text/plain": [
              "<IPython.core.display.HTML object>"
            ],
            "text/html": [
              "Syncing run <strong><a href='https://wandb.ai/freyajiang/project-cnn-sweep/runs/ohaebdym' target=\"_blank\">solar-sweep-1</a></strong> to <a href='https://wandb.ai/freyajiang/project-cnn-sweep' target=\"_blank\">Weights & Biases</a> (<a href='https://wandb.me/run' target=\"_blank\">docs</a>)<br/>Sweep page: <a href='https://wandb.ai/freyajiang/project-cnn-sweep/sweeps/npg6olxv' target=\"_blank\">https://wandb.ai/freyajiang/project-cnn-sweep/sweeps/npg6olxv</a>"
            ]
          },
          "metadata": {}
        },
        {
          "output_type": "display_data",
          "data": {
            "text/plain": [
              "<IPython.core.display.HTML object>"
            ],
            "text/html": [
              " View project at <a href='https://wandb.ai/freyajiang/project-cnn-sweep' target=\"_blank\">https://wandb.ai/freyajiang/project-cnn-sweep</a>"
            ]
          },
          "metadata": {}
        },
        {
          "output_type": "display_data",
          "data": {
            "text/plain": [
              "<IPython.core.display.HTML object>"
            ],
            "text/html": [
              " View sweep at <a href='https://wandb.ai/freyajiang/project-cnn-sweep/sweeps/npg6olxv' target=\"_blank\">https://wandb.ai/freyajiang/project-cnn-sweep/sweeps/npg6olxv</a>"
            ]
          },
          "metadata": {}
        },
        {
          "output_type": "display_data",
          "data": {
            "text/plain": [
              "<IPython.core.display.HTML object>"
            ],
            "text/html": [
              " View run at <a href='https://wandb.ai/freyajiang/project-cnn-sweep/runs/ohaebdym' target=\"_blank\">https://wandb.ai/freyajiang/project-cnn-sweep/runs/ohaebdym</a>"
            ]
          },
          "metadata": {}
        },
        {
          "output_type": "stream",
          "name": "stdout",
          "text": [
            "Epoch 1  batch 1 . Training Loss:  0.49134498834609985\n",
            "Epoch 1  batch 10001 . Training Loss:  0.12915204465389252\n",
            "Epoch 1  batch 20001 . Training Loss:  0.13301435112953186\n",
            "Epoch [1/10], Train Loss: 0.15016739070415497, Validation Loss: 0.15006627142429352\n",
            "Epoch 2  batch 1 . Training Loss:  0.1606120467185974\n",
            "Epoch 2  batch 10001 . Training Loss:  0.15389466285705566\n",
            "Epoch 2  batch 20001 . Training Loss:  0.17243734002113342\n",
            "Epoch [2/10], Train Loss: 0.15421655774116516, Validation Loss: 0.15411049127578735\n",
            "Epoch 3  batch 1 . Training Loss:  0.16409936547279358\n",
            "Epoch 3  batch 10001 . Training Loss:  0.15718121826648712\n",
            "Epoch 3  batch 20001 . Training Loss:  0.17316392064094543\n",
            "Epoch [3/10], Train Loss: 0.15106455981731415, Validation Loss: 0.15096409618854523\n",
            "Epoch 4  batch 1 . Training Loss:  0.13008925318717957\n",
            "Epoch 4  batch 10001 . Training Loss:  0.14469817280769348\n",
            "Epoch 4  batch 20001 . Training Loss:  0.12217612564563751\n",
            "Epoch [4/10], Train Loss: 0.1500667929649353, Validation Loss: 0.1499740034341812\n",
            "Epoch 5  batch 1 . Training Loss:  0.12145622074604034\n",
            "Epoch 5  batch 10001 . Training Loss:  0.18759825825691223\n",
            "Epoch 5  batch 20001 . Training Loss:  0.16933411359786987\n",
            "Epoch [5/10], Train Loss: 0.15012237429618835, Validation Loss: 0.15002813935279846\n",
            "Epoch 6  batch 1 . Training Loss:  0.12950506806373596\n",
            "Epoch 6  batch 10001 . Training Loss:  0.1223495826125145\n",
            "Epoch 6  batch 20001 . Training Loss:  0.14593414962291718\n",
            "Epoch [6/10], Train Loss: 0.15485967695713043, Validation Loss: 0.15477676689624786\n",
            "Epoch 7  batch 1 . Training Loss:  0.14091579616069794\n",
            "Epoch 7  batch 10001 . Training Loss:  0.16096872091293335\n",
            "Epoch 7  batch 20001 . Training Loss:  0.15052539110183716\n",
            "Epoch [7/10], Train Loss: 0.1499326229095459, Validation Loss: 0.14982068538665771\n",
            "Epoch 8  batch 1 . Training Loss:  0.13696904480457306\n",
            "Epoch 8  batch 10001 . Training Loss:  0.18437907099723816\n",
            "Epoch 8  batch 20001 . Training Loss:  0.12954522669315338\n",
            "Epoch [8/10], Train Loss: 0.15124958753585815, Validation Loss: 0.15115338563919067\n",
            "Epoch 9  batch 1 . Training Loss:  0.1419731080532074\n",
            "Epoch 9  batch 10001 . Training Loss:  0.1406995952129364\n",
            "Epoch 9  batch 20001 . Training Loss:  0.13410848379135132\n",
            "Epoch [9/10], Train Loss: 0.1510883867740631, Validation Loss: 0.15098923444747925\n",
            "Epoch 10  batch 1 . Training Loss:  0.18055078387260437\n",
            "Epoch 10  batch 10001 . Training Loss:  0.16117888689041138\n",
            "Epoch 10  batch 20001 . Training Loss:  0.15012729167938232\n",
            "Epoch [10/10], Train Loss: 0.15037669241428375, Validation Loss: 0.1502804458141327\n",
            "Validation loss hasn't dropped. Early stopping!\n"
          ]
        },
        {
          "output_type": "display_data",
          "data": {
            "text/plain": [
              "VBox(children=(Label(value='0.002 MB of 0.002 MB uploaded\\r'), FloatProgress(value=1.0, max=1.0)))"
            ],
            "application/vnd.jupyter.widget-view+json": {
              "version_major": 2,
              "version_minor": 0,
              "model_id": "f1b21a57ae4e43cdb7c92ef47b8a2e88"
            }
          },
          "metadata": {}
        },
        {
          "output_type": "display_data",
          "data": {
            "text/plain": [
              "<IPython.core.display.HTML object>"
            ],
            "text/html": [
              "<style>\n",
              "    table.wandb td:nth-child(1) { padding: 0 10px; text-align: left ; width: auto;} td:nth-child(2) {text-align: left ; width: 100%}\n",
              "    .wandb-row { display: flex; flex-direction: row; flex-wrap: wrap; justify-content: flex-start; width: 100% }\n",
              "    .wandb-col { display: flex; flex-direction: column; flex-basis: 100%; flex: 1; padding: 10px; }\n",
              "    </style>\n",
              "<div class=\"wandb-row\"><div class=\"wandb-col\"><h3>Run history:</h3><br/><table class=\"wandb\"><tr><td>epoch</td><td>▁▂▃▃▄▅▆▆▇█</td></tr><tr><td>loss</td><td>█▁▁▂▂▂▂▂▂▁▁▁▁▂▂▁▁▁▁▂▂▁▂▁▁▁▁▂▂▂</td></tr><tr><td>train_loss</td><td>▁▇▃▁▁█▁▃▃▂</td></tr><tr><td>val_loss</td><td>▁▇▃▁▁█▁▃▃▂</td></tr></table><br/></div><div class=\"wandb-col\"><h3>Run summary:</h3><br/><table class=\"wandb\"><tr><td>epoch</td><td>10</td></tr><tr><td>loss</td><td>0.15013</td></tr><tr><td>train_loss</td><td>0.15038</td></tr><tr><td>val_loss</td><td>0.15028</td></tr></table><br/></div></div>"
            ]
          },
          "metadata": {}
        },
        {
          "output_type": "display_data",
          "data": {
            "text/plain": [
              "<IPython.core.display.HTML object>"
            ],
            "text/html": [
              " View run <strong style=\"color:#cdcd00\">solar-sweep-1</strong> at: <a href='https://wandb.ai/freyajiang/project-cnn-sweep/runs/ohaebdym' target=\"_blank\">https://wandb.ai/freyajiang/project-cnn-sweep/runs/ohaebdym</a><br/> View project at: <a href='https://wandb.ai/freyajiang/project-cnn-sweep' target=\"_blank\">https://wandb.ai/freyajiang/project-cnn-sweep</a><br/>Synced 5 W&B file(s), 0 media file(s), 0 artifact file(s) and 0 other file(s)"
            ]
          },
          "metadata": {}
        },
        {
          "output_type": "display_data",
          "data": {
            "text/plain": [
              "<IPython.core.display.HTML object>"
            ],
            "text/html": [
              "Find logs at: <code>./wandb/run-20240425_015356-ohaebdym/logs</code>"
            ]
          },
          "metadata": {}
        },
        {
          "output_type": "stream",
          "name": "stderr",
          "text": [
            "\u001b[34m\u001b[1mwandb\u001b[0m: Sweep Agent: Waiting for job.\n",
            "\u001b[34m\u001b[1mwandb\u001b[0m: Job received.\n",
            "\u001b[34m\u001b[1mwandb\u001b[0m: Agent Starting Run: k41i0wb1 with config:\n",
            "\u001b[34m\u001b[1mwandb\u001b[0m: \tbatch_size: 64\n",
            "\u001b[34m\u001b[1mwandb\u001b[0m: \tlearning_rate: 0.001\n"
          ]
        },
        {
          "output_type": "display_data",
          "data": {
            "text/plain": [
              "<IPython.core.display.HTML object>"
            ],
            "text/html": [
              "Tracking run with wandb version 0.16.6"
            ]
          },
          "metadata": {}
        },
        {
          "output_type": "display_data",
          "data": {
            "text/plain": [
              "<IPython.core.display.HTML object>"
            ],
            "text/html": [
              "Run data is saved locally in <code>/content/wandb/run-20240425_032200-k41i0wb1</code>"
            ]
          },
          "metadata": {}
        },
        {
          "output_type": "display_data",
          "data": {
            "text/plain": [
              "<IPython.core.display.HTML object>"
            ],
            "text/html": [
              "Syncing run <strong><a href='https://wandb.ai/freyajiang/project-cnn-sweep/runs/k41i0wb1' target=\"_blank\">expert-sweep-2</a></strong> to <a href='https://wandb.ai/freyajiang/project-cnn-sweep' target=\"_blank\">Weights & Biases</a> (<a href='https://wandb.me/run' target=\"_blank\">docs</a>)<br/>Sweep page: <a href='https://wandb.ai/freyajiang/project-cnn-sweep/sweeps/npg6olxv' target=\"_blank\">https://wandb.ai/freyajiang/project-cnn-sweep/sweeps/npg6olxv</a>"
            ]
          },
          "metadata": {}
        },
        {
          "output_type": "display_data",
          "data": {
            "text/plain": [
              "<IPython.core.display.HTML object>"
            ],
            "text/html": [
              " View project at <a href='https://wandb.ai/freyajiang/project-cnn-sweep' target=\"_blank\">https://wandb.ai/freyajiang/project-cnn-sweep</a>"
            ]
          },
          "metadata": {}
        },
        {
          "output_type": "display_data",
          "data": {
            "text/plain": [
              "<IPython.core.display.HTML object>"
            ],
            "text/html": [
              " View sweep at <a href='https://wandb.ai/freyajiang/project-cnn-sweep/sweeps/npg6olxv' target=\"_blank\">https://wandb.ai/freyajiang/project-cnn-sweep/sweeps/npg6olxv</a>"
            ]
          },
          "metadata": {}
        },
        {
          "output_type": "display_data",
          "data": {
            "text/plain": [
              "<IPython.core.display.HTML object>"
            ],
            "text/html": [
              " View run at <a href='https://wandb.ai/freyajiang/project-cnn-sweep/runs/k41i0wb1' target=\"_blank\">https://wandb.ai/freyajiang/project-cnn-sweep/runs/k41i0wb1</a>"
            ]
          },
          "metadata": {}
        },
        {
          "output_type": "stream",
          "name": "stdout",
          "text": [
            "Epoch 1  batch 1 . Training Loss:  0.4885199964046478\n",
            "Epoch 1  batch 10001 . Training Loss:  0.18409141898155212\n",
            "Epoch 1  batch 20001 . Training Loss:  0.16045378148555756\n",
            "Epoch [1/10], Train Loss: 0.15046894550323486, Validation Loss: 0.15037208795547485\n",
            "Epoch 2  batch 1 . Training Loss:  0.17643283307552338\n",
            "Epoch 2  batch 10001 . Training Loss:  0.11759474873542786\n",
            "Epoch 2  batch 20001 . Training Loss:  0.1683395653963089\n",
            "Epoch [2/10], Train Loss: 0.1500239074230194, Validation Loss: 0.14992879331111908\n",
            "Epoch 3  batch 1 . Training Loss:  0.14875829219818115\n",
            "Epoch 3  batch 10001 . Training Loss:  0.17602869868278503\n",
            "Epoch 3  batch 20001 . Training Loss:  0.14499790966510773\n",
            "Epoch [3/10], Train Loss: 0.14996600151062012, Validation Loss: 0.1498720347881317\n",
            "Epoch 4  batch 1 . Training Loss:  0.14871719479560852\n",
            "Epoch 4  batch 10001 . Training Loss:  0.19150158762931824\n",
            "Epoch 4  batch 20001 . Training Loss:  0.1452411413192749\n",
            "Epoch [4/10], Train Loss: 0.14994069933891296, Validation Loss: 0.14984360337257385\n",
            "Epoch 5  batch 1 . Training Loss:  0.15240706503391266\n",
            "Epoch 5  batch 10001 . Training Loss:  0.17224696278572083\n",
            "Epoch 5  batch 20001 . Training Loss:  0.14851003885269165\n",
            "Epoch [5/10], Train Loss: 0.14980031549930573, Validation Loss: 0.1497153341770172\n",
            "Epoch 6  batch 1 . Training Loss:  0.13683916628360748\n",
            "Epoch 6  batch 10001 . Training Loss:  0.12914898991584778\n",
            "Epoch 6  batch 20001 . Training Loss:  0.15283584594726562\n",
            "Epoch [6/10], Train Loss: 0.15014195442199707, Validation Loss: 0.1500443071126938\n",
            "Epoch 7  batch 1 . Training Loss:  0.14876624941825867\n",
            "Epoch 7  batch 10001 . Training Loss:  0.13301622867584229\n",
            "Epoch 7  batch 20001 . Training Loss:  0.14900271594524384\n",
            "Epoch [7/10], Train Loss: 0.15038801729679108, Validation Loss: 0.15029115974903107\n",
            "Epoch 8  batch 1 . Training Loss:  0.11800359934568405\n",
            "Epoch 8  batch 10001 . Training Loss:  0.14087194204330444\n",
            "Epoch 8  batch 20001 . Training Loss:  0.15281376242637634\n",
            "Epoch [8/10], Train Loss: 0.15003947913646698, Validation Loss: 0.1499434858560562\n",
            "Validation loss hasn't dropped. Early stopping!\n"
          ]
        },
        {
          "output_type": "display_data",
          "data": {
            "text/plain": [
              "VBox(children=(Label(value='0.002 MB of 0.014 MB uploaded\\r'), FloatProgress(value=0.12937358916478556, max=1.…"
            ],
            "application/vnd.jupyter.widget-view+json": {
              "version_major": 2,
              "version_minor": 0,
              "model_id": "810b903ae9954c6cb50c70147f0b0389"
            }
          },
          "metadata": {}
        },
        {
          "output_type": "display_data",
          "data": {
            "text/plain": [
              "<IPython.core.display.HTML object>"
            ],
            "text/html": [
              "<style>\n",
              "    table.wandb td:nth-child(1) { padding: 0 10px; text-align: left ; width: auto;} td:nth-child(2) {text-align: left ; width: 100%}\n",
              "    .wandb-row { display: flex; flex-direction: row; flex-wrap: wrap; justify-content: flex-start; width: 100% }\n",
              "    .wandb-col { display: flex; flex-direction: column; flex-basis: 100%; flex: 1; padding: 10px; }\n",
              "    </style>\n",
              "<div class=\"wandb-row\"><div class=\"wandb-col\"><h3>Run history:</h3><br/><table class=\"wandb\"><tr><td>epoch</td><td>▁▂▃▄▅▆▇█</td></tr><tr><td>loss</td><td>█▂▂▂▁▂▂▂▂▂▂▂▂▂▂▁▁▂▂▁▂▁▁▂</td></tr><tr><td>train_loss</td><td>█▃▃▂▁▅▇▄</td></tr><tr><td>val_loss</td><td>█▃▃▂▁▅▇▃</td></tr></table><br/></div><div class=\"wandb-col\"><h3>Run summary:</h3><br/><table class=\"wandb\"><tr><td>epoch</td><td>8</td></tr><tr><td>loss</td><td>0.15281</td></tr><tr><td>train_loss</td><td>0.15004</td></tr><tr><td>val_loss</td><td>0.14994</td></tr></table><br/></div></div>"
            ]
          },
          "metadata": {}
        },
        {
          "output_type": "display_data",
          "data": {
            "text/plain": [
              "<IPython.core.display.HTML object>"
            ],
            "text/html": [
              " View run <strong style=\"color:#cdcd00\">expert-sweep-2</strong> at: <a href='https://wandb.ai/freyajiang/project-cnn-sweep/runs/k41i0wb1' target=\"_blank\">https://wandb.ai/freyajiang/project-cnn-sweep/runs/k41i0wb1</a><br/> View project at: <a href='https://wandb.ai/freyajiang/project-cnn-sweep' target=\"_blank\">https://wandb.ai/freyajiang/project-cnn-sweep</a><br/>Synced 5 W&B file(s), 0 media file(s), 0 artifact file(s) and 0 other file(s)"
            ]
          },
          "metadata": {}
        },
        {
          "output_type": "display_data",
          "data": {
            "text/plain": [
              "<IPython.core.display.HTML object>"
            ],
            "text/html": [
              "Find logs at: <code>./wandb/run-20240425_032200-k41i0wb1/logs</code>"
            ]
          },
          "metadata": {}
        },
        {
          "output_type": "stream",
          "name": "stderr",
          "text": [
            "\u001b[34m\u001b[1mwandb\u001b[0m: Agent Starting Run: 9ei5va6c with config:\n",
            "\u001b[34m\u001b[1mwandb\u001b[0m: \tbatch_size: 128\n",
            "\u001b[34m\u001b[1mwandb\u001b[0m: \tlearning_rate: 0.01\n"
          ]
        },
        {
          "output_type": "display_data",
          "data": {
            "text/plain": [
              "<IPython.core.display.HTML object>"
            ],
            "text/html": [
              "Tracking run with wandb version 0.16.6"
            ]
          },
          "metadata": {}
        },
        {
          "output_type": "display_data",
          "data": {
            "text/plain": [
              "<IPython.core.display.HTML object>"
            ],
            "text/html": [
              "Run data is saved locally in <code>/content/wandb/run-20240425_042942-9ei5va6c</code>"
            ]
          },
          "metadata": {}
        },
        {
          "output_type": "display_data",
          "data": {
            "text/plain": [
              "<IPython.core.display.HTML object>"
            ],
            "text/html": [
              "Syncing run <strong><a href='https://wandb.ai/freyajiang/project-cnn-sweep/runs/9ei5va6c' target=\"_blank\">brisk-sweep-3</a></strong> to <a href='https://wandb.ai/freyajiang/project-cnn-sweep' target=\"_blank\">Weights & Biases</a> (<a href='https://wandb.me/run' target=\"_blank\">docs</a>)<br/>Sweep page: <a href='https://wandb.ai/freyajiang/project-cnn-sweep/sweeps/npg6olxv' target=\"_blank\">https://wandb.ai/freyajiang/project-cnn-sweep/sweeps/npg6olxv</a>"
            ]
          },
          "metadata": {}
        },
        {
          "output_type": "display_data",
          "data": {
            "text/plain": [
              "<IPython.core.display.HTML object>"
            ],
            "text/html": [
              " View project at <a href='https://wandb.ai/freyajiang/project-cnn-sweep' target=\"_blank\">https://wandb.ai/freyajiang/project-cnn-sweep</a>"
            ]
          },
          "metadata": {}
        },
        {
          "output_type": "display_data",
          "data": {
            "text/plain": [
              "<IPython.core.display.HTML object>"
            ],
            "text/html": [
              " View sweep at <a href='https://wandb.ai/freyajiang/project-cnn-sweep/sweeps/npg6olxv' target=\"_blank\">https://wandb.ai/freyajiang/project-cnn-sweep/sweeps/npg6olxv</a>"
            ]
          },
          "metadata": {}
        },
        {
          "output_type": "display_data",
          "data": {
            "text/plain": [
              "<IPython.core.display.HTML object>"
            ],
            "text/html": [
              " View run at <a href='https://wandb.ai/freyajiang/project-cnn-sweep/runs/9ei5va6c' target=\"_blank\">https://wandb.ai/freyajiang/project-cnn-sweep/runs/9ei5va6c</a>"
            ]
          },
          "metadata": {}
        },
        {
          "output_type": "stream",
          "name": "stdout",
          "text": [
            "Epoch 1  batch 1 . Training Loss:  0.4485552906990051\n",
            "Epoch 1  batch 10001 . Training Loss:  0.15033277869224548\n",
            "Epoch [1/10], Train Loss: 0.1506001502275467, Validation Loss: 0.15049661695957184\n",
            "Epoch 2  batch 1 . Training Loss:  0.16280457377433777\n",
            "Epoch 2  batch 10001 . Training Loss:  0.15129302442073822\n",
            "Epoch [2/10], Train Loss: 0.14987291395664215, Validation Loss: 0.14977458119392395\n",
            "Epoch 3  batch 1 . Training Loss:  0.17202851176261902\n",
            "Epoch 3  batch 10001 . Training Loss:  0.13614621758460999\n",
            "Epoch [3/10], Train Loss: 0.149770587682724, Validation Loss: 0.14966534078121185\n",
            "Epoch 4  batch 1 . Training Loss:  0.1484878957271576\n",
            "Epoch 4  batch 10001 . Training Loss:  0.19167758524417877\n",
            "Epoch [4/10], Train Loss: 0.15091216564178467, Validation Loss: 0.1508076786994934\n",
            "Epoch 5  batch 1 . Training Loss:  0.13803544640541077\n",
            "Epoch 5  batch 10001 . Training Loss:  0.16924616694450378\n",
            "Epoch [5/10], Train Loss: 0.1499035656452179, Validation Loss: 0.1497960239648819\n",
            "Epoch 6  batch 1 . Training Loss:  0.14279907941818237\n",
            "Epoch 6  batch 10001 . Training Loss:  0.15654392540454865\n",
            "Epoch [6/10], Train Loss: 0.14985047280788422, Validation Loss: 0.14975912868976593\n",
            "Validation loss hasn't dropped. Early stopping!\n"
          ]
        },
        {
          "output_type": "display_data",
          "data": {
            "text/plain": [
              "VBox(children=(Label(value='0.002 MB of 0.002 MB uploaded\\r'), FloatProgress(value=1.0, max=1.0)))"
            ],
            "application/vnd.jupyter.widget-view+json": {
              "version_major": 2,
              "version_minor": 0,
              "model_id": "990c3b2e0e8b4a81a581631d80aaf82d"
            }
          },
          "metadata": {}
        },
        {
          "output_type": "display_data",
          "data": {
            "text/plain": [
              "<IPython.core.display.HTML object>"
            ],
            "text/html": [
              "<style>\n",
              "    table.wandb td:nth-child(1) { padding: 0 10px; text-align: left ; width: auto;} td:nth-child(2) {text-align: left ; width: 100%}\n",
              "    .wandb-row { display: flex; flex-direction: row; flex-wrap: wrap; justify-content: flex-start; width: 100% }\n",
              "    .wandb-col { display: flex; flex-direction: column; flex-basis: 100%; flex: 1; padding: 10px; }\n",
              "    </style>\n",
              "<div class=\"wandb-row\"><div class=\"wandb-col\"><h3>Run history:</h3><br/><table class=\"wandb\"><tr><td>epoch</td><td>▁▂▄▅▇█</td></tr><tr><td>loss</td><td>█▁▂▁▂▁▁▂▁▂▁▁</td></tr><tr><td>train_loss</td><td>▆▂▁█▂▁</td></tr><tr><td>val_loss</td><td>▆▂▁█▂▂</td></tr></table><br/></div><div class=\"wandb-col\"><h3>Run summary:</h3><br/><table class=\"wandb\"><tr><td>epoch</td><td>6</td></tr><tr><td>loss</td><td>0.15654</td></tr><tr><td>train_loss</td><td>0.14985</td></tr><tr><td>val_loss</td><td>0.14976</td></tr></table><br/></div></div>"
            ]
          },
          "metadata": {}
        },
        {
          "output_type": "display_data",
          "data": {
            "text/plain": [
              "<IPython.core.display.HTML object>"
            ],
            "text/html": [
              " View run <strong style=\"color:#cdcd00\">brisk-sweep-3</strong> at: <a href='https://wandb.ai/freyajiang/project-cnn-sweep/runs/9ei5va6c' target=\"_blank\">https://wandb.ai/freyajiang/project-cnn-sweep/runs/9ei5va6c</a><br/> View project at: <a href='https://wandb.ai/freyajiang/project-cnn-sweep' target=\"_blank\">https://wandb.ai/freyajiang/project-cnn-sweep</a><br/>Synced 5 W&B file(s), 0 media file(s), 0 artifact file(s) and 0 other file(s)"
            ]
          },
          "metadata": {}
        },
        {
          "output_type": "display_data",
          "data": {
            "text/plain": [
              "<IPython.core.display.HTML object>"
            ],
            "text/html": [
              "Find logs at: <code>./wandb/run-20240425_042942-9ei5va6c/logs</code>"
            ]
          },
          "metadata": {}
        },
        {
          "output_type": "stream",
          "name": "stderr",
          "text": [
            "\u001b[34m\u001b[1mwandb\u001b[0m: Agent Starting Run: 99mtjyow with config:\n",
            "\u001b[34m\u001b[1mwandb\u001b[0m: \tbatch_size: 128\n",
            "\u001b[34m\u001b[1mwandb\u001b[0m: \tlearning_rate: 0.001\n"
          ]
        },
        {
          "output_type": "display_data",
          "data": {
            "text/plain": [
              "<IPython.core.display.HTML object>"
            ],
            "text/html": [
              "Tracking run with wandb version 0.16.6"
            ]
          },
          "metadata": {}
        },
        {
          "output_type": "display_data",
          "data": {
            "text/plain": [
              "<IPython.core.display.HTML object>"
            ],
            "text/html": [
              "Run data is saved locally in <code>/content/wandb/run-20240425_051559-99mtjyow</code>"
            ]
          },
          "metadata": {}
        },
        {
          "output_type": "display_data",
          "data": {
            "text/plain": [
              "<IPython.core.display.HTML object>"
            ],
            "text/html": [
              "Syncing run <strong><a href='https://wandb.ai/freyajiang/project-cnn-sweep/runs/99mtjyow' target=\"_blank\">silver-sweep-4</a></strong> to <a href='https://wandb.ai/freyajiang/project-cnn-sweep' target=\"_blank\">Weights & Biases</a> (<a href='https://wandb.me/run' target=\"_blank\">docs</a>)<br/>Sweep page: <a href='https://wandb.ai/freyajiang/project-cnn-sweep/sweeps/npg6olxv' target=\"_blank\">https://wandb.ai/freyajiang/project-cnn-sweep/sweeps/npg6olxv</a>"
            ]
          },
          "metadata": {}
        },
        {
          "output_type": "display_data",
          "data": {
            "text/plain": [
              "<IPython.core.display.HTML object>"
            ],
            "text/html": [
              " View project at <a href='https://wandb.ai/freyajiang/project-cnn-sweep' target=\"_blank\">https://wandb.ai/freyajiang/project-cnn-sweep</a>"
            ]
          },
          "metadata": {}
        },
        {
          "output_type": "display_data",
          "data": {
            "text/plain": [
              "<IPython.core.display.HTML object>"
            ],
            "text/html": [
              " View sweep at <a href='https://wandb.ai/freyajiang/project-cnn-sweep/sweeps/npg6olxv' target=\"_blank\">https://wandb.ai/freyajiang/project-cnn-sweep/sweeps/npg6olxv</a>"
            ]
          },
          "metadata": {}
        },
        {
          "output_type": "display_data",
          "data": {
            "text/plain": [
              "<IPython.core.display.HTML object>"
            ],
            "text/html": [
              " View run at <a href='https://wandb.ai/freyajiang/project-cnn-sweep/runs/99mtjyow' target=\"_blank\">https://wandb.ai/freyajiang/project-cnn-sweep/runs/99mtjyow</a>"
            ]
          },
          "metadata": {}
        },
        {
          "output_type": "stream",
          "name": "stdout",
          "text": [
            "Epoch 1  batch 1 . Training Loss:  0.4454803466796875\n",
            "Epoch 1  batch 10001 . Training Loss:  0.12356576323509216\n",
            "Epoch [1/10], Train Loss: 0.1501377373933792, Validation Loss: 0.15003560483455658\n",
            "Epoch 2  batch 1 . Training Loss:  0.1469590961933136\n",
            "Epoch 2  batch 10001 . Training Loss:  0.15698452293872833\n",
            "Epoch [2/10], Train Loss: 0.15009655058383942, Validation Loss: 0.1499951034784317\n",
            "Epoch 3  batch 1 . Training Loss:  0.14101357758045197\n",
            "Epoch 3  batch 10001 . Training Loss:  0.14296910166740417\n",
            "Epoch [3/10], Train Loss: 0.14996588230133057, Validation Loss: 0.1498667597770691\n",
            "Epoch 4  batch 1 . Training Loss:  0.1467316746711731\n",
            "Epoch 4  batch 10001 . Training Loss:  0.1622784435749054\n",
            "Epoch [4/10], Train Loss: 0.1498270183801651, Validation Loss: 0.14971651136875153\n",
            "Epoch 5  batch 1 . Training Loss:  0.14073917269706726\n",
            "Epoch 5  batch 10001 . Training Loss:  0.1585732400417328\n",
            "Epoch [5/10], Train Loss: 0.14996489882469177, Validation Loss: 0.14986349642276764\n",
            "Epoch 6  batch 1 . Training Loss:  0.1642390340566635\n",
            "Epoch 6  batch 10001 . Training Loss:  0.15484750270843506\n",
            "Epoch [6/10], Train Loss: 0.15032748878002167, Validation Loss: 0.1502256989479065\n",
            "Epoch 7  batch 1 . Training Loss:  0.14528340101242065\n",
            "Epoch 7  batch 10001 . Training Loss:  0.15847627818584442\n",
            "Epoch [7/10], Train Loss: 0.15002751350402832, Validation Loss: 0.14992362260818481\n",
            "Validation loss hasn't dropped. Early stopping!\n"
          ]
        },
        {
          "output_type": "display_data",
          "data": {
            "text/plain": [
              "VBox(children=(Label(value='0.002 MB of 0.002 MB uploaded\\r'), FloatProgress(value=1.0, max=1.0)))"
            ],
            "application/vnd.jupyter.widget-view+json": {
              "version_major": 2,
              "version_minor": 0,
              "model_id": "c64ad2f14b7d4e03bd706bc769fcce20"
            }
          },
          "metadata": {}
        },
        {
          "output_type": "display_data",
          "data": {
            "text/plain": [
              "<IPython.core.display.HTML object>"
            ],
            "text/html": [
              "<style>\n",
              "    table.wandb td:nth-child(1) { padding: 0 10px; text-align: left ; width: auto;} td:nth-child(2) {text-align: left ; width: 100%}\n",
              "    .wandb-row { display: flex; flex-direction: row; flex-wrap: wrap; justify-content: flex-start; width: 100% }\n",
              "    .wandb-col { display: flex; flex-direction: column; flex-basis: 100%; flex: 1; padding: 10px; }\n",
              "    </style>\n",
              "<div class=\"wandb-row\"><div class=\"wandb-col\"><h3>Run history:</h3><br/><table class=\"wandb\"><tr><td>epoch</td><td>▁▂▃▅▆▇█</td></tr><tr><td>loss</td><td>█▁▂▂▁▁▂▂▁▂▂▂▁▂</td></tr><tr><td>train_loss</td><td>▅▅▃▁▃█▄</td></tr><tr><td>val_loss</td><td>▅▅▃▁▃█▄</td></tr></table><br/></div><div class=\"wandb-col\"><h3>Run summary:</h3><br/><table class=\"wandb\"><tr><td>epoch</td><td>7</td></tr><tr><td>loss</td><td>0.15848</td></tr><tr><td>train_loss</td><td>0.15003</td></tr><tr><td>val_loss</td><td>0.14992</td></tr></table><br/></div></div>"
            ]
          },
          "metadata": {}
        },
        {
          "output_type": "display_data",
          "data": {
            "text/plain": [
              "<IPython.core.display.HTML object>"
            ],
            "text/html": [
              " View run <strong style=\"color:#cdcd00\">silver-sweep-4</strong> at: <a href='https://wandb.ai/freyajiang/project-cnn-sweep/runs/99mtjyow' target=\"_blank\">https://wandb.ai/freyajiang/project-cnn-sweep/runs/99mtjyow</a><br/> View project at: <a href='https://wandb.ai/freyajiang/project-cnn-sweep' target=\"_blank\">https://wandb.ai/freyajiang/project-cnn-sweep</a><br/>Synced 5 W&B file(s), 0 media file(s), 0 artifact file(s) and 0 other file(s)"
            ]
          },
          "metadata": {}
        },
        {
          "output_type": "display_data",
          "data": {
            "text/plain": [
              "<IPython.core.display.HTML object>"
            ],
            "text/html": [
              "Find logs at: <code>./wandb/run-20240425_051559-99mtjyow/logs</code>"
            ]
          },
          "metadata": {}
        },
        {
          "output_type": "stream",
          "name": "stderr",
          "text": [
            "\u001b[34m\u001b[1mwandb\u001b[0m: Sweep Agent: Waiting for job.\n",
            "\u001b[34m\u001b[1mwandb\u001b[0m: Sweep Agent: Exiting.\n"
          ]
        }
      ]
    },
    {
      "cell_type": "code",
      "source": [
        "# Once training is done, load the best model (might not be the last model due to early stopping)\n",
        "model2 = torch.load(r\"./best_model.pt\")\n",
        "test_loss = get_loss(test_dataloader, model2)\n",
        "print(\"best model performance Test set:\", test_loss)"
      ],
      "metadata": {
        "id": "KLin6i3pwLd7",
        "colab": {
          "base_uri": "https://localhost:8080/"
        },
        "outputId": "e3f6d977-d437-4d81-e7c8-d28bbcccd18f"
      },
      "id": "KLin6i3pwLd7",
      "execution_count": null,
      "outputs": [
        {
          "output_type": "stream",
          "name": "stdout",
          "text": [
            "best model performance Test set: tensor(0.3975, device='cuda:0')\n"
          ]
        }
      ]
    }
  ],
  "metadata": {
    "accelerator": "GPU",
    "colab": {
      "gpuType": "T4",
      "provenance": [],
      "machine_shape": "hm",
      "toc_visible": true
    },
    "environment": {
      "kernel": "python3",
      "name": "common-cpu.m119",
      "type": "gcloud",
      "uri": "us-docker.pkg.dev/deeplearning-platform-release/gcr.io/base-cpu:m119"
    },
    "kernelspec": {
      "display_name": "Python 3",
      "name": "python3"
    },
    "language_info": {
      "codemirror_mode": {
        "name": "ipython",
        "version": 3
      },
      "file_extension": ".py",
      "mimetype": "text/x-python",
      "name": "python",
      "nbconvert_exporter": "python",
      "pygments_lexer": "ipython3",
      "version": "3.10.14"
    },
    "widgets": {
      "application/vnd.jupyter.widget-state+json": {
        "7514f40ab5ee42cd8d16ba051f9fc633": {
          "model_module": "@jupyter-widgets/controls",
          "model_name": "VBoxModel",
          "model_module_version": "1.5.0",
          "state": {
            "_dom_classes": [],
            "_model_module": "@jupyter-widgets/controls",
            "_model_module_version": "1.5.0",
            "_model_name": "VBoxModel",
            "_view_count": null,
            "_view_module": "@jupyter-widgets/controls",
            "_view_module_version": "1.5.0",
            "_view_name": "VBoxView",
            "box_style": "",
            "children": [
              "IPY_MODEL_7afe0c60cb964e959b21a0cff9bc387a",
              "IPY_MODEL_5f8dcdc57fff4d1691ace91f965cf07e"
            ],
            "layout": "IPY_MODEL_56f4030a78cb434d9ba627e0da9e20ab"
          }
        },
        "7afe0c60cb964e959b21a0cff9bc387a": {
          "model_module": "@jupyter-widgets/controls",
          "model_name": "LabelModel",
          "model_module_version": "1.5.0",
          "state": {
            "_dom_classes": [],
            "_model_module": "@jupyter-widgets/controls",
            "_model_module_version": "1.5.0",
            "_model_name": "LabelModel",
            "_view_count": null,
            "_view_module": "@jupyter-widgets/controls",
            "_view_module_version": "1.5.0",
            "_view_name": "LabelView",
            "description": "",
            "description_tooltip": null,
            "layout": "IPY_MODEL_39c0eaec60804711a1ac1430d5b38c2c",
            "placeholder": "​",
            "style": "IPY_MODEL_ef208c7d246943a8b2b92fe81689863b",
            "value": "0.013 MB of 0.013 MB uploaded\r"
          }
        },
        "5f8dcdc57fff4d1691ace91f965cf07e": {
          "model_module": "@jupyter-widgets/controls",
          "model_name": "FloatProgressModel",
          "model_module_version": "1.5.0",
          "state": {
            "_dom_classes": [],
            "_model_module": "@jupyter-widgets/controls",
            "_model_module_version": "1.5.0",
            "_model_name": "FloatProgressModel",
            "_view_count": null,
            "_view_module": "@jupyter-widgets/controls",
            "_view_module_version": "1.5.0",
            "_view_name": "ProgressView",
            "bar_style": "",
            "description": "",
            "description_tooltip": null,
            "layout": "IPY_MODEL_f04ac1a9da21448f8460cf2810b3b632",
            "max": 1,
            "min": 0,
            "orientation": "horizontal",
            "style": "IPY_MODEL_2a526a71635044328053d2514c21df25",
            "value": 1
          }
        },
        "56f4030a78cb434d9ba627e0da9e20ab": {
          "model_module": "@jupyter-widgets/base",
          "model_name": "LayoutModel",
          "model_module_version": "1.2.0",
          "state": {
            "_model_module": "@jupyter-widgets/base",
            "_model_module_version": "1.2.0",
            "_model_name": "LayoutModel",
            "_view_count": null,
            "_view_module": "@jupyter-widgets/base",
            "_view_module_version": "1.2.0",
            "_view_name": "LayoutView",
            "align_content": null,
            "align_items": null,
            "align_self": null,
            "border": null,
            "bottom": null,
            "display": null,
            "flex": null,
            "flex_flow": null,
            "grid_area": null,
            "grid_auto_columns": null,
            "grid_auto_flow": null,
            "grid_auto_rows": null,
            "grid_column": null,
            "grid_gap": null,
            "grid_row": null,
            "grid_template_areas": null,
            "grid_template_columns": null,
            "grid_template_rows": null,
            "height": null,
            "justify_content": null,
            "justify_items": null,
            "left": null,
            "margin": null,
            "max_height": null,
            "max_width": null,
            "min_height": null,
            "min_width": null,
            "object_fit": null,
            "object_position": null,
            "order": null,
            "overflow": null,
            "overflow_x": null,
            "overflow_y": null,
            "padding": null,
            "right": null,
            "top": null,
            "visibility": null,
            "width": null
          }
        },
        "39c0eaec60804711a1ac1430d5b38c2c": {
          "model_module": "@jupyter-widgets/base",
          "model_name": "LayoutModel",
          "model_module_version": "1.2.0",
          "state": {
            "_model_module": "@jupyter-widgets/base",
            "_model_module_version": "1.2.0",
            "_model_name": "LayoutModel",
            "_view_count": null,
            "_view_module": "@jupyter-widgets/base",
            "_view_module_version": "1.2.0",
            "_view_name": "LayoutView",
            "align_content": null,
            "align_items": null,
            "align_self": null,
            "border": null,
            "bottom": null,
            "display": null,
            "flex": null,
            "flex_flow": null,
            "grid_area": null,
            "grid_auto_columns": null,
            "grid_auto_flow": null,
            "grid_auto_rows": null,
            "grid_column": null,
            "grid_gap": null,
            "grid_row": null,
            "grid_template_areas": null,
            "grid_template_columns": null,
            "grid_template_rows": null,
            "height": null,
            "justify_content": null,
            "justify_items": null,
            "left": null,
            "margin": null,
            "max_height": null,
            "max_width": null,
            "min_height": null,
            "min_width": null,
            "object_fit": null,
            "object_position": null,
            "order": null,
            "overflow": null,
            "overflow_x": null,
            "overflow_y": null,
            "padding": null,
            "right": null,
            "top": null,
            "visibility": null,
            "width": null
          }
        },
        "ef208c7d246943a8b2b92fe81689863b": {
          "model_module": "@jupyter-widgets/controls",
          "model_name": "DescriptionStyleModel",
          "model_module_version": "1.5.0",
          "state": {
            "_model_module": "@jupyter-widgets/controls",
            "_model_module_version": "1.5.0",
            "_model_name": "DescriptionStyleModel",
            "_view_count": null,
            "_view_module": "@jupyter-widgets/base",
            "_view_module_version": "1.2.0",
            "_view_name": "StyleView",
            "description_width": ""
          }
        },
        "f04ac1a9da21448f8460cf2810b3b632": {
          "model_module": "@jupyter-widgets/base",
          "model_name": "LayoutModel",
          "model_module_version": "1.2.0",
          "state": {
            "_model_module": "@jupyter-widgets/base",
            "_model_module_version": "1.2.0",
            "_model_name": "LayoutModel",
            "_view_count": null,
            "_view_module": "@jupyter-widgets/base",
            "_view_module_version": "1.2.0",
            "_view_name": "LayoutView",
            "align_content": null,
            "align_items": null,
            "align_self": null,
            "border": null,
            "bottom": null,
            "display": null,
            "flex": null,
            "flex_flow": null,
            "grid_area": null,
            "grid_auto_columns": null,
            "grid_auto_flow": null,
            "grid_auto_rows": null,
            "grid_column": null,
            "grid_gap": null,
            "grid_row": null,
            "grid_template_areas": null,
            "grid_template_columns": null,
            "grid_template_rows": null,
            "height": null,
            "justify_content": null,
            "justify_items": null,
            "left": null,
            "margin": null,
            "max_height": null,
            "max_width": null,
            "min_height": null,
            "min_width": null,
            "object_fit": null,
            "object_position": null,
            "order": null,
            "overflow": null,
            "overflow_x": null,
            "overflow_y": null,
            "padding": null,
            "right": null,
            "top": null,
            "visibility": null,
            "width": null
          }
        },
        "2a526a71635044328053d2514c21df25": {
          "model_module": "@jupyter-widgets/controls",
          "model_name": "ProgressStyleModel",
          "model_module_version": "1.5.0",
          "state": {
            "_model_module": "@jupyter-widgets/controls",
            "_model_module_version": "1.5.0",
            "_model_name": "ProgressStyleModel",
            "_view_count": null,
            "_view_module": "@jupyter-widgets/base",
            "_view_module_version": "1.2.0",
            "_view_name": "StyleView",
            "bar_color": null,
            "description_width": ""
          }
        },
        "f1b21a57ae4e43cdb7c92ef47b8a2e88": {
          "model_module": "@jupyter-widgets/controls",
          "model_name": "VBoxModel",
          "model_module_version": "1.5.0",
          "state": {
            "_dom_classes": [],
            "_model_module": "@jupyter-widgets/controls",
            "_model_module_version": "1.5.0",
            "_model_name": "VBoxModel",
            "_view_count": null,
            "_view_module": "@jupyter-widgets/controls",
            "_view_module_version": "1.5.0",
            "_view_name": "VBoxView",
            "box_style": "",
            "children": [
              "IPY_MODEL_4180a3a7862740e6ba2a7b5dd145fd13",
              "IPY_MODEL_9fc628eb1e6a48cca14189da43bea3b9"
            ],
            "layout": "IPY_MODEL_17552a4dbded4377b6c7eb3dbf46be3e"
          }
        },
        "4180a3a7862740e6ba2a7b5dd145fd13": {
          "model_module": "@jupyter-widgets/controls",
          "model_name": "LabelModel",
          "model_module_version": "1.5.0",
          "state": {
            "_dom_classes": [],
            "_model_module": "@jupyter-widgets/controls",
            "_model_module_version": "1.5.0",
            "_model_name": "LabelModel",
            "_view_count": null,
            "_view_module": "@jupyter-widgets/controls",
            "_view_module_version": "1.5.0",
            "_view_name": "LabelView",
            "description": "",
            "description_tooltip": null,
            "layout": "IPY_MODEL_32fde8c49d5b4ee8ad827e1e96d5fb01",
            "placeholder": "​",
            "style": "IPY_MODEL_4500220eac474f4bbbd03405ef50ca93",
            "value": "0.014 MB of 0.014 MB uploaded\r"
          }
        },
        "9fc628eb1e6a48cca14189da43bea3b9": {
          "model_module": "@jupyter-widgets/controls",
          "model_name": "FloatProgressModel",
          "model_module_version": "1.5.0",
          "state": {
            "_dom_classes": [],
            "_model_module": "@jupyter-widgets/controls",
            "_model_module_version": "1.5.0",
            "_model_name": "FloatProgressModel",
            "_view_count": null,
            "_view_module": "@jupyter-widgets/controls",
            "_view_module_version": "1.5.0",
            "_view_name": "ProgressView",
            "bar_style": "",
            "description": "",
            "description_tooltip": null,
            "layout": "IPY_MODEL_5ea1ac9123b1453eb06e9ea8986639ac",
            "max": 1,
            "min": 0,
            "orientation": "horizontal",
            "style": "IPY_MODEL_11ef201554af4664b9b7c86ce9eb2067",
            "value": 1
          }
        },
        "17552a4dbded4377b6c7eb3dbf46be3e": {
          "model_module": "@jupyter-widgets/base",
          "model_name": "LayoutModel",
          "model_module_version": "1.2.0",
          "state": {
            "_model_module": "@jupyter-widgets/base",
            "_model_module_version": "1.2.0",
            "_model_name": "LayoutModel",
            "_view_count": null,
            "_view_module": "@jupyter-widgets/base",
            "_view_module_version": "1.2.0",
            "_view_name": "LayoutView",
            "align_content": null,
            "align_items": null,
            "align_self": null,
            "border": null,
            "bottom": null,
            "display": null,
            "flex": null,
            "flex_flow": null,
            "grid_area": null,
            "grid_auto_columns": null,
            "grid_auto_flow": null,
            "grid_auto_rows": null,
            "grid_column": null,
            "grid_gap": null,
            "grid_row": null,
            "grid_template_areas": null,
            "grid_template_columns": null,
            "grid_template_rows": null,
            "height": null,
            "justify_content": null,
            "justify_items": null,
            "left": null,
            "margin": null,
            "max_height": null,
            "max_width": null,
            "min_height": null,
            "min_width": null,
            "object_fit": null,
            "object_position": null,
            "order": null,
            "overflow": null,
            "overflow_x": null,
            "overflow_y": null,
            "padding": null,
            "right": null,
            "top": null,
            "visibility": null,
            "width": null
          }
        },
        "32fde8c49d5b4ee8ad827e1e96d5fb01": {
          "model_module": "@jupyter-widgets/base",
          "model_name": "LayoutModel",
          "model_module_version": "1.2.0",
          "state": {
            "_model_module": "@jupyter-widgets/base",
            "_model_module_version": "1.2.0",
            "_model_name": "LayoutModel",
            "_view_count": null,
            "_view_module": "@jupyter-widgets/base",
            "_view_module_version": "1.2.0",
            "_view_name": "LayoutView",
            "align_content": null,
            "align_items": null,
            "align_self": null,
            "border": null,
            "bottom": null,
            "display": null,
            "flex": null,
            "flex_flow": null,
            "grid_area": null,
            "grid_auto_columns": null,
            "grid_auto_flow": null,
            "grid_auto_rows": null,
            "grid_column": null,
            "grid_gap": null,
            "grid_row": null,
            "grid_template_areas": null,
            "grid_template_columns": null,
            "grid_template_rows": null,
            "height": null,
            "justify_content": null,
            "justify_items": null,
            "left": null,
            "margin": null,
            "max_height": null,
            "max_width": null,
            "min_height": null,
            "min_width": null,
            "object_fit": null,
            "object_position": null,
            "order": null,
            "overflow": null,
            "overflow_x": null,
            "overflow_y": null,
            "padding": null,
            "right": null,
            "top": null,
            "visibility": null,
            "width": null
          }
        },
        "4500220eac474f4bbbd03405ef50ca93": {
          "model_module": "@jupyter-widgets/controls",
          "model_name": "DescriptionStyleModel",
          "model_module_version": "1.5.0",
          "state": {
            "_model_module": "@jupyter-widgets/controls",
            "_model_module_version": "1.5.0",
            "_model_name": "DescriptionStyleModel",
            "_view_count": null,
            "_view_module": "@jupyter-widgets/base",
            "_view_module_version": "1.2.0",
            "_view_name": "StyleView",
            "description_width": ""
          }
        },
        "5ea1ac9123b1453eb06e9ea8986639ac": {
          "model_module": "@jupyter-widgets/base",
          "model_name": "LayoutModel",
          "model_module_version": "1.2.0",
          "state": {
            "_model_module": "@jupyter-widgets/base",
            "_model_module_version": "1.2.0",
            "_model_name": "LayoutModel",
            "_view_count": null,
            "_view_module": "@jupyter-widgets/base",
            "_view_module_version": "1.2.0",
            "_view_name": "LayoutView",
            "align_content": null,
            "align_items": null,
            "align_self": null,
            "border": null,
            "bottom": null,
            "display": null,
            "flex": null,
            "flex_flow": null,
            "grid_area": null,
            "grid_auto_columns": null,
            "grid_auto_flow": null,
            "grid_auto_rows": null,
            "grid_column": null,
            "grid_gap": null,
            "grid_row": null,
            "grid_template_areas": null,
            "grid_template_columns": null,
            "grid_template_rows": null,
            "height": null,
            "justify_content": null,
            "justify_items": null,
            "left": null,
            "margin": null,
            "max_height": null,
            "max_width": null,
            "min_height": null,
            "min_width": null,
            "object_fit": null,
            "object_position": null,
            "order": null,
            "overflow": null,
            "overflow_x": null,
            "overflow_y": null,
            "padding": null,
            "right": null,
            "top": null,
            "visibility": null,
            "width": null
          }
        },
        "11ef201554af4664b9b7c86ce9eb2067": {
          "model_module": "@jupyter-widgets/controls",
          "model_name": "ProgressStyleModel",
          "model_module_version": "1.5.0",
          "state": {
            "_model_module": "@jupyter-widgets/controls",
            "_model_module_version": "1.5.0",
            "_model_name": "ProgressStyleModel",
            "_view_count": null,
            "_view_module": "@jupyter-widgets/base",
            "_view_module_version": "1.2.0",
            "_view_name": "StyleView",
            "bar_color": null,
            "description_width": ""
          }
        },
        "810b903ae9954c6cb50c70147f0b0389": {
          "model_module": "@jupyter-widgets/controls",
          "model_name": "VBoxModel",
          "model_module_version": "1.5.0",
          "state": {
            "_dom_classes": [],
            "_model_module": "@jupyter-widgets/controls",
            "_model_module_version": "1.5.0",
            "_model_name": "VBoxModel",
            "_view_count": null,
            "_view_module": "@jupyter-widgets/controls",
            "_view_module_version": "1.5.0",
            "_view_name": "VBoxView",
            "box_style": "",
            "children": [
              "IPY_MODEL_4d8ceb40f19a40829e426a9355111539",
              "IPY_MODEL_234a8f7519a04a10a3724ef3aee37655"
            ],
            "layout": "IPY_MODEL_2a4cd4fd5dfd4e8c8226781f936c10ae"
          }
        },
        "4d8ceb40f19a40829e426a9355111539": {
          "model_module": "@jupyter-widgets/controls",
          "model_name": "LabelModel",
          "model_module_version": "1.5.0",
          "state": {
            "_dom_classes": [],
            "_model_module": "@jupyter-widgets/controls",
            "_model_module_version": "1.5.0",
            "_model_name": "LabelModel",
            "_view_count": null,
            "_view_module": "@jupyter-widgets/controls",
            "_view_module_version": "1.5.0",
            "_view_name": "LabelView",
            "description": "",
            "description_tooltip": null,
            "layout": "IPY_MODEL_2bbfc0362e6942ce88e184e92f3a6b8a",
            "placeholder": "​",
            "style": "IPY_MODEL_3c7d6738b1024ef28b56fcc7b9defee7",
            "value": "0.014 MB of 0.014 MB uploaded\r"
          }
        },
        "234a8f7519a04a10a3724ef3aee37655": {
          "model_module": "@jupyter-widgets/controls",
          "model_name": "FloatProgressModel",
          "model_module_version": "1.5.0",
          "state": {
            "_dom_classes": [],
            "_model_module": "@jupyter-widgets/controls",
            "_model_module_version": "1.5.0",
            "_model_name": "FloatProgressModel",
            "_view_count": null,
            "_view_module": "@jupyter-widgets/controls",
            "_view_module_version": "1.5.0",
            "_view_name": "ProgressView",
            "bar_style": "",
            "description": "",
            "description_tooltip": null,
            "layout": "IPY_MODEL_9a78ee4bc9c54211b136139f48478201",
            "max": 1,
            "min": 0,
            "orientation": "horizontal",
            "style": "IPY_MODEL_cfa0618ce8264c24bee51bb6de0b77b5",
            "value": 1
          }
        },
        "2a4cd4fd5dfd4e8c8226781f936c10ae": {
          "model_module": "@jupyter-widgets/base",
          "model_name": "LayoutModel",
          "model_module_version": "1.2.0",
          "state": {
            "_model_module": "@jupyter-widgets/base",
            "_model_module_version": "1.2.0",
            "_model_name": "LayoutModel",
            "_view_count": null,
            "_view_module": "@jupyter-widgets/base",
            "_view_module_version": "1.2.0",
            "_view_name": "LayoutView",
            "align_content": null,
            "align_items": null,
            "align_self": null,
            "border": null,
            "bottom": null,
            "display": null,
            "flex": null,
            "flex_flow": null,
            "grid_area": null,
            "grid_auto_columns": null,
            "grid_auto_flow": null,
            "grid_auto_rows": null,
            "grid_column": null,
            "grid_gap": null,
            "grid_row": null,
            "grid_template_areas": null,
            "grid_template_columns": null,
            "grid_template_rows": null,
            "height": null,
            "justify_content": null,
            "justify_items": null,
            "left": null,
            "margin": null,
            "max_height": null,
            "max_width": null,
            "min_height": null,
            "min_width": null,
            "object_fit": null,
            "object_position": null,
            "order": null,
            "overflow": null,
            "overflow_x": null,
            "overflow_y": null,
            "padding": null,
            "right": null,
            "top": null,
            "visibility": null,
            "width": null
          }
        },
        "2bbfc0362e6942ce88e184e92f3a6b8a": {
          "model_module": "@jupyter-widgets/base",
          "model_name": "LayoutModel",
          "model_module_version": "1.2.0",
          "state": {
            "_model_module": "@jupyter-widgets/base",
            "_model_module_version": "1.2.0",
            "_model_name": "LayoutModel",
            "_view_count": null,
            "_view_module": "@jupyter-widgets/base",
            "_view_module_version": "1.2.0",
            "_view_name": "LayoutView",
            "align_content": null,
            "align_items": null,
            "align_self": null,
            "border": null,
            "bottom": null,
            "display": null,
            "flex": null,
            "flex_flow": null,
            "grid_area": null,
            "grid_auto_columns": null,
            "grid_auto_flow": null,
            "grid_auto_rows": null,
            "grid_column": null,
            "grid_gap": null,
            "grid_row": null,
            "grid_template_areas": null,
            "grid_template_columns": null,
            "grid_template_rows": null,
            "height": null,
            "justify_content": null,
            "justify_items": null,
            "left": null,
            "margin": null,
            "max_height": null,
            "max_width": null,
            "min_height": null,
            "min_width": null,
            "object_fit": null,
            "object_position": null,
            "order": null,
            "overflow": null,
            "overflow_x": null,
            "overflow_y": null,
            "padding": null,
            "right": null,
            "top": null,
            "visibility": null,
            "width": null
          }
        },
        "3c7d6738b1024ef28b56fcc7b9defee7": {
          "model_module": "@jupyter-widgets/controls",
          "model_name": "DescriptionStyleModel",
          "model_module_version": "1.5.0",
          "state": {
            "_model_module": "@jupyter-widgets/controls",
            "_model_module_version": "1.5.0",
            "_model_name": "DescriptionStyleModel",
            "_view_count": null,
            "_view_module": "@jupyter-widgets/base",
            "_view_module_version": "1.2.0",
            "_view_name": "StyleView",
            "description_width": ""
          }
        },
        "9a78ee4bc9c54211b136139f48478201": {
          "model_module": "@jupyter-widgets/base",
          "model_name": "LayoutModel",
          "model_module_version": "1.2.0",
          "state": {
            "_model_module": "@jupyter-widgets/base",
            "_model_module_version": "1.2.0",
            "_model_name": "LayoutModel",
            "_view_count": null,
            "_view_module": "@jupyter-widgets/base",
            "_view_module_version": "1.2.0",
            "_view_name": "LayoutView",
            "align_content": null,
            "align_items": null,
            "align_self": null,
            "border": null,
            "bottom": null,
            "display": null,
            "flex": null,
            "flex_flow": null,
            "grid_area": null,
            "grid_auto_columns": null,
            "grid_auto_flow": null,
            "grid_auto_rows": null,
            "grid_column": null,
            "grid_gap": null,
            "grid_row": null,
            "grid_template_areas": null,
            "grid_template_columns": null,
            "grid_template_rows": null,
            "height": null,
            "justify_content": null,
            "justify_items": null,
            "left": null,
            "margin": null,
            "max_height": null,
            "max_width": null,
            "min_height": null,
            "min_width": null,
            "object_fit": null,
            "object_position": null,
            "order": null,
            "overflow": null,
            "overflow_x": null,
            "overflow_y": null,
            "padding": null,
            "right": null,
            "top": null,
            "visibility": null,
            "width": null
          }
        },
        "cfa0618ce8264c24bee51bb6de0b77b5": {
          "model_module": "@jupyter-widgets/controls",
          "model_name": "ProgressStyleModel",
          "model_module_version": "1.5.0",
          "state": {
            "_model_module": "@jupyter-widgets/controls",
            "_model_module_version": "1.5.0",
            "_model_name": "ProgressStyleModel",
            "_view_count": null,
            "_view_module": "@jupyter-widgets/base",
            "_view_module_version": "1.2.0",
            "_view_name": "StyleView",
            "bar_color": null,
            "description_width": ""
          }
        },
        "990c3b2e0e8b4a81a581631d80aaf82d": {
          "model_module": "@jupyter-widgets/controls",
          "model_name": "VBoxModel",
          "model_module_version": "1.5.0",
          "state": {
            "_dom_classes": [],
            "_model_module": "@jupyter-widgets/controls",
            "_model_module_version": "1.5.0",
            "_model_name": "VBoxModel",
            "_view_count": null,
            "_view_module": "@jupyter-widgets/controls",
            "_view_module_version": "1.5.0",
            "_view_name": "VBoxView",
            "box_style": "",
            "children": [
              "IPY_MODEL_80c6a4beb231413fa94b12ff3cbc8a6b",
              "IPY_MODEL_99dbbf4e1b8f4499b488898906d6f1a6"
            ],
            "layout": "IPY_MODEL_c57cd3d7cb234b7eb36434f7de648d57"
          }
        },
        "80c6a4beb231413fa94b12ff3cbc8a6b": {
          "model_module": "@jupyter-widgets/controls",
          "model_name": "LabelModel",
          "model_module_version": "1.5.0",
          "state": {
            "_dom_classes": [],
            "_model_module": "@jupyter-widgets/controls",
            "_model_module_version": "1.5.0",
            "_model_name": "LabelModel",
            "_view_count": null,
            "_view_module": "@jupyter-widgets/controls",
            "_view_module_version": "1.5.0",
            "_view_name": "LabelView",
            "description": "",
            "description_tooltip": null,
            "layout": "IPY_MODEL_25e50b5530544a9897660370dc30b88d",
            "placeholder": "​",
            "style": "IPY_MODEL_3f7a57da856d444bafc6874b215a08c3",
            "value": "0.013 MB of 0.013 MB uploaded\r"
          }
        },
        "99dbbf4e1b8f4499b488898906d6f1a6": {
          "model_module": "@jupyter-widgets/controls",
          "model_name": "FloatProgressModel",
          "model_module_version": "1.5.0",
          "state": {
            "_dom_classes": [],
            "_model_module": "@jupyter-widgets/controls",
            "_model_module_version": "1.5.0",
            "_model_name": "FloatProgressModel",
            "_view_count": null,
            "_view_module": "@jupyter-widgets/controls",
            "_view_module_version": "1.5.0",
            "_view_name": "ProgressView",
            "bar_style": "",
            "description": "",
            "description_tooltip": null,
            "layout": "IPY_MODEL_6975e58474fc4b93a3bef9a54c11dac4",
            "max": 1,
            "min": 0,
            "orientation": "horizontal",
            "style": "IPY_MODEL_5b27f8088e8a40498bdaeced41b075f3",
            "value": 1
          }
        },
        "c57cd3d7cb234b7eb36434f7de648d57": {
          "model_module": "@jupyter-widgets/base",
          "model_name": "LayoutModel",
          "model_module_version": "1.2.0",
          "state": {
            "_model_module": "@jupyter-widgets/base",
            "_model_module_version": "1.2.0",
            "_model_name": "LayoutModel",
            "_view_count": null,
            "_view_module": "@jupyter-widgets/base",
            "_view_module_version": "1.2.0",
            "_view_name": "LayoutView",
            "align_content": null,
            "align_items": null,
            "align_self": null,
            "border": null,
            "bottom": null,
            "display": null,
            "flex": null,
            "flex_flow": null,
            "grid_area": null,
            "grid_auto_columns": null,
            "grid_auto_flow": null,
            "grid_auto_rows": null,
            "grid_column": null,
            "grid_gap": null,
            "grid_row": null,
            "grid_template_areas": null,
            "grid_template_columns": null,
            "grid_template_rows": null,
            "height": null,
            "justify_content": null,
            "justify_items": null,
            "left": null,
            "margin": null,
            "max_height": null,
            "max_width": null,
            "min_height": null,
            "min_width": null,
            "object_fit": null,
            "object_position": null,
            "order": null,
            "overflow": null,
            "overflow_x": null,
            "overflow_y": null,
            "padding": null,
            "right": null,
            "top": null,
            "visibility": null,
            "width": null
          }
        },
        "25e50b5530544a9897660370dc30b88d": {
          "model_module": "@jupyter-widgets/base",
          "model_name": "LayoutModel",
          "model_module_version": "1.2.0",
          "state": {
            "_model_module": "@jupyter-widgets/base",
            "_model_module_version": "1.2.0",
            "_model_name": "LayoutModel",
            "_view_count": null,
            "_view_module": "@jupyter-widgets/base",
            "_view_module_version": "1.2.0",
            "_view_name": "LayoutView",
            "align_content": null,
            "align_items": null,
            "align_self": null,
            "border": null,
            "bottom": null,
            "display": null,
            "flex": null,
            "flex_flow": null,
            "grid_area": null,
            "grid_auto_columns": null,
            "grid_auto_flow": null,
            "grid_auto_rows": null,
            "grid_column": null,
            "grid_gap": null,
            "grid_row": null,
            "grid_template_areas": null,
            "grid_template_columns": null,
            "grid_template_rows": null,
            "height": null,
            "justify_content": null,
            "justify_items": null,
            "left": null,
            "margin": null,
            "max_height": null,
            "max_width": null,
            "min_height": null,
            "min_width": null,
            "object_fit": null,
            "object_position": null,
            "order": null,
            "overflow": null,
            "overflow_x": null,
            "overflow_y": null,
            "padding": null,
            "right": null,
            "top": null,
            "visibility": null,
            "width": null
          }
        },
        "3f7a57da856d444bafc6874b215a08c3": {
          "model_module": "@jupyter-widgets/controls",
          "model_name": "DescriptionStyleModel",
          "model_module_version": "1.5.0",
          "state": {
            "_model_module": "@jupyter-widgets/controls",
            "_model_module_version": "1.5.0",
            "_model_name": "DescriptionStyleModel",
            "_view_count": null,
            "_view_module": "@jupyter-widgets/base",
            "_view_module_version": "1.2.0",
            "_view_name": "StyleView",
            "description_width": ""
          }
        },
        "6975e58474fc4b93a3bef9a54c11dac4": {
          "model_module": "@jupyter-widgets/base",
          "model_name": "LayoutModel",
          "model_module_version": "1.2.0",
          "state": {
            "_model_module": "@jupyter-widgets/base",
            "_model_module_version": "1.2.0",
            "_model_name": "LayoutModel",
            "_view_count": null,
            "_view_module": "@jupyter-widgets/base",
            "_view_module_version": "1.2.0",
            "_view_name": "LayoutView",
            "align_content": null,
            "align_items": null,
            "align_self": null,
            "border": null,
            "bottom": null,
            "display": null,
            "flex": null,
            "flex_flow": null,
            "grid_area": null,
            "grid_auto_columns": null,
            "grid_auto_flow": null,
            "grid_auto_rows": null,
            "grid_column": null,
            "grid_gap": null,
            "grid_row": null,
            "grid_template_areas": null,
            "grid_template_columns": null,
            "grid_template_rows": null,
            "height": null,
            "justify_content": null,
            "justify_items": null,
            "left": null,
            "margin": null,
            "max_height": null,
            "max_width": null,
            "min_height": null,
            "min_width": null,
            "object_fit": null,
            "object_position": null,
            "order": null,
            "overflow": null,
            "overflow_x": null,
            "overflow_y": null,
            "padding": null,
            "right": null,
            "top": null,
            "visibility": null,
            "width": null
          }
        },
        "5b27f8088e8a40498bdaeced41b075f3": {
          "model_module": "@jupyter-widgets/controls",
          "model_name": "ProgressStyleModel",
          "model_module_version": "1.5.0",
          "state": {
            "_model_module": "@jupyter-widgets/controls",
            "_model_module_version": "1.5.0",
            "_model_name": "ProgressStyleModel",
            "_view_count": null,
            "_view_module": "@jupyter-widgets/base",
            "_view_module_version": "1.2.0",
            "_view_name": "StyleView",
            "bar_color": null,
            "description_width": ""
          }
        },
        "c64ad2f14b7d4e03bd706bc769fcce20": {
          "model_module": "@jupyter-widgets/controls",
          "model_name": "VBoxModel",
          "model_module_version": "1.5.0",
          "state": {
            "_dom_classes": [],
            "_model_module": "@jupyter-widgets/controls",
            "_model_module_version": "1.5.0",
            "_model_name": "VBoxModel",
            "_view_count": null,
            "_view_module": "@jupyter-widgets/controls",
            "_view_module_version": "1.5.0",
            "_view_name": "VBoxView",
            "box_style": "",
            "children": [
              "IPY_MODEL_c0b9bb72244b4f4ba7a69c5bcbbf8e95",
              "IPY_MODEL_501f309d3c094b2eade6e9a4ec9bb181"
            ],
            "layout": "IPY_MODEL_d650c9c70db543f2b31a6724d3feacc9"
          }
        },
        "c0b9bb72244b4f4ba7a69c5bcbbf8e95": {
          "model_module": "@jupyter-widgets/controls",
          "model_name": "LabelModel",
          "model_module_version": "1.5.0",
          "state": {
            "_dom_classes": [],
            "_model_module": "@jupyter-widgets/controls",
            "_model_module_version": "1.5.0",
            "_model_name": "LabelModel",
            "_view_count": null,
            "_view_module": "@jupyter-widgets/controls",
            "_view_module_version": "1.5.0",
            "_view_name": "LabelView",
            "description": "",
            "description_tooltip": null,
            "layout": "IPY_MODEL_c0365052e54d40febe6f4203eb07bd1a",
            "placeholder": "​",
            "style": "IPY_MODEL_d8143c869dcc49c690821e96ade86fa6",
            "value": "0.013 MB of 0.013 MB uploaded\r"
          }
        },
        "501f309d3c094b2eade6e9a4ec9bb181": {
          "model_module": "@jupyter-widgets/controls",
          "model_name": "FloatProgressModel",
          "model_module_version": "1.5.0",
          "state": {
            "_dom_classes": [],
            "_model_module": "@jupyter-widgets/controls",
            "_model_module_version": "1.5.0",
            "_model_name": "FloatProgressModel",
            "_view_count": null,
            "_view_module": "@jupyter-widgets/controls",
            "_view_module_version": "1.5.0",
            "_view_name": "ProgressView",
            "bar_style": "",
            "description": "",
            "description_tooltip": null,
            "layout": "IPY_MODEL_11ed9b7fb29745f2a5deb8a2d03d5d37",
            "max": 1,
            "min": 0,
            "orientation": "horizontal",
            "style": "IPY_MODEL_2bb7c6ff63d34df3b34f1e7d03e2a957",
            "value": 1
          }
        },
        "d650c9c70db543f2b31a6724d3feacc9": {
          "model_module": "@jupyter-widgets/base",
          "model_name": "LayoutModel",
          "model_module_version": "1.2.0",
          "state": {
            "_model_module": "@jupyter-widgets/base",
            "_model_module_version": "1.2.0",
            "_model_name": "LayoutModel",
            "_view_count": null,
            "_view_module": "@jupyter-widgets/base",
            "_view_module_version": "1.2.0",
            "_view_name": "LayoutView",
            "align_content": null,
            "align_items": null,
            "align_self": null,
            "border": null,
            "bottom": null,
            "display": null,
            "flex": null,
            "flex_flow": null,
            "grid_area": null,
            "grid_auto_columns": null,
            "grid_auto_flow": null,
            "grid_auto_rows": null,
            "grid_column": null,
            "grid_gap": null,
            "grid_row": null,
            "grid_template_areas": null,
            "grid_template_columns": null,
            "grid_template_rows": null,
            "height": null,
            "justify_content": null,
            "justify_items": null,
            "left": null,
            "margin": null,
            "max_height": null,
            "max_width": null,
            "min_height": null,
            "min_width": null,
            "object_fit": null,
            "object_position": null,
            "order": null,
            "overflow": null,
            "overflow_x": null,
            "overflow_y": null,
            "padding": null,
            "right": null,
            "top": null,
            "visibility": null,
            "width": null
          }
        },
        "c0365052e54d40febe6f4203eb07bd1a": {
          "model_module": "@jupyter-widgets/base",
          "model_name": "LayoutModel",
          "model_module_version": "1.2.0",
          "state": {
            "_model_module": "@jupyter-widgets/base",
            "_model_module_version": "1.2.0",
            "_model_name": "LayoutModel",
            "_view_count": null,
            "_view_module": "@jupyter-widgets/base",
            "_view_module_version": "1.2.0",
            "_view_name": "LayoutView",
            "align_content": null,
            "align_items": null,
            "align_self": null,
            "border": null,
            "bottom": null,
            "display": null,
            "flex": null,
            "flex_flow": null,
            "grid_area": null,
            "grid_auto_columns": null,
            "grid_auto_flow": null,
            "grid_auto_rows": null,
            "grid_column": null,
            "grid_gap": null,
            "grid_row": null,
            "grid_template_areas": null,
            "grid_template_columns": null,
            "grid_template_rows": null,
            "height": null,
            "justify_content": null,
            "justify_items": null,
            "left": null,
            "margin": null,
            "max_height": null,
            "max_width": null,
            "min_height": null,
            "min_width": null,
            "object_fit": null,
            "object_position": null,
            "order": null,
            "overflow": null,
            "overflow_x": null,
            "overflow_y": null,
            "padding": null,
            "right": null,
            "top": null,
            "visibility": null,
            "width": null
          }
        },
        "d8143c869dcc49c690821e96ade86fa6": {
          "model_module": "@jupyter-widgets/controls",
          "model_name": "DescriptionStyleModel",
          "model_module_version": "1.5.0",
          "state": {
            "_model_module": "@jupyter-widgets/controls",
            "_model_module_version": "1.5.0",
            "_model_name": "DescriptionStyleModel",
            "_view_count": null,
            "_view_module": "@jupyter-widgets/base",
            "_view_module_version": "1.2.0",
            "_view_name": "StyleView",
            "description_width": ""
          }
        },
        "11ed9b7fb29745f2a5deb8a2d03d5d37": {
          "model_module": "@jupyter-widgets/base",
          "model_name": "LayoutModel",
          "model_module_version": "1.2.0",
          "state": {
            "_model_module": "@jupyter-widgets/base",
            "_model_module_version": "1.2.0",
            "_model_name": "LayoutModel",
            "_view_count": null,
            "_view_module": "@jupyter-widgets/base",
            "_view_module_version": "1.2.0",
            "_view_name": "LayoutView",
            "align_content": null,
            "align_items": null,
            "align_self": null,
            "border": null,
            "bottom": null,
            "display": null,
            "flex": null,
            "flex_flow": null,
            "grid_area": null,
            "grid_auto_columns": null,
            "grid_auto_flow": null,
            "grid_auto_rows": null,
            "grid_column": null,
            "grid_gap": null,
            "grid_row": null,
            "grid_template_areas": null,
            "grid_template_columns": null,
            "grid_template_rows": null,
            "height": null,
            "justify_content": null,
            "justify_items": null,
            "left": null,
            "margin": null,
            "max_height": null,
            "max_width": null,
            "min_height": null,
            "min_width": null,
            "object_fit": null,
            "object_position": null,
            "order": null,
            "overflow": null,
            "overflow_x": null,
            "overflow_y": null,
            "padding": null,
            "right": null,
            "top": null,
            "visibility": null,
            "width": null
          }
        },
        "2bb7c6ff63d34df3b34f1e7d03e2a957": {
          "model_module": "@jupyter-widgets/controls",
          "model_name": "ProgressStyleModel",
          "model_module_version": "1.5.0",
          "state": {
            "_model_module": "@jupyter-widgets/controls",
            "_model_module_version": "1.5.0",
            "_model_name": "ProgressStyleModel",
            "_view_count": null,
            "_view_module": "@jupyter-widgets/base",
            "_view_module_version": "1.2.0",
            "_view_name": "StyleView",
            "bar_color": null,
            "description_width": ""
          }
        }
      }
    }
  },
  "nbformat": 4,
  "nbformat_minor": 5
}