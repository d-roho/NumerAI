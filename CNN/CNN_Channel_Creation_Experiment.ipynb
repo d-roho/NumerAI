{
  "cells": [
    {
      "cell_type": "markdown",
      "id": "7TYYWsQaab5g",
      "metadata": {
        "id": "7TYYWsQaab5g"
      },
      "source": [
        "# Training Convolutional Neural Networks with Reconstructed Data Having Multiple Channels"
      ]
    },
    {
      "cell_type": "code",
      "execution_count": null,
      "id": "76ec7f82",
      "metadata": {
        "id": "76ec7f82"
      },
      "outputs": [],
      "source": [
        "use_gpu = True"
      ]
    },
    {
      "cell_type": "code",
      "execution_count": null,
      "id": "039fbc39",
      "metadata": {
        "colab": {
          "background_save": true
        },
        "id": "039fbc39"
      },
      "outputs": [],
      "source": [
        "# Install torch\n",
        "!pip install torch -q"
      ]
    },
    {
      "cell_type": "code",
      "execution_count": null,
      "id": "88cbf5ca-3a6a-48ab-8561-a2b5580ff45f",
      "metadata": {
        "colab": {
          "base_uri": "https://localhost:8080/"
        },
        "id": "88cbf5ca-3a6a-48ab-8561-a2b5580ff45f",
        "outputId": "e4713e34-0f62-4d9e-8ef1-099b97dd87a3"
      },
      "outputs": [
        {
          "name": "stdout",
          "output_type": "stream",
          "text": [
            "Collecting torchinfo\n",
            "  Downloading torchinfo-1.8.0-py3-none-any.whl (23 kB)\n",
            "Installing collected packages: torchinfo\n",
            "Successfully installed torchinfo-1.8.0\n"
          ]
        }
      ],
      "source": [
        "# Install torchinfo\n",
        "!pip install torchinfo"
      ]
    },
    {
      "cell_type": "code",
      "execution_count": null,
      "id": "6b6c907a-616c-4c1d-a7a3-1fc77d80f3c1",
      "metadata": {
        "colab": {
          "base_uri": "https://localhost:8080/"
        },
        "id": "6b6c907a-616c-4c1d-a7a3-1fc77d80f3c1",
        "outputId": "3d22678e-3572-4353-d9bc-8efde7f3b91b"
      },
      "outputs": [
        {
          "name": "stdout",
          "output_type": "stream",
          "text": [
            "\u001b[2K     \u001b[90m━━━━━━━━━━━━━━━━━━━━━━━━━━━━━━━━━━━━━━━━\u001b[0m \u001b[32m34.4/34.4 MB\u001b[0m \u001b[31m49.9 MB/s\u001b[0m eta \u001b[36m0:00:00\u001b[0m\n",
            "\u001b[?25h"
          ]
        }
      ],
      "source": [
        "# Install dependencies\n",
        "!pip install -q numerapi pandas pyarrow matplotlib lightgbm scikit-learn cloudpickle scipy==1.10.1"
      ]
    },
    {
      "cell_type": "code",
      "execution_count": null,
      "id": "d4e2899b",
      "metadata": {
        "colab": {
          "base_uri": "https://localhost:8080/"
        },
        "id": "d4e2899b",
        "outputId": "72cf4dfd-30b3-4c76-9931-85dcdf47a8cc"
      },
      "outputs": [
        {
          "name": "stdout",
          "output_type": "stream",
          "text": [
            "GPU is available!\n"
          ]
        }
      ],
      "source": [
        "# Import necessary libraries and packages\n",
        "import torch\n",
        "import torch.nn as nn\n",
        "import torch.optim as optim\n",
        "from torch.utils.data import DataLoader\n",
        "import json\n",
        "import pandas as pd\n",
        "import numpy as np\n",
        "from sklearn.model_selection import train_test_split\n",
        "from torch.utils.data import TensorDataset\n",
        "from torchinfo import summary\n",
        "\n",
        "if torch.cuda.is_available():\n",
        " print(\"GPU is available!\")\n",
        "else:\n",
        " print(\"GPU is not available.\")"
      ]
    },
    {
      "cell_type": "code",
      "execution_count": null,
      "id": "12fbab43",
      "metadata": {
        "colab": {
          "base_uri": "https://localhost:8080/"
        },
        "id": "12fbab43",
        "outputId": "771b7e98-d479-4d64-e440-209f2d9e1d81"
      },
      "outputs": [
        {
          "data": {
            "text/plain": [
              "True"
            ]
          },
          "execution_count": 5,
          "metadata": {},
          "output_type": "execute_result"
        }
      ],
      "source": [
        "gpu_available = torch.cuda.is_available()\n",
        "gpu_available"
      ]
    },
    {
      "cell_type": "code",
      "execution_count": null,
      "id": "1a56376f-6970-4952-afff-e3711f913997",
      "metadata": {
        "colab": {
          "base_uri": "https://localhost:8080/"
        },
        "id": "1a56376f-6970-4952-afff-e3711f913997",
        "outputId": "f7a1a1ae-b5b0-4185-c2f6-f86ae9d415b2"
      },
      "outputs": [
        {
          "name": "stdout",
          "output_type": "stream",
          "text": [
            "Available versions:\n",
            " ['v4.2', 'v4.1', 'v4.3', 'v4']\n",
            "availbable v4.3 files:\n",
            " ['v4.3/features.json', 'v4.3/live_benchmark_models.parquet', 'v4.3/live_example_preds.csv', 'v4.3/live_example_preds.parquet', 'v4.3/live_int8.parquet', 'v4.3/meta_model.parquet', 'v4.3/train_benchmark_models.parquet', 'v4.3/train_int8.parquet', 'v4.3/validation_benchmark_models.parquet', 'v4.3/validation_example_preds.csv', 'v4.3/validation_example_preds.parquet', 'v4.3/validation_int8.parquet']\n"
          ]
        }
      ],
      "source": [
        "# Initialize NumerAPI - the official Python API client for Numerai\n",
        "from numerapi import NumerAPI\n",
        "napi = NumerAPI()\n",
        "\n",
        "# list the datasets and available versions\n",
        "all_datasets = napi.list_datasets()\n",
        "dataset_versions = list(set(d.split('/')[0] for d in all_datasets))\n",
        "print(\"Available versions:\\n\", dataset_versions)\n",
        "\n",
        "# Set data version to one of the latest datasets\n",
        "DATA_VERSION = \"v4.3\"\n",
        "\n",
        "# Print all files available for download for our version\n",
        "current_version_files = [f for f in all_datasets if f.startswith(DATA_VERSION)]\n",
        "print(\"availbable\", DATA_VERSION, \"files:\\n\", current_version_files)"
      ]
    },
    {
      "cell_type": "code",
      "execution_count": null,
      "id": "881c954e-8c5a-4c5d-a9dd-985263b0c615",
      "metadata": {
        "colab": {
          "base_uri": "https://localhost:8080/"
        },
        "id": "881c954e-8c5a-4c5d-a9dd-985263b0c615",
        "outputId": "2fc05307-a1ff-4d0a-d579-d7e89dba4c7b"
      },
      "outputs": [
        {
          "name": "stderr",
          "output_type": "stream",
          "text": [
            "v4.3/features.json: 1.12MB [00:00, 1.75MB/s]                           "
          ]
        },
        {
          "name": "stdout",
          "output_type": "stream",
          "text": [
            "feature_stats 2376\n",
            "feature_sets 17\n",
            "targets 41\n"
          ]
        },
        {
          "name": "stderr",
          "output_type": "stream",
          "text": [
            "\n"
          ]
        }
      ],
      "source": [
        "# Download the feature metadata file\n",
        "napi.download_dataset(f\"{DATA_VERSION}/features.json\");\n",
        "\n",
        "# Read the metadata and display\n",
        "feature_metadata = json.load(open(f\"{DATA_VERSION}/features.json\"))\n",
        "for metadata in feature_metadata:\n",
        "  print(metadata, len(feature_metadata[metadata]))"
      ]
    },
    {
      "cell_type": "code",
      "execution_count": null,
      "id": "c4b9b8d2-dac3-497c-9fdf-82d6f619614b",
      "metadata": {
        "colab": {
          "base_uri": "https://localhost:8080/",
          "height": 332
        },
        "id": "c4b9b8d2-dac3-497c-9fdf-82d6f619614b",
        "outputId": "61959b10-69fb-4717-e30d-b98cb8be0ee3"
      },
      "outputs": [
        {
          "data": {
            "application/vnd.google.colaboratory.intrinsic+json": {
              "summary": "{\n  \"name\": \"pd\",\n  \"rows\": 9,\n  \"fields\": [\n    {\n      \"column\": \"small\",\n      \"properties\": {\n        \"dtype\": \"number\",\n        \"std\": 13,\n        \"min\": 1,\n        \"max\": 42,\n        \"num_unique_values\": 5,\n        \"samples\": [\n          2,\n          4,\n          3\n        ],\n        \"semantic_type\": \"\",\n        \"description\": \"\"\n      }\n    },\n    {\n      \"column\": \"medium\",\n      \"properties\": {\n        \"dtype\": \"number\",\n        \"std\": 218,\n        \"min\": 14,\n        \"max\": 705,\n        \"num_unique_values\": 9,\n        \"samples\": [\n          21,\n          134,\n          54\n        ],\n        \"semantic_type\": \"\",\n        \"description\": \"\"\n      }\n    },\n    {\n      \"column\": \"all\",\n      \"properties\": {\n        \"dtype\": \"number\",\n        \"std\": 747,\n        \"min\": 35,\n        \"max\": 2376,\n        \"num_unique_values\": 9,\n        \"samples\": [\n          51,\n          335,\n          135\n        ],\n        \"semantic_type\": \"\",\n        \"description\": \"\"\n      }\n    }\n  ]\n}",
              "type": "dataframe"
            },
            "text/html": [
              "\n",
              "  <div id=\"df-0b5ae801-0e1c-4b9c-9861-775685fcbe9e\" class=\"colab-df-container\">\n",
              "    <div>\n",
              "<style scoped>\n",
              "    .dataframe tbody tr th:only-of-type {\n",
              "        vertical-align: middle;\n",
              "    }\n",
              "\n",
              "    .dataframe tbody tr th {\n",
              "        vertical-align: top;\n",
              "    }\n",
              "\n",
              "    .dataframe thead th {\n",
              "        text-align: right;\n",
              "    }\n",
              "</style>\n",
              "<table border=\"1\" class=\"dataframe\">\n",
              "  <thead>\n",
              "    <tr style=\"text-align: right;\">\n",
              "      <th></th>\n",
              "      <th>small</th>\n",
              "      <th>medium</th>\n",
              "      <th>all</th>\n",
              "    </tr>\n",
              "  </thead>\n",
              "  <tbody>\n",
              "    <tr>\n",
              "      <th>all</th>\n",
              "      <td>42</td>\n",
              "      <td>705</td>\n",
              "      <td>2376</td>\n",
              "    </tr>\n",
              "    <tr>\n",
              "      <th>constitution</th>\n",
              "      <td>2</td>\n",
              "      <td>134</td>\n",
              "      <td>335</td>\n",
              "    </tr>\n",
              "    <tr>\n",
              "      <th>charisma</th>\n",
              "      <td>3</td>\n",
              "      <td>116</td>\n",
              "      <td>290</td>\n",
              "    </tr>\n",
              "    <tr>\n",
              "      <th>agility</th>\n",
              "      <td>2</td>\n",
              "      <td>58</td>\n",
              "      <td>145</td>\n",
              "    </tr>\n",
              "    <tr>\n",
              "      <th>wisdom</th>\n",
              "      <td>3</td>\n",
              "      <td>56</td>\n",
              "      <td>140</td>\n",
              "    </tr>\n",
              "    <tr>\n",
              "      <th>strength</th>\n",
              "      <td>1</td>\n",
              "      <td>54</td>\n",
              "      <td>135</td>\n",
              "    </tr>\n",
              "    <tr>\n",
              "      <th>serenity</th>\n",
              "      <td>3</td>\n",
              "      <td>34</td>\n",
              "      <td>95</td>\n",
              "    </tr>\n",
              "    <tr>\n",
              "      <th>dexterity</th>\n",
              "      <td>4</td>\n",
              "      <td>21</td>\n",
              "      <td>51</td>\n",
              "    </tr>\n",
              "    <tr>\n",
              "      <th>intelligence</th>\n",
              "      <td>2</td>\n",
              "      <td>14</td>\n",
              "      <td>35</td>\n",
              "    </tr>\n",
              "  </tbody>\n",
              "</table>\n",
              "</div>\n",
              "    <div class=\"colab-df-buttons\">\n",
              "\n",
              "  <div class=\"colab-df-container\">\n",
              "    <button class=\"colab-df-convert\" onclick=\"convertToInteractive('df-0b5ae801-0e1c-4b9c-9861-775685fcbe9e')\"\n",
              "            title=\"Convert this dataframe to an interactive table.\"\n",
              "            style=\"display:none;\">\n",
              "\n",
              "  <svg xmlns=\"http://www.w3.org/2000/svg\" height=\"24px\" viewBox=\"0 -960 960 960\">\n",
              "    <path d=\"M120-120v-720h720v720H120Zm60-500h600v-160H180v160Zm220 220h160v-160H400v160Zm0 220h160v-160H400v160ZM180-400h160v-160H180v160Zm440 0h160v-160H620v160ZM180-180h160v-160H180v160Zm440 0h160v-160H620v160Z\"/>\n",
              "  </svg>\n",
              "    </button>\n",
              "\n",
              "  <style>\n",
              "    .colab-df-container {\n",
              "      display:flex;\n",
              "      gap: 12px;\n",
              "    }\n",
              "\n",
              "    .colab-df-convert {\n",
              "      background-color: #E8F0FE;\n",
              "      border: none;\n",
              "      border-radius: 50%;\n",
              "      cursor: pointer;\n",
              "      display: none;\n",
              "      fill: #1967D2;\n",
              "      height: 32px;\n",
              "      padding: 0 0 0 0;\n",
              "      width: 32px;\n",
              "    }\n",
              "\n",
              "    .colab-df-convert:hover {\n",
              "      background-color: #E2EBFA;\n",
              "      box-shadow: 0px 1px 2px rgba(60, 64, 67, 0.3), 0px 1px 3px 1px rgba(60, 64, 67, 0.15);\n",
              "      fill: #174EA6;\n",
              "    }\n",
              "\n",
              "    .colab-df-buttons div {\n",
              "      margin-bottom: 4px;\n",
              "    }\n",
              "\n",
              "    [theme=dark] .colab-df-convert {\n",
              "      background-color: #3B4455;\n",
              "      fill: #D2E3FC;\n",
              "    }\n",
              "\n",
              "    [theme=dark] .colab-df-convert:hover {\n",
              "      background-color: #434B5C;\n",
              "      box-shadow: 0px 1px 3px 1px rgba(0, 0, 0, 0.15);\n",
              "      filter: drop-shadow(0px 1px 2px rgba(0, 0, 0, 0.3));\n",
              "      fill: #FFFFFF;\n",
              "    }\n",
              "  </style>\n",
              "\n",
              "    <script>\n",
              "      const buttonEl =\n",
              "        document.querySelector('#df-0b5ae801-0e1c-4b9c-9861-775685fcbe9e button.colab-df-convert');\n",
              "      buttonEl.style.display =\n",
              "        google.colab.kernel.accessAllowed ? 'block' : 'none';\n",
              "\n",
              "      async function convertToInteractive(key) {\n",
              "        const element = document.querySelector('#df-0b5ae801-0e1c-4b9c-9861-775685fcbe9e');\n",
              "        const dataTable =\n",
              "          await google.colab.kernel.invokeFunction('convertToInteractive',\n",
              "                                                    [key], {});\n",
              "        if (!dataTable) return;\n",
              "\n",
              "        const docLinkHtml = 'Like what you see? Visit the ' +\n",
              "          '<a target=\"_blank\" href=https://colab.research.google.com/notebooks/data_table.ipynb>data table notebook</a>'\n",
              "          + ' to learn more about interactive tables.';\n",
              "        element.innerHTML = '';\n",
              "        dataTable['output_type'] = 'display_data';\n",
              "        await google.colab.output.renderOutput(dataTable, element);\n",
              "        const docLink = document.createElement('div');\n",
              "        docLink.innerHTML = docLinkHtml;\n",
              "        element.appendChild(docLink);\n",
              "      }\n",
              "    </script>\n",
              "  </div>\n",
              "\n",
              "\n",
              "<div id=\"df-11c9c238-9ea8-48f9-8ef1-71a58f522946\">\n",
              "  <button class=\"colab-df-quickchart\" onclick=\"quickchart('df-11c9c238-9ea8-48f9-8ef1-71a58f522946')\"\n",
              "            title=\"Suggest charts\"\n",
              "            style=\"display:none;\">\n",
              "\n",
              "<svg xmlns=\"http://www.w3.org/2000/svg\" height=\"24px\"viewBox=\"0 0 24 24\"\n",
              "     width=\"24px\">\n",
              "    <g>\n",
              "        <path d=\"M19 3H5c-1.1 0-2 .9-2 2v14c0 1.1.9 2 2 2h14c1.1 0 2-.9 2-2V5c0-1.1-.9-2-2-2zM9 17H7v-7h2v7zm4 0h-2V7h2v10zm4 0h-2v-4h2v4z\"/>\n",
              "    </g>\n",
              "</svg>\n",
              "  </button>\n",
              "\n",
              "<style>\n",
              "  .colab-df-quickchart {\n",
              "      --bg-color: #E8F0FE;\n",
              "      --fill-color: #1967D2;\n",
              "      --hover-bg-color: #E2EBFA;\n",
              "      --hover-fill-color: #174EA6;\n",
              "      --disabled-fill-color: #AAA;\n",
              "      --disabled-bg-color: #DDD;\n",
              "  }\n",
              "\n",
              "  [theme=dark] .colab-df-quickchart {\n",
              "      --bg-color: #3B4455;\n",
              "      --fill-color: #D2E3FC;\n",
              "      --hover-bg-color: #434B5C;\n",
              "      --hover-fill-color: #FFFFFF;\n",
              "      --disabled-bg-color: #3B4455;\n",
              "      --disabled-fill-color: #666;\n",
              "  }\n",
              "\n",
              "  .colab-df-quickchart {\n",
              "    background-color: var(--bg-color);\n",
              "    border: none;\n",
              "    border-radius: 50%;\n",
              "    cursor: pointer;\n",
              "    display: none;\n",
              "    fill: var(--fill-color);\n",
              "    height: 32px;\n",
              "    padding: 0;\n",
              "    width: 32px;\n",
              "  }\n",
              "\n",
              "  .colab-df-quickchart:hover {\n",
              "    background-color: var(--hover-bg-color);\n",
              "    box-shadow: 0 1px 2px rgba(60, 64, 67, 0.3), 0 1px 3px 1px rgba(60, 64, 67, 0.15);\n",
              "    fill: var(--button-hover-fill-color);\n",
              "  }\n",
              "\n",
              "  .colab-df-quickchart-complete:disabled,\n",
              "  .colab-df-quickchart-complete:disabled:hover {\n",
              "    background-color: var(--disabled-bg-color);\n",
              "    fill: var(--disabled-fill-color);\n",
              "    box-shadow: none;\n",
              "  }\n",
              "\n",
              "  .colab-df-spinner {\n",
              "    border: 2px solid var(--fill-color);\n",
              "    border-color: transparent;\n",
              "    border-bottom-color: var(--fill-color);\n",
              "    animation:\n",
              "      spin 1s steps(1) infinite;\n",
              "  }\n",
              "\n",
              "  @keyframes spin {\n",
              "    0% {\n",
              "      border-color: transparent;\n",
              "      border-bottom-color: var(--fill-color);\n",
              "      border-left-color: var(--fill-color);\n",
              "    }\n",
              "    20% {\n",
              "      border-color: transparent;\n",
              "      border-left-color: var(--fill-color);\n",
              "      border-top-color: var(--fill-color);\n",
              "    }\n",
              "    30% {\n",
              "      border-color: transparent;\n",
              "      border-left-color: var(--fill-color);\n",
              "      border-top-color: var(--fill-color);\n",
              "      border-right-color: var(--fill-color);\n",
              "    }\n",
              "    40% {\n",
              "      border-color: transparent;\n",
              "      border-right-color: var(--fill-color);\n",
              "      border-top-color: var(--fill-color);\n",
              "    }\n",
              "    60% {\n",
              "      border-color: transparent;\n",
              "      border-right-color: var(--fill-color);\n",
              "    }\n",
              "    80% {\n",
              "      border-color: transparent;\n",
              "      border-right-color: var(--fill-color);\n",
              "      border-bottom-color: var(--fill-color);\n",
              "    }\n",
              "    90% {\n",
              "      border-color: transparent;\n",
              "      border-bottom-color: var(--fill-color);\n",
              "    }\n",
              "  }\n",
              "</style>\n",
              "\n",
              "  <script>\n",
              "    async function quickchart(key) {\n",
              "      const quickchartButtonEl =\n",
              "        document.querySelector('#' + key + ' button');\n",
              "      quickchartButtonEl.disabled = true;  // To prevent multiple clicks.\n",
              "      quickchartButtonEl.classList.add('colab-df-spinner');\n",
              "      try {\n",
              "        const charts = await google.colab.kernel.invokeFunction(\n",
              "            'suggestCharts', [key], {});\n",
              "      } catch (error) {\n",
              "        console.error('Error during call to suggestCharts:', error);\n",
              "      }\n",
              "      quickchartButtonEl.classList.remove('colab-df-spinner');\n",
              "      quickchartButtonEl.classList.add('colab-df-quickchart-complete');\n",
              "    }\n",
              "    (() => {\n",
              "      let quickchartButtonEl =\n",
              "        document.querySelector('#df-11c9c238-9ea8-48f9-8ef1-71a58f522946 button');\n",
              "      quickchartButtonEl.style.display =\n",
              "        google.colab.kernel.accessAllowed ? 'block' : 'none';\n",
              "    })();\n",
              "  </script>\n",
              "</div>\n",
              "\n",
              "    </div>\n",
              "  </div>\n"
            ],
            "text/plain": [
              "              small  medium   all\n",
              "all              42     705  2376\n",
              "constitution      2     134   335\n",
              "charisma          3     116   290\n",
              "agility           2      58   145\n",
              "wisdom            3      56   140\n",
              "strength          1      54   135\n",
              "serenity          3      34    95\n",
              "dexterity         4      21    51\n",
              "intelligence      2      14    35"
            ]
          },
          "execution_count": 8,
          "metadata": {},
          "output_type": "execute_result"
        }
      ],
      "source": [
        "feature_sets = feature_metadata[\"feature_sets\"]\n",
        "\n",
        "sizes = [\"small\", \"medium\", \"all\"]\n",
        "groups = [\n",
        "  \"intelligence\",\n",
        "  \"wisdom\",\n",
        "  \"charisma\",\n",
        "  \"dexterity\",\n",
        "  \"strength\",\n",
        "  \"constitution\",\n",
        "  \"agility\",\n",
        "  \"serenity\",\n",
        "  \"all\"\n",
        "]\n",
        "\n",
        "# Compile the intersections of feature sets and feature groups\n",
        "subgroups = {}\n",
        "for size in sizes:\n",
        "    subgroups[size] = {}\n",
        "    for group in groups:\n",
        "        subgroups[size][group] = (\n",
        "            set(feature_sets[size])\n",
        "            .intersection(set(feature_sets[group]))\n",
        "        )\n",
        "\n",
        "# Convert to data frame and display the feature count of each intersection\n",
        "pd.DataFrame(subgroups).applymap(len).sort_values(by=\"all\", ascending=False)"
      ]
    },
    {
      "cell_type": "markdown",
      "id": "dfPXHbZYes98",
      "metadata": {
        "id": "dfPXHbZYes98"
      },
      "source": [
        "## Data Preprocessing"
      ]
    },
    {
      "cell_type": "code",
      "execution_count": null,
      "id": "JhADOJczcLEM",
      "metadata": {
        "id": "JhADOJczcLEM"
      },
      "outputs": [],
      "source": [
        "# Access the names of features belonging to these two groups\n",
        "charisma = subgroups['all']['charisma']\n",
        "constitution = subgroups['all']['constitution']"
      ]
    },
    {
      "cell_type": "code",
      "execution_count": null,
      "id": "3829556e-fdbb-49b7-9a3e-8d83657bc117",
      "metadata": {
        "colab": {
          "base_uri": "https://localhost:8080/",
          "height": 304
        },
        "id": "3829556e-fdbb-49b7-9a3e-8d83657bc117",
        "outputId": "ab520cb3-13e3-4779-e3aa-264ccae3435b"
      },
      "outputs": [
        {
          "name": "stderr",
          "output_type": "stream",
          "text": [
            "v4.3/train_int8.parquet: 2.09GB [02:10, 16.1MB/s]                            \n"
          ]
        },
        {
          "data": {
            "application/vnd.google.colaboratory.intrinsic+json": {
              "type": "dataframe",
              "variable_name": "train"
            },
            "text/html": [
              "\n",
              "  <div id=\"df-aaa24369-44d7-4606-9100-1570208d54a6\" class=\"colab-df-container\">\n",
              "    <div>\n",
              "<style scoped>\n",
              "    .dataframe tbody tr th:only-of-type {\n",
              "        vertical-align: middle;\n",
              "    }\n",
              "\n",
              "    .dataframe tbody tr th {\n",
              "        vertical-align: top;\n",
              "    }\n",
              "\n",
              "    .dataframe thead th {\n",
              "        text-align: right;\n",
              "    }\n",
              "</style>\n",
              "<table border=\"1\" class=\"dataframe\">\n",
              "  <thead>\n",
              "    <tr style=\"text-align: right;\">\n",
              "      <th></th>\n",
              "      <th>era</th>\n",
              "      <th>target</th>\n",
              "      <th>feature_aaronic_unexampled_arguer</th>\n",
              "      <th>feature_abactinal_inventable_luminescence</th>\n",
              "      <th>feature_abating_unadaptable_weakfish</th>\n",
              "      <th>feature_abdominal_subtriplicate_fin</th>\n",
              "      <th>feature_abducent_unbeneficed_lithophyte</th>\n",
              "      <th>feature_abducted_euphonic_pipewort</th>\n",
              "      <th>feature_ablest_mauritanian_elding</th>\n",
              "      <th>feature_abreast_viscoelastic_commander</th>\n",
              "      <th>...</th>\n",
              "      <th>feature_yelled_hysteretic_eath</th>\n",
              "      <th>feature_yokelish_metapsychological_lunt</th>\n",
              "      <th>feature_yorkist_authenticated_lotted</th>\n",
              "      <th>feature_yoruban_purplish_directoire</th>\n",
              "      <th>feature_yoruban_unapplied_tawse</th>\n",
              "      <th>feature_zincky_unseemly_butt</th>\n",
              "      <th>feature_zincoid_peccant_greywacke</th>\n",
              "      <th>feature_zoophoric_underglaze_algin</th>\n",
              "      <th>feature_zygodactyl_exponible_lathi</th>\n",
              "      <th>feature_zymotic_roundabout_figuration</th>\n",
              "    </tr>\n",
              "    <tr>\n",
              "      <th>id</th>\n",
              "      <th></th>\n",
              "      <th></th>\n",
              "      <th></th>\n",
              "      <th></th>\n",
              "      <th></th>\n",
              "      <th></th>\n",
              "      <th></th>\n",
              "      <th></th>\n",
              "      <th></th>\n",
              "      <th></th>\n",
              "      <th></th>\n",
              "      <th></th>\n",
              "      <th></th>\n",
              "      <th></th>\n",
              "      <th></th>\n",
              "      <th></th>\n",
              "      <th></th>\n",
              "      <th></th>\n",
              "      <th></th>\n",
              "      <th></th>\n",
              "      <th></th>\n",
              "    </tr>\n",
              "  </thead>\n",
              "  <tbody>\n",
              "    <tr>\n",
              "      <th>n003bba8a98662e4</th>\n",
              "      <td>0001</td>\n",
              "      <td>0.25</td>\n",
              "      <td>2</td>\n",
              "      <td>2</td>\n",
              "      <td>0</td>\n",
              "      <td>2</td>\n",
              "      <td>3</td>\n",
              "      <td>2</td>\n",
              "      <td>4</td>\n",
              "      <td>2</td>\n",
              "      <td>...</td>\n",
              "      <td>2</td>\n",
              "      <td>2</td>\n",
              "      <td>2</td>\n",
              "      <td>2</td>\n",
              "      <td>2</td>\n",
              "      <td>2</td>\n",
              "      <td>2</td>\n",
              "      <td>2</td>\n",
              "      <td>3</td>\n",
              "      <td>2</td>\n",
              "    </tr>\n",
              "    <tr>\n",
              "      <th>n003bee128c2fcfc</th>\n",
              "      <td>0001</td>\n",
              "      <td>0.75</td>\n",
              "      <td>3</td>\n",
              "      <td>2</td>\n",
              "      <td>4</td>\n",
              "      <td>2</td>\n",
              "      <td>1</td>\n",
              "      <td>2</td>\n",
              "      <td>2</td>\n",
              "      <td>2</td>\n",
              "      <td>...</td>\n",
              "      <td>3</td>\n",
              "      <td>2</td>\n",
              "      <td>2</td>\n",
              "      <td>2</td>\n",
              "      <td>2</td>\n",
              "      <td>2</td>\n",
              "      <td>2</td>\n",
              "      <td>2</td>\n",
              "      <td>1</td>\n",
              "      <td>2</td>\n",
              "    </tr>\n",
              "    <tr>\n",
              "      <th>n0048ac83aff7194</th>\n",
              "      <td>0001</td>\n",
              "      <td>0.25</td>\n",
              "      <td>3</td>\n",
              "      <td>2</td>\n",
              "      <td>4</td>\n",
              "      <td>2</td>\n",
              "      <td>2</td>\n",
              "      <td>2</td>\n",
              "      <td>4</td>\n",
              "      <td>4</td>\n",
              "      <td>...</td>\n",
              "      <td>1</td>\n",
              "      <td>2</td>\n",
              "      <td>2</td>\n",
              "      <td>2</td>\n",
              "      <td>2</td>\n",
              "      <td>2</td>\n",
              "      <td>2</td>\n",
              "      <td>2</td>\n",
              "      <td>2</td>\n",
              "      <td>2</td>\n",
              "    </tr>\n",
              "    <tr>\n",
              "      <th>n00691bec80d3e02</th>\n",
              "      <td>0001</td>\n",
              "      <td>0.75</td>\n",
              "      <td>1</td>\n",
              "      <td>2</td>\n",
              "      <td>1</td>\n",
              "      <td>2</td>\n",
              "      <td>2</td>\n",
              "      <td>2</td>\n",
              "      <td>4</td>\n",
              "      <td>2</td>\n",
              "      <td>...</td>\n",
              "      <td>2</td>\n",
              "      <td>2</td>\n",
              "      <td>2</td>\n",
              "      <td>2</td>\n",
              "      <td>2</td>\n",
              "      <td>2</td>\n",
              "      <td>2</td>\n",
              "      <td>2</td>\n",
              "      <td>2</td>\n",
              "      <td>2</td>\n",
              "    </tr>\n",
              "    <tr>\n",
              "      <th>n00b8720a2fdc4f2</th>\n",
              "      <td>0001</td>\n",
              "      <td>0.50</td>\n",
              "      <td>1</td>\n",
              "      <td>2</td>\n",
              "      <td>0</td>\n",
              "      <td>2</td>\n",
              "      <td>1</td>\n",
              "      <td>2</td>\n",
              "      <td>2</td>\n",
              "      <td>3</td>\n",
              "      <td>...</td>\n",
              "      <td>1</td>\n",
              "      <td>2</td>\n",
              "      <td>2</td>\n",
              "      <td>2</td>\n",
              "      <td>2</td>\n",
              "      <td>2</td>\n",
              "      <td>2</td>\n",
              "      <td>2</td>\n",
              "      <td>1</td>\n",
              "      <td>2</td>\n",
              "    </tr>\n",
              "  </tbody>\n",
              "</table>\n",
              "<p>5 rows × 2378 columns</p>\n",
              "</div>\n",
              "    <div class=\"colab-df-buttons\">\n",
              "\n",
              "  <div class=\"colab-df-container\">\n",
              "    <button class=\"colab-df-convert\" onclick=\"convertToInteractive('df-aaa24369-44d7-4606-9100-1570208d54a6')\"\n",
              "            title=\"Convert this dataframe to an interactive table.\"\n",
              "            style=\"display:none;\">\n",
              "\n",
              "  <svg xmlns=\"http://www.w3.org/2000/svg\" height=\"24px\" viewBox=\"0 -960 960 960\">\n",
              "    <path d=\"M120-120v-720h720v720H120Zm60-500h600v-160H180v160Zm220 220h160v-160H400v160Zm0 220h160v-160H400v160ZM180-400h160v-160H180v160Zm440 0h160v-160H620v160ZM180-180h160v-160H180v160Zm440 0h160v-160H620v160Z\"/>\n",
              "  </svg>\n",
              "    </button>\n",
              "\n",
              "  <style>\n",
              "    .colab-df-container {\n",
              "      display:flex;\n",
              "      gap: 12px;\n",
              "    }\n",
              "\n",
              "    .colab-df-convert {\n",
              "      background-color: #E8F0FE;\n",
              "      border: none;\n",
              "      border-radius: 50%;\n",
              "      cursor: pointer;\n",
              "      display: none;\n",
              "      fill: #1967D2;\n",
              "      height: 32px;\n",
              "      padding: 0 0 0 0;\n",
              "      width: 32px;\n",
              "    }\n",
              "\n",
              "    .colab-df-convert:hover {\n",
              "      background-color: #E2EBFA;\n",
              "      box-shadow: 0px 1px 2px rgba(60, 64, 67, 0.3), 0px 1px 3px 1px rgba(60, 64, 67, 0.15);\n",
              "      fill: #174EA6;\n",
              "    }\n",
              "\n",
              "    .colab-df-buttons div {\n",
              "      margin-bottom: 4px;\n",
              "    }\n",
              "\n",
              "    [theme=dark] .colab-df-convert {\n",
              "      background-color: #3B4455;\n",
              "      fill: #D2E3FC;\n",
              "    }\n",
              "\n",
              "    [theme=dark] .colab-df-convert:hover {\n",
              "      background-color: #434B5C;\n",
              "      box-shadow: 0px 1px 3px 1px rgba(0, 0, 0, 0.15);\n",
              "      filter: drop-shadow(0px 1px 2px rgba(0, 0, 0, 0.3));\n",
              "      fill: #FFFFFF;\n",
              "    }\n",
              "  </style>\n",
              "\n",
              "    <script>\n",
              "      const buttonEl =\n",
              "        document.querySelector('#df-aaa24369-44d7-4606-9100-1570208d54a6 button.colab-df-convert');\n",
              "      buttonEl.style.display =\n",
              "        google.colab.kernel.accessAllowed ? 'block' : 'none';\n",
              "\n",
              "      async function convertToInteractive(key) {\n",
              "        const element = document.querySelector('#df-aaa24369-44d7-4606-9100-1570208d54a6');\n",
              "        const dataTable =\n",
              "          await google.colab.kernel.invokeFunction('convertToInteractive',\n",
              "                                                    [key], {});\n",
              "        if (!dataTable) return;\n",
              "\n",
              "        const docLinkHtml = 'Like what you see? Visit the ' +\n",
              "          '<a target=\"_blank\" href=https://colab.research.google.com/notebooks/data_table.ipynb>data table notebook</a>'\n",
              "          + ' to learn more about interactive tables.';\n",
              "        element.innerHTML = '';\n",
              "        dataTable['output_type'] = 'display_data';\n",
              "        await google.colab.output.renderOutput(dataTable, element);\n",
              "        const docLink = document.createElement('div');\n",
              "        docLink.innerHTML = docLinkHtml;\n",
              "        element.appendChild(docLink);\n",
              "      }\n",
              "    </script>\n",
              "  </div>\n",
              "\n",
              "\n",
              "<div id=\"df-105d1103-0c00-41ae-9312-094139690fe8\">\n",
              "  <button class=\"colab-df-quickchart\" onclick=\"quickchart('df-105d1103-0c00-41ae-9312-094139690fe8')\"\n",
              "            title=\"Suggest charts\"\n",
              "            style=\"display:none;\">\n",
              "\n",
              "<svg xmlns=\"http://www.w3.org/2000/svg\" height=\"24px\"viewBox=\"0 0 24 24\"\n",
              "     width=\"24px\">\n",
              "    <g>\n",
              "        <path d=\"M19 3H5c-1.1 0-2 .9-2 2v14c0 1.1.9 2 2 2h14c1.1 0 2-.9 2-2V5c0-1.1-.9-2-2-2zM9 17H7v-7h2v7zm4 0h-2V7h2v10zm4 0h-2v-4h2v4z\"/>\n",
              "    </g>\n",
              "</svg>\n",
              "  </button>\n",
              "\n",
              "<style>\n",
              "  .colab-df-quickchart {\n",
              "      --bg-color: #E8F0FE;\n",
              "      --fill-color: #1967D2;\n",
              "      --hover-bg-color: #E2EBFA;\n",
              "      --hover-fill-color: #174EA6;\n",
              "      --disabled-fill-color: #AAA;\n",
              "      --disabled-bg-color: #DDD;\n",
              "  }\n",
              "\n",
              "  [theme=dark] .colab-df-quickchart {\n",
              "      --bg-color: #3B4455;\n",
              "      --fill-color: #D2E3FC;\n",
              "      --hover-bg-color: #434B5C;\n",
              "      --hover-fill-color: #FFFFFF;\n",
              "      --disabled-bg-color: #3B4455;\n",
              "      --disabled-fill-color: #666;\n",
              "  }\n",
              "\n",
              "  .colab-df-quickchart {\n",
              "    background-color: var(--bg-color);\n",
              "    border: none;\n",
              "    border-radius: 50%;\n",
              "    cursor: pointer;\n",
              "    display: none;\n",
              "    fill: var(--fill-color);\n",
              "    height: 32px;\n",
              "    padding: 0;\n",
              "    width: 32px;\n",
              "  }\n",
              "\n",
              "  .colab-df-quickchart:hover {\n",
              "    background-color: var(--hover-bg-color);\n",
              "    box-shadow: 0 1px 2px rgba(60, 64, 67, 0.3), 0 1px 3px 1px rgba(60, 64, 67, 0.15);\n",
              "    fill: var(--button-hover-fill-color);\n",
              "  }\n",
              "\n",
              "  .colab-df-quickchart-complete:disabled,\n",
              "  .colab-df-quickchart-complete:disabled:hover {\n",
              "    background-color: var(--disabled-bg-color);\n",
              "    fill: var(--disabled-fill-color);\n",
              "    box-shadow: none;\n",
              "  }\n",
              "\n",
              "  .colab-df-spinner {\n",
              "    border: 2px solid var(--fill-color);\n",
              "    border-color: transparent;\n",
              "    border-bottom-color: var(--fill-color);\n",
              "    animation:\n",
              "      spin 1s steps(1) infinite;\n",
              "  }\n",
              "\n",
              "  @keyframes spin {\n",
              "    0% {\n",
              "      border-color: transparent;\n",
              "      border-bottom-color: var(--fill-color);\n",
              "      border-left-color: var(--fill-color);\n",
              "    }\n",
              "    20% {\n",
              "      border-color: transparent;\n",
              "      border-left-color: var(--fill-color);\n",
              "      border-top-color: var(--fill-color);\n",
              "    }\n",
              "    30% {\n",
              "      border-color: transparent;\n",
              "      border-left-color: var(--fill-color);\n",
              "      border-top-color: var(--fill-color);\n",
              "      border-right-color: var(--fill-color);\n",
              "    }\n",
              "    40% {\n",
              "      border-color: transparent;\n",
              "      border-right-color: var(--fill-color);\n",
              "      border-top-color: var(--fill-color);\n",
              "    }\n",
              "    60% {\n",
              "      border-color: transparent;\n",
              "      border-right-color: var(--fill-color);\n",
              "    }\n",
              "    80% {\n",
              "      border-color: transparent;\n",
              "      border-right-color: var(--fill-color);\n",
              "      border-bottom-color: var(--fill-color);\n",
              "    }\n",
              "    90% {\n",
              "      border-color: transparent;\n",
              "      border-bottom-color: var(--fill-color);\n",
              "    }\n",
              "  }\n",
              "</style>\n",
              "\n",
              "  <script>\n",
              "    async function quickchart(key) {\n",
              "      const quickchartButtonEl =\n",
              "        document.querySelector('#' + key + ' button');\n",
              "      quickchartButtonEl.disabled = true;  // To prevent multiple clicks.\n",
              "      quickchartButtonEl.classList.add('colab-df-spinner');\n",
              "      try {\n",
              "        const charts = await google.colab.kernel.invokeFunction(\n",
              "            'suggestCharts', [key], {});\n",
              "      } catch (error) {\n",
              "        console.error('Error during call to suggestCharts:', error);\n",
              "      }\n",
              "      quickchartButtonEl.classList.remove('colab-df-spinner');\n",
              "      quickchartButtonEl.classList.add('colab-df-quickchart-complete');\n",
              "    }\n",
              "    (() => {\n",
              "      let quickchartButtonEl =\n",
              "        document.querySelector('#df-105d1103-0c00-41ae-9312-094139690fe8 button');\n",
              "      quickchartButtonEl.style.display =\n",
              "        google.colab.kernel.accessAllowed ? 'block' : 'none';\n",
              "    })();\n",
              "  </script>\n",
              "</div>\n",
              "\n",
              "    </div>\n",
              "  </div>\n"
            ],
            "text/plain": [
              "                   era  target  feature_aaronic_unexampled_arguer  \\\n",
              "id                                                                  \n",
              "n003bba8a98662e4  0001    0.25                                  2   \n",
              "n003bee128c2fcfc  0001    0.75                                  3   \n",
              "n0048ac83aff7194  0001    0.25                                  3   \n",
              "n00691bec80d3e02  0001    0.75                                  1   \n",
              "n00b8720a2fdc4f2  0001    0.50                                  1   \n",
              "\n",
              "                  feature_abactinal_inventable_luminescence  \\\n",
              "id                                                            \n",
              "n003bba8a98662e4                                          2   \n",
              "n003bee128c2fcfc                                          2   \n",
              "n0048ac83aff7194                                          2   \n",
              "n00691bec80d3e02                                          2   \n",
              "n00b8720a2fdc4f2                                          2   \n",
              "\n",
              "                  feature_abating_unadaptable_weakfish  \\\n",
              "id                                                       \n",
              "n003bba8a98662e4                                     0   \n",
              "n003bee128c2fcfc                                     4   \n",
              "n0048ac83aff7194                                     4   \n",
              "n00691bec80d3e02                                     1   \n",
              "n00b8720a2fdc4f2                                     0   \n",
              "\n",
              "                  feature_abdominal_subtriplicate_fin  \\\n",
              "id                                                      \n",
              "n003bba8a98662e4                                    2   \n",
              "n003bee128c2fcfc                                    2   \n",
              "n0048ac83aff7194                                    2   \n",
              "n00691bec80d3e02                                    2   \n",
              "n00b8720a2fdc4f2                                    2   \n",
              "\n",
              "                  feature_abducent_unbeneficed_lithophyte  \\\n",
              "id                                                          \n",
              "n003bba8a98662e4                                        3   \n",
              "n003bee128c2fcfc                                        1   \n",
              "n0048ac83aff7194                                        2   \n",
              "n00691bec80d3e02                                        2   \n",
              "n00b8720a2fdc4f2                                        1   \n",
              "\n",
              "                  feature_abducted_euphonic_pipewort  \\\n",
              "id                                                     \n",
              "n003bba8a98662e4                                   2   \n",
              "n003bee128c2fcfc                                   2   \n",
              "n0048ac83aff7194                                   2   \n",
              "n00691bec80d3e02                                   2   \n",
              "n00b8720a2fdc4f2                                   2   \n",
              "\n",
              "                  feature_ablest_mauritanian_elding  \\\n",
              "id                                                    \n",
              "n003bba8a98662e4                                  4   \n",
              "n003bee128c2fcfc                                  2   \n",
              "n0048ac83aff7194                                  4   \n",
              "n00691bec80d3e02                                  4   \n",
              "n00b8720a2fdc4f2                                  2   \n",
              "\n",
              "                  feature_abreast_viscoelastic_commander  ...  \\\n",
              "id                                                        ...   \n",
              "n003bba8a98662e4                                       2  ...   \n",
              "n003bee128c2fcfc                                       2  ...   \n",
              "n0048ac83aff7194                                       4  ...   \n",
              "n00691bec80d3e02                                       2  ...   \n",
              "n00b8720a2fdc4f2                                       3  ...   \n",
              "\n",
              "                  feature_yelled_hysteretic_eath  \\\n",
              "id                                                 \n",
              "n003bba8a98662e4                               2   \n",
              "n003bee128c2fcfc                               3   \n",
              "n0048ac83aff7194                               1   \n",
              "n00691bec80d3e02                               2   \n",
              "n00b8720a2fdc4f2                               1   \n",
              "\n",
              "                  feature_yokelish_metapsychological_lunt  \\\n",
              "id                                                          \n",
              "n003bba8a98662e4                                        2   \n",
              "n003bee128c2fcfc                                        2   \n",
              "n0048ac83aff7194                                        2   \n",
              "n00691bec80d3e02                                        2   \n",
              "n00b8720a2fdc4f2                                        2   \n",
              "\n",
              "                  feature_yorkist_authenticated_lotted  \\\n",
              "id                                                       \n",
              "n003bba8a98662e4                                     2   \n",
              "n003bee128c2fcfc                                     2   \n",
              "n0048ac83aff7194                                     2   \n",
              "n00691bec80d3e02                                     2   \n",
              "n00b8720a2fdc4f2                                     2   \n",
              "\n",
              "                  feature_yoruban_purplish_directoire  \\\n",
              "id                                                      \n",
              "n003bba8a98662e4                                    2   \n",
              "n003bee128c2fcfc                                    2   \n",
              "n0048ac83aff7194                                    2   \n",
              "n00691bec80d3e02                                    2   \n",
              "n00b8720a2fdc4f2                                    2   \n",
              "\n",
              "                  feature_yoruban_unapplied_tawse  \\\n",
              "id                                                  \n",
              "n003bba8a98662e4                                2   \n",
              "n003bee128c2fcfc                                2   \n",
              "n0048ac83aff7194                                2   \n",
              "n00691bec80d3e02                                2   \n",
              "n00b8720a2fdc4f2                                2   \n",
              "\n",
              "                  feature_zincky_unseemly_butt  \\\n",
              "id                                               \n",
              "n003bba8a98662e4                             2   \n",
              "n003bee128c2fcfc                             2   \n",
              "n0048ac83aff7194                             2   \n",
              "n00691bec80d3e02                             2   \n",
              "n00b8720a2fdc4f2                             2   \n",
              "\n",
              "                  feature_zincoid_peccant_greywacke  \\\n",
              "id                                                    \n",
              "n003bba8a98662e4                                  2   \n",
              "n003bee128c2fcfc                                  2   \n",
              "n0048ac83aff7194                                  2   \n",
              "n00691bec80d3e02                                  2   \n",
              "n00b8720a2fdc4f2                                  2   \n",
              "\n",
              "                  feature_zoophoric_underglaze_algin  \\\n",
              "id                                                     \n",
              "n003bba8a98662e4                                   2   \n",
              "n003bee128c2fcfc                                   2   \n",
              "n0048ac83aff7194                                   2   \n",
              "n00691bec80d3e02                                   2   \n",
              "n00b8720a2fdc4f2                                   2   \n",
              "\n",
              "                  feature_zygodactyl_exponible_lathi  \\\n",
              "id                                                     \n",
              "n003bba8a98662e4                                   3   \n",
              "n003bee128c2fcfc                                   1   \n",
              "n0048ac83aff7194                                   2   \n",
              "n00691bec80d3e02                                   2   \n",
              "n00b8720a2fdc4f2                                   1   \n",
              "\n",
              "                  feature_zymotic_roundabout_figuration  \n",
              "id                                                       \n",
              "n003bba8a98662e4                                      2  \n",
              "n003bee128c2fcfc                                      2  \n",
              "n0048ac83aff7194                                      2  \n",
              "n00691bec80d3e02                                      2  \n",
              "n00b8720a2fdc4f2                                      2  \n",
              "\n",
              "[5 rows x 2378 columns]"
            ]
          },
          "execution_count": 10,
          "metadata": {},
          "output_type": "execute_result"
        }
      ],
      "source": [
        "# Define our feature set\n",
        "feature_set = feature_sets[\"all\"]\n",
        "\n",
        "# Download the training data - this will take a few minutes\n",
        "napi.download_dataset(f\"{DATA_VERSION}/train_int8.parquet\");\n",
        "\n",
        "# Load only the \"medium\" feature set to\n",
        "# Use the \"all\" feature set to use all features\n",
        "train = pd.read_parquet(\n",
        "    f\"{DATA_VERSION}/train_int8.parquet\",\n",
        "    columns=[\"era\", \"target\"] + feature_set\n",
        ")\n",
        "\n",
        "# Use only 100 rows of the data\n",
        "train = train.iloc[:100]"
      ]
    },
    {
      "cell_type": "code",
      "execution_count": null,
      "id": "8501a28d-da96-483c-b63f-1632b5135b4a",
      "metadata": {
        "id": "8501a28d-da96-483c-b63f-1632b5135b4a"
      },
      "outputs": [],
      "source": [
        "# Reset the index of our dataset\n",
        "train_set = train.reset_index()"
      ]
    },
    {
      "cell_type": "code",
      "execution_count": null,
      "id": "93911d53-6898-4484-8fbf-838dea8b76da",
      "metadata": {
        "id": "93911d53-6898-4484-8fbf-838dea8b76da"
      },
      "outputs": [],
      "source": [
        "# Extract the target and drop unnecessary columns for the train\n",
        "target = train_set['target']\n",
        "train = train_set.drop(columns=['era', 'id', 'target'])"
      ]
    },
    {
      "cell_type": "code",
      "execution_count": null,
      "id": "lMZ7rOvN7fLI",
      "metadata": {
        "id": "lMZ7rOvN7fLI"
      },
      "outputs": [],
      "source": [
        "# Use only 100 rows of the data\n",
        "target = target.iloc[:100]"
      ]
    },
    {
      "cell_type": "code",
      "execution_count": null,
      "id": "RVeb9uVTYD9X",
      "metadata": {
        "id": "RVeb9uVTYD9X"
      },
      "outputs": [],
      "source": [
        "# Turn sets into lists\n",
        "charisma = list(charisma)\n",
        "constitution = list(constitution)"
      ]
    },
    {
      "cell_type": "code",
      "execution_count": null,
      "id": "NCetM9TeZfU6",
      "metadata": {
        "id": "NCetM9TeZfU6"
      },
      "outputs": [],
      "source": [
        "# Obtain dataframes containing 'charisma' and 'constitution' features\n",
        "charisma_prep = train[charisma]\n",
        "constitution_prep = train[constitution]"
      ]
    },
    {
      "cell_type": "code",
      "execution_count": null,
      "id": "5XyDRRFqemAd",
      "metadata": {
        "id": "5XyDRRFqemAd"
      },
      "outputs": [],
      "source": [
        "# Define a function for padding\n",
        "def padding(df):\n",
        "  n_samples = df.shape[0]\n",
        "  n_features = len(df.columns)\n",
        "  desired_features = 335\n",
        "  padding_value = 0\n",
        "  padding_size = desired_features - n_features\n",
        "  padding_df = pd.DataFrame(np.zeros((n_samples, padding_size)), columns=[f'feature_{n_features + i}' for i in range(padding_size)])\n",
        "  padded_df = pd.concat([df, padding_df], axis=1)\n",
        "  return padded_df"
      ]
    },
    {
      "cell_type": "code",
      "execution_count": null,
      "id": "hJuVcCa2emkT",
      "metadata": {
        "id": "hJuVcCa2emkT"
      },
      "outputs": [],
      "source": [
        "# Padding the number of features to 335\n",
        "charisma_channel = padding(charisma_prep)\n",
        "constitution_channel = padding(constitution_prep)"
      ]
    },
    {
      "cell_type": "code",
      "execution_count": null,
      "id": "8IhN8jhqjEoP",
      "metadata": {
        "id": "8IhN8jhqjEoP"
      },
      "outputs": [],
      "source": [
        "# Combine two channels together\n",
        "channel_data = np.array([charisma_channel, constitution_channel])"
      ]
    },
    {
      "cell_type": "code",
      "execution_count": null,
      "id": "p8j3wEJR1KFa",
      "metadata": {
        "id": "p8j3wEJR1KFa"
      },
      "outputs": [],
      "source": [
        "# Reshape the data\n",
        "channel_data_reshaped = np.swapaxes(channel_data, 0, 1)"
      ]
    },
    {
      "cell_type": "code",
      "execution_count": null,
      "id": "XiErTdop1P0Q",
      "metadata": {
        "id": "XiErTdop1P0Q"
      },
      "outputs": [],
      "source": [
        "# Divide data into train, validation, and test sets\n",
        "channel_train, channel_remain, target_train, target_remain = train_test_split(channel_data_reshaped, target, test_size=0.3, random_state=42)\n",
        "channel_test, channel_val, target_test, target_val = train_test_split(channel_remain, target_remain, test_size=2/3, random_state=42)"
      ]
    },
    {
      "cell_type": "code",
      "execution_count": null,
      "id": "8e71bbd1-585f-45ae-81e0-7079bea77183",
      "metadata": {
        "id": "8e71bbd1-585f-45ae-81e0-7079bea77183"
      },
      "outputs": [],
      "source": [
        "# Turn sets into tensors\n",
        "channel_data = torch.Tensor(channel_data)\n",
        "target_train = torch.Tensor(target.values)\n",
        "channel_val = torch.Tensor(channel_val)\n",
        "target_val = torch.Tensor(target_val.values)\n",
        "channel_test = torch.Tensor(channel_test)\n",
        "target_test = torch.Tensor(target_test.values)"
      ]
    },
    {
      "cell_type": "code",
      "execution_count": null,
      "id": "ol28r0gDSN6Q",
      "metadata": {
        "id": "ol28r0gDSN6Q"
      },
      "outputs": [],
      "source": [
        "# Reshape the data\n",
        "channel_data = channel_data.permute(1, 0, 2)"
      ]
    },
    {
      "cell_type": "code",
      "execution_count": null,
      "id": "nQeG8FsHK2j1",
      "metadata": {
        "id": "nQeG8FsHK2j1"
      },
      "outputs": [],
      "source": [
        "# Add a dimension to the target sets\n",
        "target_train_resized = target_train.unsqueeze(1)\n",
        "target_val_resized = target_val.unsqueeze(1)\n",
        "target_test_resized = target_test.unsqueeze(1)"
      ]
    },
    {
      "cell_type": "code",
      "execution_count": null,
      "id": "8ac854eb-c4a7-49f1-a295-22f135b00587",
      "metadata": {
        "id": "8ac854eb-c4a7-49f1-a295-22f135b00587"
      },
      "outputs": [],
      "source": [
        "# Put tensors into dataloader\n",
        "train_loader = TensorDataset(channel_data, target_train_resized)\n",
        "train_dataloader = DataLoader(train_loader, batch_size=10, shuffle=True)\n",
        "\n",
        "validation_loader = TensorDataset(channel_val, target_val_resized)\n",
        "val_dataloader = DataLoader(validation_loader, batch_size=10, shuffle=False)\n",
        "\n",
        "test_loader = TensorDataset(channel_test, target_test_resized)\n",
        "test_dataloader = DataLoader(test_loader, batch_size=10, shuffle=False)"
      ]
    },
    {
      "cell_type": "markdown",
      "id": "0_JnoFe5e5kR",
      "metadata": {
        "id": "0_JnoFe5e5kR"
      },
      "source": [
        "## Design Model Architecture"
      ]
    },
    {
      "cell_type": "code",
      "execution_count": null,
      "id": "ec96331b-5653-4252-b620-d16d43e2e698",
      "metadata": {
        "colab": {
          "base_uri": "https://localhost:8080/"
        },
        "id": "ec96331b-5653-4252-b620-d16d43e2e698",
        "outputId": "ef0b515a-c494-4c97-8845-96944efb72cc"
      },
      "outputs": [
        {
          "name": "stdout",
          "output_type": "stream",
          "text": [
            "CNN(\n",
            "  (conv1): Conv1d(2, 32, kernel_size=(3,), stride=(2,), padding=(1,))\n",
            "  (batch_norm1): BatchNorm1d(32, eps=1e-05, momentum=0.1, affine=True, track_running_stats=True)\n",
            "  (maxpool1): MaxPool1d(kernel_size=3, stride=2, padding=0, dilation=1, ceil_mode=False)\n",
            "  (conv2): Conv1d(32, 64, kernel_size=(3,), stride=(2,), padding=(1,))\n",
            "  (batch_norm2): BatchNorm1d(64, eps=1e-05, momentum=0.1, affine=True, track_running_stats=True)\n",
            "  (adaptive_avg_pool): AdaptiveAvgPool1d(output_size=1)\n",
            "  (linear1): Linear(in_features=64, out_features=1, bias=True)\n",
            ")\n"
          ]
        }
      ],
      "source": [
        "class CNN(nn.Module):\n",
        "    def __init__(self):\n",
        "        super(CNN, self).__init__()\n",
        "        self.conv1 = nn.Conv1d(in_channels=2, out_channels=32, kernel_size=3, stride=2, padding=1)\n",
        "        self.batch_norm1 = nn.BatchNorm1d(num_features=32)\n",
        "        self.maxpool1 = nn.MaxPool1d(kernel_size=3, stride=2)\n",
        "        self.conv2 = nn.Conv1d(in_channels=32, out_channels=64, kernel_size=3, stride=2, padding=1)\n",
        "        self.batch_norm2 = nn.BatchNorm1d(num_features=64)\n",
        "        self.adaptive_avg_pool = nn.AdaptiveAvgPool1d(output_size=1)\n",
        "        self.linear1 = nn.Linear(64, 1)\n",
        "\n",
        "\n",
        "    def forward(self, x):\n",
        "        x = self.conv1(x)\n",
        "        x = torch.relu(x)\n",
        "        x = self.batch_norm1(x)\n",
        "        x = self.maxpool1(x)\n",
        "        x = self.conv2(x)\n",
        "        x = torch.relu(x)\n",
        "        x = self.batch_norm2(x)\n",
        "        x = self.adaptive_avg_pool(x)\n",
        "        x = torch.flatten(x, 1)\n",
        "        x = self.linear1(x)\n",
        "        x = torch.relu(x)\n",
        "\n",
        "        return x\n",
        "\n",
        "\n",
        "# Instantiate the model\n",
        "model = CNN()\n",
        "if gpu_available and use_gpu:\n",
        "  model = model.cuda()\n",
        "# Print the model architecture\n",
        "print(model)"
      ]
    },
    {
      "cell_type": "code",
      "execution_count": null,
      "id": "05d2cbac-6579-4a3f-b113-decf11066a66",
      "metadata": {
        "colab": {
          "base_uri": "https://localhost:8080/"
        },
        "id": "05d2cbac-6579-4a3f-b113-decf11066a66",
        "outputId": "d0a174d8-543a-4e04-b8e9-df74ef6fea3f"
      },
      "outputs": [
        {
          "data": {
            "text/plain": [
              "==========================================================================================\n",
              "Layer (type:depth-idx)                   Output Shape              Param #\n",
              "==========================================================================================\n",
              "CNN                                      [10, 1]                   --\n",
              "├─Conv1d: 1-1                            [10, 32, 168]             224\n",
              "├─BatchNorm1d: 1-2                       [10, 32, 168]             64\n",
              "├─MaxPool1d: 1-3                         [10, 32, 83]              --\n",
              "├─Conv1d: 1-4                            [10, 64, 42]              6,208\n",
              "├─BatchNorm1d: 1-5                       [10, 64, 42]              128\n",
              "├─AdaptiveAvgPool1d: 1-6                 [10, 64, 1]               --\n",
              "├─Linear: 1-7                            [10, 1]                   65\n",
              "==========================================================================================\n",
              "Total params: 6,689\n",
              "Trainable params: 6,689\n",
              "Non-trainable params: 0\n",
              "Total mult-adds (M): 2.99\n",
              "==========================================================================================\n",
              "Input size (MB): 0.03\n",
              "Forward/backward pass size (MB): 1.29\n",
              "Params size (MB): 0.03\n",
              "Estimated Total Size (MB): 1.34\n",
              "=========================================================================================="
            ]
          },
          "execution_count": 10,
          "metadata": {},
          "output_type": "execute_result"
        }
      ],
      "source": [
        "# Display the model summary\n",
        "summary(model, (10, 2, 335))"
      ]
    },
    {
      "cell_type": "code",
      "execution_count": null,
      "id": "1fd5bcf0-4242-4f5b-9ba3-e5e5fcb03c5a",
      "metadata": {
        "id": "1fd5bcf0-4242-4f5b-9ba3-e5e5fcb03c5a"
      },
      "outputs": [],
      "source": [
        "# Choose optimizer\n",
        "optimizer = optim.Adam(model.parameters(), lr=0.001, weight_decay=0.001)"
      ]
    },
    {
      "cell_type": "code",
      "execution_count": null,
      "id": "d19c5d77-344a-42b5-8849-8e3e534c79d4",
      "metadata": {
        "id": "d19c5d77-344a-42b5-8849-8e3e534c79d4"
      },
      "outputs": [],
      "source": [
        "# Choose loss function\n",
        "criterion = nn.L1Loss()"
      ]
    },
    {
      "cell_type": "code",
      "execution_count": null,
      "id": "c0160a1e-c5e7-4e50-bfeb-c9c948ab4197",
      "metadata": {
        "id": "c0160a1e-c5e7-4e50-bfeb-c9c948ab4197"
      },
      "outputs": [],
      "source": [
        "# Define a function to track the loss of each epoch\n",
        "def get_loss(loader, model):\n",
        "  with torch.no_grad(): # Anything under torch.no_grad will be calculated with no gradients. Can only be used for testing, not training!\n",
        "\n",
        "    loss = 0\n",
        "    for i, (features, targets) in enumerate(loader): # The batches.\n",
        "          if gpu_available and use_gpu:\n",
        "              features = features.cuda()\n",
        "              targets = targets.cuda()\n",
        "          outputs = model(features)\n",
        "\n",
        "          loss = loss + criterion(outputs, targets)\n",
        "    return loss/ len(loader)"
      ]
    },
    {
      "cell_type": "code",
      "execution_count": null,
      "id": "6cffdbbf-5b58-4918-96c8-c479fd17b27d",
      "metadata": {
        "id": "6cffdbbf-5b58-4918-96c8-c479fd17b27d"
      },
      "outputs": [],
      "source": [
        "# Define early stop function\n",
        "class EarlyStopper:\n",
        "    def __init__(self, patience=1):\n",
        "        self.patience = patience\n",
        "        self.counter = 0\n",
        "        self.min_validation_loss = float('inf')\n",
        "\n",
        "    def early_stop(self, validation_loss):\n",
        "        # If the new loss is lower than the old loss, reset the counter!\n",
        "        if validation_loss < self.min_validation_loss:\n",
        "            self.min_validation_loss = validation_loss\n",
        "            self.counter = 0\n",
        "            # Keep track of the best model by saving it on the hard drive.\n",
        "            torch.save(model, r\"./best_model.pt\")\n",
        "        # otherwise, increment the counter.\n",
        "        elif validation_loss > self.min_validation_loss:\n",
        "            self.counter += 1\n",
        "            # If there has been too many epochs with the loss being high, terminate.\n",
        "            if self.counter >= self.patience:\n",
        "                return True\n",
        "        return False"
      ]
    },
    {
      "cell_type": "code",
      "execution_count": null,
      "id": "RVqsnbaEebEY",
      "metadata": {
        "id": "RVqsnbaEebEY"
      },
      "outputs": [],
      "source": [
        "# Instantiate early stopping\n",
        "early_stopper = EarlyStopper(patience=3)"
      ]
    },
    {
      "cell_type": "markdown",
      "id": "ThMDx6SJfBOP",
      "metadata": {
        "id": "ThMDx6SJfBOP"
      },
      "source": [
        "## Train CNN Model on the Reconstructed Data"
      ]
    },
    {
      "cell_type": "code",
      "execution_count": null,
      "id": "db3361f3-9d1c-4577-b944-b12a72f32564",
      "metadata": {
        "colab": {
          "base_uri": "https://localhost:8080/"
        },
        "id": "db3361f3-9d1c-4577-b944-b12a72f32564",
        "outputId": "6b4fb438-f22f-4194-c502-21049541064c"
      },
      "outputs": [
        {
          "name": "stdout",
          "output_type": "stream",
          "text": [
            "Epoch 1  batch 1 . Training Loss:  0.6903325319290161\n",
            "Epoch 1  batch 3 . Training Loss:  0.49306827783584595\n",
            "Epoch 1  batch 5 . Training Loss:  0.49187278747558594\n",
            "Epoch 1  batch 7 . Training Loss:  0.43141603469848633\n",
            "Epoch 1  batch 9 . Training Loss:  0.43294939398765564\n",
            "Epoch [1/5], Train Loss: 0.4084923267364502, Validation Loss: 0.37857121229171753\n",
            "Epoch 2  batch 1 . Training Loss:  0.5049095153808594\n",
            "Epoch 2  batch 3 . Training Loss:  0.482426255941391\n",
            "Epoch 2  batch 5 . Training Loss:  0.23577530682086945\n",
            "Epoch 2  batch 7 . Training Loss:  0.41562342643737793\n",
            "Epoch 2  batch 9 . Training Loss:  0.4032500386238098\n",
            "Epoch [2/5], Train Loss: 0.4043997824192047, Validation Loss: 0.356304407119751\n",
            "Epoch 3  batch 1 . Training Loss:  0.4563234746456146\n",
            "Epoch 3  batch 3 . Training Loss:  0.27815306186676025\n",
            "Epoch 3  batch 5 . Training Loss:  0.38014858961105347\n",
            "Epoch 3  batch 7 . Training Loss:  0.36539992690086365\n",
            "Epoch 3  batch 9 . Training Loss:  0.2529497444629669\n",
            "Epoch [3/5], Train Loss: 0.37614092230796814, Validation Loss: 0.35664623975753784\n",
            "Epoch 4  batch 1 . Training Loss:  0.3369724452495575\n",
            "Epoch 4  batch 3 . Training Loss:  0.3213652968406677\n",
            "Epoch 4  batch 5 . Training Loss:  0.3591937720775604\n",
            "Epoch 4  batch 7 . Training Loss:  0.4071473777294159\n",
            "Epoch 4  batch 9 . Training Loss:  0.4295933246612549\n",
            "Epoch [4/5], Train Loss: 0.3608754575252533, Validation Loss: 0.35734623670578003\n",
            "Epoch 5  batch 1 . Training Loss:  0.2916880249977112\n",
            "Epoch 5  batch 3 . Training Loss:  0.3064615726470947\n",
            "Epoch 5  batch 5 . Training Loss:  0.21328715980052948\n",
            "Epoch 5  batch 7 . Training Loss:  0.4177754521369934\n",
            "Epoch 5  batch 9 . Training Loss:  0.41490983963012695\n",
            "Epoch [5/5], Train Loss: 0.3103339970111847, Validation Loss: 0.33251145482063293\n"
          ]
        }
      ],
      "source": [
        "# Train the model\n",
        "for epoch in range(5):\n",
        "    for i, (features, targets) in enumerate(train_dataloader):\n",
        "        model.train()\n",
        "        optimizer.zero_grad()\n",
        "        if gpu_available and use_gpu:\n",
        "          features = features.cuda()\n",
        "          targets = targets.cuda()\n",
        "        outputs = model(features)\n",
        "        loss = criterion(outputs, targets)\n",
        "        loss.backward()\n",
        "        optimizer.step()\n",
        "\n",
        "        if i % 2 == 0:\n",
        "          print(\"Epoch\", epoch + 1, \" batch\", i+1, \". Training Loss: \", loss.item())\n",
        "\n",
        "    training_loss = get_loss(train_dataloader, model)\n",
        "    validation_loss = get_loss(val_dataloader, model)\n",
        "    print(f'Epoch [{epoch + 1}/{5}], Train Loss: {training_loss.item()}, Validation Loss: {validation_loss.item()}')\n",
        "\n",
        "    if early_stopper.early_stop(validation_loss):\n",
        "        print(\"Validation loss hasn't dropped. Early stopping!\")\n",
        "        break"
      ]
    },
    {
      "cell_type": "markdown",
      "id": "nKBWihdJfQLv",
      "metadata": {
        "id": "nKBWihdJfQLv"
      },
      "source": [
        "## Evaluate Model Performance on the Test Set"
      ]
    },
    {
      "cell_type": "code",
      "execution_count": null,
      "id": "S0YjZQG9o_Zb",
      "metadata": {
        "colab": {
          "base_uri": "https://localhost:8080/"
        },
        "id": "S0YjZQG9o_Zb",
        "outputId": "0393eca0-74a8-4e47-cba3-e7fdb48094fa"
      },
      "outputs": [
        {
          "name": "stdout",
          "output_type": "stream",
          "text": [
            "best model performance Test set: tensor(0.2328, device='cuda:0')\n"
          ]
        }
      ],
      "source": [
        "# Once training is done, load the best model (might not be the last model due to early stopping)\n",
        "model1 = torch.load(r\"./best_model.pt\")\n",
        "test_loss = get_loss(test_dataloader, model1)\n",
        "print(\"best model performance Test set:\", test_loss)"
      ]
    }
  ],
  "metadata": {
    "accelerator": "GPU",
    "colab": {
      "gpuType": "T4",
      "machine_shape": "hm",
      "toc_visible": true,
      "provenance": []
    },
    "environment": {
      "kernel": "python3",
      "name": "common-cpu.m119",
      "type": "gcloud",
      "uri": "us-docker.pkg.dev/deeplearning-platform-release/gcr.io/base-cpu:m119"
    },
    "kernelspec": {
      "display_name": "Python 3",
      "name": "python3"
    },
    "language_info": {
      "codemirror_mode": {
        "name": "ipython",
        "version": 3
      },
      "file_extension": ".py",
      "mimetype": "text/x-python",
      "name": "python",
      "nbconvert_exporter": "python",
      "pygments_lexer": "ipython3",
      "version": "3.10.14"
    }
  },
  "nbformat": 4,
  "nbformat_minor": 5
}